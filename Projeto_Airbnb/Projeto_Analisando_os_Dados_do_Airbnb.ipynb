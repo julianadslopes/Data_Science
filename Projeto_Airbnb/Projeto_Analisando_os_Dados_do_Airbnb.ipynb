{
  "nbformat": 4,
  "nbformat_minor": 0,
  "metadata": {
    "colab": {
      "provenance": []
    },
    "kernelspec": {
      "name": "python3",
      "display_name": "Python 3"
    }
  },
  "cells": [
    {
      "cell_type": "markdown",
      "metadata": {
        "id": "kLI0gJtzDGuQ"
      },
      "source": [
        "<img alt=\"bruno logo\" width=\"15%\" src=\"https://raw.githubusercontent.com/brunobonatini/Data_Science/main/logo.png\">\n",
        "\n",
        "#### **Data Scientist & Analyst**\n",
        "*by [Bruno Bonatini](https://www.linkedin.com/in/bsbonatini/)*\n",
        "\n",
        "---"
      ]
    },
    {
      "cell_type": "markdown",
      "source": [
        "# Análise de Dados do Airbnb - *Los Angeles - Califórnia*\n",
        "\n",
        "---\n",
        "\n",
        "<center><img alt=\"Colaboratory logo\" width=\"100%\" src=\"https://raw.githubusercontent.com/brunobonatini/Data_Science/main/Projeto_Airbnb/vista-aerea-losangeles.jpg\"></center>\n",
        "\n",
        "O [Airbnb]('https://www.airbnb.com.br/') é considerado a maior empresa de hotelaria da atualidade. O detalhe é que a empresa não possui nenhum hotel próprio.\n",
        "\n",
        "Fazendo a conexão com pessoas que querem viajar (e se hospedar) com proprietários que querem alugar seus imóveis de maneira prática, o Airbnb fornece uma plataforma inovadora e prática, tornando assim uma alternativa de hospedagem para todos.\n",
        "\n",
        "No final de 2018, a Startup fundada há 10 anos atrás, já havia hospedado **mais de 300 milhões de pessoas** ao redor do mundo, desafiando redes hoteleiras tradicionais.\n",
        "\n",
        "Uma das iniciativas do Airbnb muito legal, é disponibilizar os dados do site de algumas das principais cidades do mundo. Pelo meio do [Portal Airbnb](http://insideairbnb.com/get-the-data/) é possível baixar uma grande quantidade de dados para desenvolver projetos de Data Science."
      ],
      "metadata": {
        "id": "uCBx6Nk1R5Be"
      }
    },
    {
      "cell_type": "markdown",
      "source": [
        "**Neste notebook analisaremos dados da cidade de Los Angeles e veremos quais insights podemos extrair dos dados brutos.**\n",
        "\n",
        "***Los Angeles*** é a capital mundial do entretenimento, cidade que abriga o maior número de estúdios de filmes, praias belíssimas onde o surf longboard torna-se a atração principal. E quem nunca ouviu falar da \"Calçada da Fama\" em Hollywood e das \"Patricinhas\" de Beverly Hills?\n",
        "\n",
        "***Los Angeles*** tem como idioma principal o Inglês, sua moeda é o Dólar e uma de suas comidas típicas principais é o \"RAMEN BURRITO\" que nada mais é do que macarrão com ovos, carnes, bacon e cebolinha se unindo em matrimônio num delicioso Wrap. \n",
        "\n",
        "Trarei algumas análises para quem deseja se hospedar em Los Angeles, ou para passar as férias ou até mesmo para passar uns dias e conhecer esta cidade tão famosa."
      ],
      "metadata": {
        "id": "hdQUchigTd4-"
      }
    },
    {
      "cell_type": "markdown",
      "metadata": {
        "id": "0zxQHhIUDF_2"
      },
      "source": [
        "## Obtenção dos Dados\n",
        "\n",
        "Todos os dados que utilizei neste projeto foram obtidos a partir do site [Portal Airbnb](http://insideairbnb.com/get-the-data/).\n",
        "\n",
        "Para esta análise exploratória inicial, será baixado o seguinte arquivo:\n",
        "\n",
        "*   ***listing.csv - Summary information and metrics for insights in Los Angeles  (good for visualisations).***\n",
        "\n",
        "Importante: Como o Portal com os dados está em constante evolução, pode ser que este arquivo não esteja mais disponível quando estiver visualizando este projeto.\n",
        "\n",
        "Portanto deixo disponível [aqui](https://drive.google.com/file/d/1VxqnkLge6vHjy3BLm1W04p9iW4iwzL4H/view?usp=share_link) o link do arquivo oficial deste projeto para download.\n"
      ]
    },
    {
      "cell_type": "markdown",
      "source": [
        "#Importando os pacotes necessários para desenvolver o projeto"
      ],
      "metadata": {
        "id": "npsMpJlsTmNU"
      }
    },
    {
      "cell_type": "code",
      "metadata": {
        "id": "Vhp2wMPgJ6zX"
      },
      "source": [
        "# importando os pacotes\n",
        "\n",
        "import pandas as pd\n",
        "import matplotlib.pyplot as plt\n",
        "import seaborn as sns\n",
        "\n",
        "%matplotlib inline"
      ],
      "execution_count": null,
      "outputs": []
    },
    {
      "cell_type": "markdown",
      "source": [
        "Com os pacotes importados, vamos ler o arquivo `.csv` e fazer uma breve visualização das primeiras e últimas entradas para que possamos descrever suas variáveis e assim compreender melhor os dados.\n",
        "\n"
      ],
      "metadata": {
        "id": "FVPZx75uT57U"
      }
    },
    {
      "cell_type": "code",
      "metadata": {
        "id": "tUmoAT8DLQ5T"
      },
      "source": [
        "# importando o arquivo listings.csv para um DataFrame\n",
        "\n",
        "df = pd.read_csv('https://raw.githubusercontent.com/brunobonatini/Data_Science/main/Projeto_Airbnb/listings_losangeles.csv')"
      ],
      "execution_count": null,
      "outputs": []
    },
    {
      "cell_type": "code",
      "metadata": {
        "id": "2iS_dae7YQtO",
        "colab": {
          "base_uri": "https://localhost:8080/",
          "height": 565
        },
        "outputId": "30790389-a83e-4004-b247-1d08cb4d0896"
      },
      "source": [
        "# visualizando as 5 primeiras entradas\n",
        "\n",
        "df.head()\n"
      ],
      "execution_count": null,
      "outputs": [
        {
          "output_type": "execute_result",
          "data": {
            "text/plain": [
              "       id                                               name  host_id  \\\n",
              "0     109  Amazing bright elegant condo park front *UPGRA...      521   \n",
              "1    2708  Runyon Canyon | Beau Furn Mirror Mini-Suite Fi...     3008   \n",
              "2    2732                              Zen Life at the Beach     3041   \n",
              "3   65467                       A Luxury Home in Los Angeles    61864   \n",
              "4  206662                 Hollywood & Hiking, 30 day minimum    33861   \n",
              "\n",
              "        host_name  neighbourhood_group         neighbourhood  latitude  \\\n",
              "0           Paolo         Other Cities           Culver City  33.98301   \n",
              "1           Chas.  City of Los Angeles             Hollywood  34.09625   \n",
              "2  Yoga Priestess         Other Cities          Santa Monica  34.00440   \n",
              "3         Olivier         Other Cities           Culver City  34.02438   \n",
              "4           Kevin  City of Los Angeles  Hollywood Hills West  34.10420   \n",
              "\n",
              "   longitude        room_type  price  minimum_nights  number_of_reviews  \\\n",
              "0 -118.38607  Entire home/apt    115              30                  2   \n",
              "1 -118.34605     Private room    118              30                 38   \n",
              "2 -118.48095     Private room    179               7                 24   \n",
              "3 -118.38374     Private room    300              60                  0   \n",
              "4 -118.34748     Private room     46              30                 95   \n",
              "\n",
              "  last_review  reviews_per_month  calculated_host_listings_count  \\\n",
              "0  2016-05-15               0.01                               1   \n",
              "1  2022-11-29               0.37                               2   \n",
              "2  2022-08-21               0.17                               2   \n",
              "3         NaN                NaN                               2   \n",
              "4  2022-08-11               0.71                               1   \n",
              "\n",
              "   availability_365  number_of_reviews_ltm license  \n",
              "0               227                      0     NaN  \n",
              "1               239                      5     NaN  \n",
              "2               365                      3     NaN  \n",
              "3               365                      0     NaN  \n",
              "4                84                      4     NaN  "
            ],
            "text/html": [
              "\n",
              "  <div id=\"df-1e2aa924-7f23-4fae-9e50-3cca668ab5a8\">\n",
              "    <div class=\"colab-df-container\">\n",
              "      <div>\n",
              "<style scoped>\n",
              "    .dataframe tbody tr th:only-of-type {\n",
              "        vertical-align: middle;\n",
              "    }\n",
              "\n",
              "    .dataframe tbody tr th {\n",
              "        vertical-align: top;\n",
              "    }\n",
              "\n",
              "    .dataframe thead th {\n",
              "        text-align: right;\n",
              "    }\n",
              "</style>\n",
              "<table border=\"1\" class=\"dataframe\">\n",
              "  <thead>\n",
              "    <tr style=\"text-align: right;\">\n",
              "      <th></th>\n",
              "      <th>id</th>\n",
              "      <th>name</th>\n",
              "      <th>host_id</th>\n",
              "      <th>host_name</th>\n",
              "      <th>neighbourhood_group</th>\n",
              "      <th>neighbourhood</th>\n",
              "      <th>latitude</th>\n",
              "      <th>longitude</th>\n",
              "      <th>room_type</th>\n",
              "      <th>price</th>\n",
              "      <th>minimum_nights</th>\n",
              "      <th>number_of_reviews</th>\n",
              "      <th>last_review</th>\n",
              "      <th>reviews_per_month</th>\n",
              "      <th>calculated_host_listings_count</th>\n",
              "      <th>availability_365</th>\n",
              "      <th>number_of_reviews_ltm</th>\n",
              "      <th>license</th>\n",
              "    </tr>\n",
              "  </thead>\n",
              "  <tbody>\n",
              "    <tr>\n",
              "      <th>0</th>\n",
              "      <td>109</td>\n",
              "      <td>Amazing bright elegant condo park front *UPGRA...</td>\n",
              "      <td>521</td>\n",
              "      <td>Paolo</td>\n",
              "      <td>Other Cities</td>\n",
              "      <td>Culver City</td>\n",
              "      <td>33.98301</td>\n",
              "      <td>-118.38607</td>\n",
              "      <td>Entire home/apt</td>\n",
              "      <td>115</td>\n",
              "      <td>30</td>\n",
              "      <td>2</td>\n",
              "      <td>2016-05-15</td>\n",
              "      <td>0.01</td>\n",
              "      <td>1</td>\n",
              "      <td>227</td>\n",
              "      <td>0</td>\n",
              "      <td>NaN</td>\n",
              "    </tr>\n",
              "    <tr>\n",
              "      <th>1</th>\n",
              "      <td>2708</td>\n",
              "      <td>Runyon Canyon | Beau Furn Mirror Mini-Suite Fi...</td>\n",
              "      <td>3008</td>\n",
              "      <td>Chas.</td>\n",
              "      <td>City of Los Angeles</td>\n",
              "      <td>Hollywood</td>\n",
              "      <td>34.09625</td>\n",
              "      <td>-118.34605</td>\n",
              "      <td>Private room</td>\n",
              "      <td>118</td>\n",
              "      <td>30</td>\n",
              "      <td>38</td>\n",
              "      <td>2022-11-29</td>\n",
              "      <td>0.37</td>\n",
              "      <td>2</td>\n",
              "      <td>239</td>\n",
              "      <td>5</td>\n",
              "      <td>NaN</td>\n",
              "    </tr>\n",
              "    <tr>\n",
              "      <th>2</th>\n",
              "      <td>2732</td>\n",
              "      <td>Zen Life at the Beach</td>\n",
              "      <td>3041</td>\n",
              "      <td>Yoga Priestess</td>\n",
              "      <td>Other Cities</td>\n",
              "      <td>Santa Monica</td>\n",
              "      <td>34.00440</td>\n",
              "      <td>-118.48095</td>\n",
              "      <td>Private room</td>\n",
              "      <td>179</td>\n",
              "      <td>7</td>\n",
              "      <td>24</td>\n",
              "      <td>2022-08-21</td>\n",
              "      <td>0.17</td>\n",
              "      <td>2</td>\n",
              "      <td>365</td>\n",
              "      <td>3</td>\n",
              "      <td>NaN</td>\n",
              "    </tr>\n",
              "    <tr>\n",
              "      <th>3</th>\n",
              "      <td>65467</td>\n",
              "      <td>A Luxury Home in Los Angeles</td>\n",
              "      <td>61864</td>\n",
              "      <td>Olivier</td>\n",
              "      <td>Other Cities</td>\n",
              "      <td>Culver City</td>\n",
              "      <td>34.02438</td>\n",
              "      <td>-118.38374</td>\n",
              "      <td>Private room</td>\n",
              "      <td>300</td>\n",
              "      <td>60</td>\n",
              "      <td>0</td>\n",
              "      <td>NaN</td>\n",
              "      <td>NaN</td>\n",
              "      <td>2</td>\n",
              "      <td>365</td>\n",
              "      <td>0</td>\n",
              "      <td>NaN</td>\n",
              "    </tr>\n",
              "    <tr>\n",
              "      <th>4</th>\n",
              "      <td>206662</td>\n",
              "      <td>Hollywood &amp; Hiking, 30 day minimum</td>\n",
              "      <td>33861</td>\n",
              "      <td>Kevin</td>\n",
              "      <td>City of Los Angeles</td>\n",
              "      <td>Hollywood Hills West</td>\n",
              "      <td>34.10420</td>\n",
              "      <td>-118.34748</td>\n",
              "      <td>Private room</td>\n",
              "      <td>46</td>\n",
              "      <td>30</td>\n",
              "      <td>95</td>\n",
              "      <td>2022-08-11</td>\n",
              "      <td>0.71</td>\n",
              "      <td>1</td>\n",
              "      <td>84</td>\n",
              "      <td>4</td>\n",
              "      <td>NaN</td>\n",
              "    </tr>\n",
              "  </tbody>\n",
              "</table>\n",
              "</div>\n",
              "      <button class=\"colab-df-convert\" onclick=\"convertToInteractive('df-1e2aa924-7f23-4fae-9e50-3cca668ab5a8')\"\n",
              "              title=\"Convert this dataframe to an interactive table.\"\n",
              "              style=\"display:none;\">\n",
              "        \n",
              "  <svg xmlns=\"http://www.w3.org/2000/svg\" height=\"24px\"viewBox=\"0 0 24 24\"\n",
              "       width=\"24px\">\n",
              "    <path d=\"M0 0h24v24H0V0z\" fill=\"none\"/>\n",
              "    <path d=\"M18.56 5.44l.94 2.06.94-2.06 2.06-.94-2.06-.94-.94-2.06-.94 2.06-2.06.94zm-11 1L8.5 8.5l.94-2.06 2.06-.94-2.06-.94L8.5 2.5l-.94 2.06-2.06.94zm10 10l.94 2.06.94-2.06 2.06-.94-2.06-.94-.94-2.06-.94 2.06-2.06.94z\"/><path d=\"M17.41 7.96l-1.37-1.37c-.4-.4-.92-.59-1.43-.59-.52 0-1.04.2-1.43.59L10.3 9.45l-7.72 7.72c-.78.78-.78 2.05 0 2.83L4 21.41c.39.39.9.59 1.41.59.51 0 1.02-.2 1.41-.59l7.78-7.78 2.81-2.81c.8-.78.8-2.07 0-2.86zM5.41 20L4 18.59l7.72-7.72 1.47 1.35L5.41 20z\"/>\n",
              "  </svg>\n",
              "      </button>\n",
              "      \n",
              "  <style>\n",
              "    .colab-df-container {\n",
              "      display:flex;\n",
              "      flex-wrap:wrap;\n",
              "      gap: 12px;\n",
              "    }\n",
              "\n",
              "    .colab-df-convert {\n",
              "      background-color: #E8F0FE;\n",
              "      border: none;\n",
              "      border-radius: 50%;\n",
              "      cursor: pointer;\n",
              "      display: none;\n",
              "      fill: #1967D2;\n",
              "      height: 32px;\n",
              "      padding: 0 0 0 0;\n",
              "      width: 32px;\n",
              "    }\n",
              "\n",
              "    .colab-df-convert:hover {\n",
              "      background-color: #E2EBFA;\n",
              "      box-shadow: 0px 1px 2px rgba(60, 64, 67, 0.3), 0px 1px 3px 1px rgba(60, 64, 67, 0.15);\n",
              "      fill: #174EA6;\n",
              "    }\n",
              "\n",
              "    [theme=dark] .colab-df-convert {\n",
              "      background-color: #3B4455;\n",
              "      fill: #D2E3FC;\n",
              "    }\n",
              "\n",
              "    [theme=dark] .colab-df-convert:hover {\n",
              "      background-color: #434B5C;\n",
              "      box-shadow: 0px 1px 3px 1px rgba(0, 0, 0, 0.15);\n",
              "      filter: drop-shadow(0px 1px 2px rgba(0, 0, 0, 0.3));\n",
              "      fill: #FFFFFF;\n",
              "    }\n",
              "  </style>\n",
              "\n",
              "      <script>\n",
              "        const buttonEl =\n",
              "          document.querySelector('#df-1e2aa924-7f23-4fae-9e50-3cca668ab5a8 button.colab-df-convert');\n",
              "        buttonEl.style.display =\n",
              "          google.colab.kernel.accessAllowed ? 'block' : 'none';\n",
              "\n",
              "        async function convertToInteractive(key) {\n",
              "          const element = document.querySelector('#df-1e2aa924-7f23-4fae-9e50-3cca668ab5a8');\n",
              "          const dataTable =\n",
              "            await google.colab.kernel.invokeFunction('convertToInteractive',\n",
              "                                                     [key], {});\n",
              "          if (!dataTable) return;\n",
              "\n",
              "          const docLinkHtml = 'Like what you see? Visit the ' +\n",
              "            '<a target=\"_blank\" href=https://colab.research.google.com/notebooks/data_table.ipynb>data table notebook</a>'\n",
              "            + ' to learn more about interactive tables.';\n",
              "          element.innerHTML = '';\n",
              "          dataTable['output_type'] = 'display_data';\n",
              "          await google.colab.output.renderOutput(dataTable, element);\n",
              "          const docLink = document.createElement('div');\n",
              "          docLink.innerHTML = docLinkHtml;\n",
              "          element.appendChild(docLink);\n",
              "        }\n",
              "      </script>\n",
              "    </div>\n",
              "  </div>\n",
              "  "
            ]
          },
          "metadata": {},
          "execution_count": 3
        }
      ]
    },
    {
      "cell_type": "code",
      "source": [
        "# visualizando as 5 últimas entradas\n",
        "\n",
        "df.tail()"
      ],
      "metadata": {
        "colab": {
          "base_uri": "https://localhost:8080/",
          "height": 548
        },
        "id": "6MfXYD2U4bwj",
        "outputId": "9f970a7b-d5c0-48e7-c2b8-d84abd650437"
      },
      "execution_count": null,
      "outputs": [
        {
          "output_type": "execute_result",
          "data": {
            "text/plain": [
              "                       id                                  name    host_id  \\\n",
              "40433  774860592421665035      Cozy Hollywood Studio with Patio  458988009   \n",
              "40434  774864578948159716      Playa Vista  2BR W/ Private Wifi  187543153   \n",
              "40435  774866706304798119          Centrally Located LA Retreat   41968542   \n",
              "40436  774872573559544018  2BR Bungalow in Culver City-Near LAX  462077128   \n",
              "40437  774889783296314664                 洛杉矶*熙臻行馆Venetian 独立雅房  183748799   \n",
              "\n",
              "       host_name  neighbourhood_group   neighbourhood   latitude   longitude  \\\n",
              "40433  Hollywood         Other Cities  West Hollywood  34.091006 -118.344620   \n",
              "40434     Elliot  City of Los Angeles     Playa Vista  33.975508 -118.430657   \n",
              "40435         Mo  City of Los Angeles    Leimert Park  34.014228 -118.320888   \n",
              "40436     Aileen         Other Cities     Culver City  33.985194 -118.393408   \n",
              "40437        Amy         Other Cities        Alhambra  34.070314 -118.134431   \n",
              "\n",
              "             room_type  price  minimum_nights  number_of_reviews last_review  \\\n",
              "40433  Entire home/apt    128               3                  0         NaN   \n",
              "40434  Entire home/apt    180              30                  0         NaN   \n",
              "40435  Entire home/apt    104              30                  0         NaN   \n",
              "40436  Entire home/apt    167               1                  0         NaN   \n",
              "40437     Private room     81               2                  0         NaN   \n",
              "\n",
              "       reviews_per_month  calculated_host_listings_count  availability_365  \\\n",
              "40433                NaN                              24               176   \n",
              "40434                NaN                              56                30   \n",
              "40435                NaN                               3               144   \n",
              "40436                NaN                               6               360   \n",
              "40437                NaN                              44               364   \n",
              "\n",
              "       number_of_reviews_ltm license  \n",
              "40433                      0     NaN  \n",
              "40434                      0     NaN  \n",
              "40435                      0     NaN  \n",
              "40436                      0     NaN  \n",
              "40437                      0     NaN  "
            ],
            "text/html": [
              "\n",
              "  <div id=\"df-78cd6cad-30ac-4b9a-add9-b5bb3e709d54\">\n",
              "    <div class=\"colab-df-container\">\n",
              "      <div>\n",
              "<style scoped>\n",
              "    .dataframe tbody tr th:only-of-type {\n",
              "        vertical-align: middle;\n",
              "    }\n",
              "\n",
              "    .dataframe tbody tr th {\n",
              "        vertical-align: top;\n",
              "    }\n",
              "\n",
              "    .dataframe thead th {\n",
              "        text-align: right;\n",
              "    }\n",
              "</style>\n",
              "<table border=\"1\" class=\"dataframe\">\n",
              "  <thead>\n",
              "    <tr style=\"text-align: right;\">\n",
              "      <th></th>\n",
              "      <th>id</th>\n",
              "      <th>name</th>\n",
              "      <th>host_id</th>\n",
              "      <th>host_name</th>\n",
              "      <th>neighbourhood_group</th>\n",
              "      <th>neighbourhood</th>\n",
              "      <th>latitude</th>\n",
              "      <th>longitude</th>\n",
              "      <th>room_type</th>\n",
              "      <th>price</th>\n",
              "      <th>minimum_nights</th>\n",
              "      <th>number_of_reviews</th>\n",
              "      <th>last_review</th>\n",
              "      <th>reviews_per_month</th>\n",
              "      <th>calculated_host_listings_count</th>\n",
              "      <th>availability_365</th>\n",
              "      <th>number_of_reviews_ltm</th>\n",
              "      <th>license</th>\n",
              "    </tr>\n",
              "  </thead>\n",
              "  <tbody>\n",
              "    <tr>\n",
              "      <th>40433</th>\n",
              "      <td>774860592421665035</td>\n",
              "      <td>Cozy Hollywood Studio with Patio</td>\n",
              "      <td>458988009</td>\n",
              "      <td>Hollywood</td>\n",
              "      <td>Other Cities</td>\n",
              "      <td>West Hollywood</td>\n",
              "      <td>34.091006</td>\n",
              "      <td>-118.344620</td>\n",
              "      <td>Entire home/apt</td>\n",
              "      <td>128</td>\n",
              "      <td>3</td>\n",
              "      <td>0</td>\n",
              "      <td>NaN</td>\n",
              "      <td>NaN</td>\n",
              "      <td>24</td>\n",
              "      <td>176</td>\n",
              "      <td>0</td>\n",
              "      <td>NaN</td>\n",
              "    </tr>\n",
              "    <tr>\n",
              "      <th>40434</th>\n",
              "      <td>774864578948159716</td>\n",
              "      <td>Playa Vista  2BR W/ Private Wifi</td>\n",
              "      <td>187543153</td>\n",
              "      <td>Elliot</td>\n",
              "      <td>City of Los Angeles</td>\n",
              "      <td>Playa Vista</td>\n",
              "      <td>33.975508</td>\n",
              "      <td>-118.430657</td>\n",
              "      <td>Entire home/apt</td>\n",
              "      <td>180</td>\n",
              "      <td>30</td>\n",
              "      <td>0</td>\n",
              "      <td>NaN</td>\n",
              "      <td>NaN</td>\n",
              "      <td>56</td>\n",
              "      <td>30</td>\n",
              "      <td>0</td>\n",
              "      <td>NaN</td>\n",
              "    </tr>\n",
              "    <tr>\n",
              "      <th>40435</th>\n",
              "      <td>774866706304798119</td>\n",
              "      <td>Centrally Located LA Retreat</td>\n",
              "      <td>41968542</td>\n",
              "      <td>Mo</td>\n",
              "      <td>City of Los Angeles</td>\n",
              "      <td>Leimert Park</td>\n",
              "      <td>34.014228</td>\n",
              "      <td>-118.320888</td>\n",
              "      <td>Entire home/apt</td>\n",
              "      <td>104</td>\n",
              "      <td>30</td>\n",
              "      <td>0</td>\n",
              "      <td>NaN</td>\n",
              "      <td>NaN</td>\n",
              "      <td>3</td>\n",
              "      <td>144</td>\n",
              "      <td>0</td>\n",
              "      <td>NaN</td>\n",
              "    </tr>\n",
              "    <tr>\n",
              "      <th>40436</th>\n",
              "      <td>774872573559544018</td>\n",
              "      <td>2BR Bungalow in Culver City-Near LAX</td>\n",
              "      <td>462077128</td>\n",
              "      <td>Aileen</td>\n",
              "      <td>Other Cities</td>\n",
              "      <td>Culver City</td>\n",
              "      <td>33.985194</td>\n",
              "      <td>-118.393408</td>\n",
              "      <td>Entire home/apt</td>\n",
              "      <td>167</td>\n",
              "      <td>1</td>\n",
              "      <td>0</td>\n",
              "      <td>NaN</td>\n",
              "      <td>NaN</td>\n",
              "      <td>6</td>\n",
              "      <td>360</td>\n",
              "      <td>0</td>\n",
              "      <td>NaN</td>\n",
              "    </tr>\n",
              "    <tr>\n",
              "      <th>40437</th>\n",
              "      <td>774889783296314664</td>\n",
              "      <td>洛杉矶*熙臻行馆Venetian 独立雅房</td>\n",
              "      <td>183748799</td>\n",
              "      <td>Amy</td>\n",
              "      <td>Other Cities</td>\n",
              "      <td>Alhambra</td>\n",
              "      <td>34.070314</td>\n",
              "      <td>-118.134431</td>\n",
              "      <td>Private room</td>\n",
              "      <td>81</td>\n",
              "      <td>2</td>\n",
              "      <td>0</td>\n",
              "      <td>NaN</td>\n",
              "      <td>NaN</td>\n",
              "      <td>44</td>\n",
              "      <td>364</td>\n",
              "      <td>0</td>\n",
              "      <td>NaN</td>\n",
              "    </tr>\n",
              "  </tbody>\n",
              "</table>\n",
              "</div>\n",
              "      <button class=\"colab-df-convert\" onclick=\"convertToInteractive('df-78cd6cad-30ac-4b9a-add9-b5bb3e709d54')\"\n",
              "              title=\"Convert this dataframe to an interactive table.\"\n",
              "              style=\"display:none;\">\n",
              "        \n",
              "  <svg xmlns=\"http://www.w3.org/2000/svg\" height=\"24px\"viewBox=\"0 0 24 24\"\n",
              "       width=\"24px\">\n",
              "    <path d=\"M0 0h24v24H0V0z\" fill=\"none\"/>\n",
              "    <path d=\"M18.56 5.44l.94 2.06.94-2.06 2.06-.94-2.06-.94-.94-2.06-.94 2.06-2.06.94zm-11 1L8.5 8.5l.94-2.06 2.06-.94-2.06-.94L8.5 2.5l-.94 2.06-2.06.94zm10 10l.94 2.06.94-2.06 2.06-.94-2.06-.94-.94-2.06-.94 2.06-2.06.94z\"/><path d=\"M17.41 7.96l-1.37-1.37c-.4-.4-.92-.59-1.43-.59-.52 0-1.04.2-1.43.59L10.3 9.45l-7.72 7.72c-.78.78-.78 2.05 0 2.83L4 21.41c.39.39.9.59 1.41.59.51 0 1.02-.2 1.41-.59l7.78-7.78 2.81-2.81c.8-.78.8-2.07 0-2.86zM5.41 20L4 18.59l7.72-7.72 1.47 1.35L5.41 20z\"/>\n",
              "  </svg>\n",
              "      </button>\n",
              "      \n",
              "  <style>\n",
              "    .colab-df-container {\n",
              "      display:flex;\n",
              "      flex-wrap:wrap;\n",
              "      gap: 12px;\n",
              "    }\n",
              "\n",
              "    .colab-df-convert {\n",
              "      background-color: #E8F0FE;\n",
              "      border: none;\n",
              "      border-radius: 50%;\n",
              "      cursor: pointer;\n",
              "      display: none;\n",
              "      fill: #1967D2;\n",
              "      height: 32px;\n",
              "      padding: 0 0 0 0;\n",
              "      width: 32px;\n",
              "    }\n",
              "\n",
              "    .colab-df-convert:hover {\n",
              "      background-color: #E2EBFA;\n",
              "      box-shadow: 0px 1px 2px rgba(60, 64, 67, 0.3), 0px 1px 3px 1px rgba(60, 64, 67, 0.15);\n",
              "      fill: #174EA6;\n",
              "    }\n",
              "\n",
              "    [theme=dark] .colab-df-convert {\n",
              "      background-color: #3B4455;\n",
              "      fill: #D2E3FC;\n",
              "    }\n",
              "\n",
              "    [theme=dark] .colab-df-convert:hover {\n",
              "      background-color: #434B5C;\n",
              "      box-shadow: 0px 1px 3px 1px rgba(0, 0, 0, 0.15);\n",
              "      filter: drop-shadow(0px 1px 2px rgba(0, 0, 0, 0.3));\n",
              "      fill: #FFFFFF;\n",
              "    }\n",
              "  </style>\n",
              "\n",
              "      <script>\n",
              "        const buttonEl =\n",
              "          document.querySelector('#df-78cd6cad-30ac-4b9a-add9-b5bb3e709d54 button.colab-df-convert');\n",
              "        buttonEl.style.display =\n",
              "          google.colab.kernel.accessAllowed ? 'block' : 'none';\n",
              "\n",
              "        async function convertToInteractive(key) {\n",
              "          const element = document.querySelector('#df-78cd6cad-30ac-4b9a-add9-b5bb3e709d54');\n",
              "          const dataTable =\n",
              "            await google.colab.kernel.invokeFunction('convertToInteractive',\n",
              "                                                     [key], {});\n",
              "          if (!dataTable) return;\n",
              "\n",
              "          const docLinkHtml = 'Like what you see? Visit the ' +\n",
              "            '<a target=\"_blank\" href=https://colab.research.google.com/notebooks/data_table.ipynb>data table notebook</a>'\n",
              "            + ' to learn more about interactive tables.';\n",
              "          element.innerHTML = '';\n",
              "          dataTable['output_type'] = 'display_data';\n",
              "          await google.colab.output.renderOutput(dataTable, element);\n",
              "          const docLink = document.createElement('div');\n",
              "          docLink.innerHTML = docLinkHtml;\n",
              "          element.appendChild(docLink);\n",
              "        }\n",
              "      </script>\n",
              "    </div>\n",
              "  </div>\n",
              "  "
            ]
          },
          "metadata": {},
          "execution_count": 4
        }
      ]
    },
    {
      "cell_type": "markdown",
      "metadata": {
        "id": "qb5By2nIMS6m"
      },
      "source": [
        "##**1. Análise dos Dados**\n",
        "\n",
        "Esta primeira etapa do projeto tem como objetivo obter um entendimento de como os dados estão estruturados no dataset."
      ]
    },
    {
      "cell_type": "markdown",
      "metadata": {
        "id": "RYgvuebKNg8-"
      },
      "source": [
        "**Dicionário das variáveis**\n",
        "\n",
        "* `id` - número de identificação da propriedade\n",
        "* `name` - nome da propriedade\n",
        "* `host_id` -  código de hospedagem\n",
        "* `host_name` - nome do proprietário\n",
        "* `neighbourhood_group` - grupo de bairros\n",
        "* `neighbourhood` - nome do bairro\n",
        "* `latitude` - posição geográfica no mapa de latitude\n",
        "* `longitude` - posição geográfica no mapa de longitude\n",
        "* `room_type` - tipo de quarto a ser alugado\n",
        "* `price` - valor do aluguel\n",
        "* `minimum_nights` - número mínimo de noites reservadas\n",
        "* `number_of_reviews` - número de avaliações\n",
        "* `last_review` - data da última avaliação\n",
        "* `reviews_per_month` - avaliações por mês\n",
        "* `calculated_host_listings_count` - número total de listagens feitas por um host\n",
        "* `availability_365` - disponibilidade anual\n",
        "* `number_of_reviews_ltm` - número de avaliações por ítem\n",
        "* `license` - numero de licença da propriedade\n",
        "\n"
      ]
    },
    {
      "cell_type": "markdown",
      "metadata": {
        "id": "6-B_qtEaYEd-"
      },
      "source": [
        "### **1.1. Qual o total de entradas e número de colunas? Qual o tipo de dado de cada variável?**\n",
        "\n",
        "Após detalharmos as variáveis do dataset, agora precisamos saber a quantidade total de entradas, o número de colunas (variáveis) e o tipo de dados de cada variável. \n"
      ]
    },
    {
      "cell_type": "code",
      "metadata": {
        "id": "TFRK0tniLV-G",
        "colab": {
          "base_uri": "https://localhost:8080/"
        },
        "outputId": "c5e5658b-4c62-42e6-ab31-4875bb2fb110"
      },
      "source": [
        "# identificando o volume do DataFrame e os tipos de dados das variáveis.\n",
        "\n",
        "df.info()"
      ],
      "execution_count": null,
      "outputs": [
        {
          "output_type": "stream",
          "name": "stdout",
          "text": [
            "<class 'pandas.core.frame.DataFrame'>\n",
            "RangeIndex: 40438 entries, 0 to 40437\n",
            "Data columns (total 18 columns):\n",
            " #   Column                          Non-Null Count  Dtype  \n",
            "---  ------                          --------------  -----  \n",
            " 0   id                              40438 non-null  int64  \n",
            " 1   name                            40436 non-null  object \n",
            " 2   host_id                         40438 non-null  int64  \n",
            " 3   host_name                       40436 non-null  object \n",
            " 4   neighbourhood_group             40438 non-null  object \n",
            " 5   neighbourhood                   40438 non-null  object \n",
            " 6   latitude                        40438 non-null  float64\n",
            " 7   longitude                       40438 non-null  float64\n",
            " 8   room_type                       40438 non-null  object \n",
            " 9   price                           40438 non-null  int64  \n",
            " 10  minimum_nights                  40438 non-null  int64  \n",
            " 11  number_of_reviews               40438 non-null  int64  \n",
            " 12  last_review                     29853 non-null  object \n",
            " 13  reviews_per_month               29853 non-null  float64\n",
            " 14  calculated_host_listings_count  40438 non-null  int64  \n",
            " 15  availability_365                40438 non-null  int64  \n",
            " 16  number_of_reviews_ltm           40438 non-null  int64  \n",
            " 17  license                         10262 non-null  object \n",
            "dtypes: float64(3), int64(8), object(7)\n",
            "memory usage: 5.6+ MB\n"
          ]
        }
      ]
    },
    {
      "cell_type": "code",
      "source": [
        "# quantidade de entradas e colunas\n",
        "\n",
        "print('\\nTotal de entradas: {}'.format(df.shape[0]))\n",
        "print('Total de colunas: {}\\n'.format(df.shape[1]))"
      ],
      "metadata": {
        "colab": {
          "base_uri": "https://localhost:8080/"
        },
        "id": "bgY5U-MfGzBn",
        "outputId": "bf6a2b82-dbad-4705-9c65-99aa22c356b3"
      },
      "execution_count": null,
      "outputs": [
        {
          "output_type": "stream",
          "name": "stdout",
          "text": [
            "\n",
            "Total de entradas: 40438\n",
            "Total de colunas: 18\n",
            "\n"
          ]
        }
      ]
    },
    {
      "cell_type": "markdown",
      "metadata": {
        "id": "yz1urSUGW9iE"
      },
      "source": [
        "### **1.2. Qual a quantidade de valores ausentes no dataset?**\n",
        "\n",
        "A qualidade de um `dataset` está diretamente ligada a quantidade de seus valores ausentes. Mas o que são estes valores ausentes ou nulos?\n",
        "\n",
        "Valores ausentes ou nulos `(NaN, Null)`, são campos no `dataset` que não foram preenchidos, ou por esquecimento caso tenham sido manipulados por um humano, ou por não constar nenhuma informação de fato.\n",
        "\n",
        "É muito importante entender logo no início se esses valores nulos são significativos comparados ao total de entradas.\n",
        "\n",
        "Logo abaixo, veremos qual a quantidade e porcentagem de valores ausentes em cada variável em relação a quantidade total do `dataset`."
      ]
    },
    {
      "cell_type": "code",
      "source": [
        "# verificando a quantidade de valores ausentes em cada variável\n",
        "\n",
        "df.isnull().sum().sort_values(ascending=False)"
      ],
      "metadata": {
        "id": "geerjRYEa7VO",
        "colab": {
          "base_uri": "https://localhost:8080/"
        },
        "outputId": "5a0bb23e-16ce-49fd-bac2-763b7a033a45"
      },
      "execution_count": null,
      "outputs": [
        {
          "output_type": "execute_result",
          "data": {
            "text/plain": [
              "license                           30176\n",
              "reviews_per_month                 10585\n",
              "last_review                       10585\n",
              "host_name                             2\n",
              "name                                  2\n",
              "minimum_nights                        0\n",
              "number_of_reviews_ltm                 0\n",
              "availability_365                      0\n",
              "calculated_host_listings_count        0\n",
              "number_of_reviews                     0\n",
              "id                                    0\n",
              "room_type                             0\n",
              "longitude                             0\n",
              "latitude                              0\n",
              "neighbourhood                         0\n",
              "neighbourhood_group                   0\n",
              "host_id                               0\n",
              "price                                 0\n",
              "dtype: int64"
            ]
          },
          "metadata": {},
          "execution_count": 7
        }
      ]
    },
    {
      "cell_type": "code",
      "metadata": {
        "id": "plk2FjbCXOqP",
        "colab": {
          "base_uri": "https://localhost:8080/"
        },
        "outputId": "c4b1f955-8e80-47f8-fd5d-ecb102e90287"
      },
      "source": [
        "# valores ausentes em porcentagem sobre o valor total de entradas, ordenado em ordem decrescente\n",
        "\n",
        "((df.isnull().sum() / df.shape[0]).sort_values(ascending = False)) * 100\n"
      ],
      "execution_count": null,
      "outputs": [
        {
          "output_type": "execute_result",
          "data": {
            "text/plain": [
              "license                           74.622879\n",
              "reviews_per_month                 26.175874\n",
              "last_review                       26.175874\n",
              "host_name                          0.004946\n",
              "name                               0.004946\n",
              "minimum_nights                     0.000000\n",
              "number_of_reviews_ltm              0.000000\n",
              "availability_365                   0.000000\n",
              "calculated_host_listings_count     0.000000\n",
              "number_of_reviews                  0.000000\n",
              "id                                 0.000000\n",
              "room_type                          0.000000\n",
              "longitude                          0.000000\n",
              "latitude                           0.000000\n",
              "neighbourhood                      0.000000\n",
              "neighbourhood_group                0.000000\n",
              "host_id                            0.000000\n",
              "price                              0.000000\n",
              "dtype: float64"
            ]
          },
          "metadata": {},
          "execution_count": 8
        }
      ]
    },
    {
      "cell_type": "markdown",
      "source": [
        "###Podemos identificar as seguintes situações nos valores ausentes.\n",
        "* Aproximadamente 75% dos dados da variável `license` são nulos.\n",
        "* 26% dos dados das variáveis `last_review` e `reviews_per_month` são nulos.\n",
        "* Os dados nulos das variáveis `name` e `host_name` são iguais."
      ],
      "metadata": {
        "id": "PHmvSjSLhU8t"
      }
    },
    {
      "cell_type": "markdown",
      "source": [
        "###Tratando valores ausentes\n",
        "\n",
        "Nesta etapa do projeto faremos a limpeza ou preenchimento dos campos que estão com valores ausentes.\n",
        "\n",
        "Notem que aproximadamente 75% dos valores da coluna `license` e 26% dos dados da coluna `last_review` são nulos, porém não utilizarei estas colunas para este projeto em si. \n",
        "\n",
        "Por isso removerei estas duas colunas (variáveis) do nosso `dataset` para uma melhor performance na análise.\n",
        "\n",
        "Para isso vou criar uma variável `df_clean` e copiar o `dataset` dentro dela, após copiar o `dataset`, limparei os valores ausentes na variável `df_clean`."
      ],
      "metadata": {
        "id": "tVGpH9es0X3v"
      }
    },
    {
      "cell_type": "code",
      "source": [
        "df_clean = df.copy()"
      ],
      "metadata": {
        "id": "HSHYzC_URtc0"
      },
      "execution_count": null,
      "outputs": []
    },
    {
      "cell_type": "code",
      "source": [
        "# removendo as colunas que não utilizarei nesta análise\n",
        "\n",
        "df_clean.drop('license', axis=1, inplace=True)\n",
        "df_clean.drop('last_review', axis=1, inplace=True)\n",
        "df_clean.drop('id', axis=1, inplace=True)\n",
        "df_clean.drop('host_id', axis=1, inplace=True)"
      ],
      "metadata": {
        "id": "6aiY_wFQz-d-"
      },
      "execution_count": null,
      "outputs": []
    },
    {
      "cell_type": "markdown",
      "source": [
        "Após a remoção das variáveis não utilizadas no projeto, vamos verificar os dados ausentes restantes e fazer uma análise deles para assim tratá-los da melhor maneira em que nosso `dataset` não seja prejudicado com a perda de muitos dados."
      ],
      "metadata": {
        "id": "vvJ9deifjK8F"
      }
    },
    {
      "cell_type": "code",
      "source": [
        "# mostrando os valores ausentes após a remoção das colunas acima.\n",
        "\n",
        "df_clean.isnull().sum().sort_values(ascending=False)"
      ],
      "metadata": {
        "colab": {
          "base_uri": "https://localhost:8080/"
        },
        "id": "3bEkKJdki8um",
        "outputId": "fef9aa0b-993b-439f-c505-e9dd51603c0e"
      },
      "execution_count": null,
      "outputs": [
        {
          "output_type": "execute_result",
          "data": {
            "text/plain": [
              "reviews_per_month                 10585\n",
              "name                                  2\n",
              "host_name                             2\n",
              "neighbourhood_group                   0\n",
              "neighbourhood                         0\n",
              "latitude                              0\n",
              "longitude                             0\n",
              "room_type                             0\n",
              "price                                 0\n",
              "minimum_nights                        0\n",
              "number_of_reviews                     0\n",
              "calculated_host_listings_count        0\n",
              "availability_365                      0\n",
              "number_of_reviews_ltm                 0\n",
              "dtype: int64"
            ]
          },
          "metadata": {},
          "execution_count": 11
        }
      ]
    },
    {
      "cell_type": "markdown",
      "source": [
        "Agora vamos analisar a variável `reviews_per_month`, pois como podemos ver acima ela possui 10585 valores ausentes.\n",
        "\n",
        "Vou utilizar o `describe` para visualizar os valores estatísticos da variável e ter uma noção de como estes valores estão distribuídos, analisando a média e a mediana para preenchimento dos valores ausentes."
      ],
      "metadata": {
        "id": "79Gb0iyukqV1"
      }
    },
    {
      "cell_type": "code",
      "source": [
        "# mostrando os valores estatísticos da variável reviews_per_month\n",
        "\n",
        "df_clean['reviews_per_month'].describe()"
      ],
      "metadata": {
        "colab": {
          "base_uri": "https://localhost:8080/"
        },
        "id": "0NwGiLJJlP9F",
        "outputId": "8401cd9e-af82-4839-f620-8cd79880e06c"
      },
      "execution_count": null,
      "outputs": [
        {
          "output_type": "execute_result",
          "data": {
            "text/plain": [
              "count    29853.000000\n",
              "mean         1.499085\n",
              "std          1.866809\n",
              "min          0.010000\n",
              "25%          0.240000\n",
              "50%          0.800000\n",
              "75%          2.250000\n",
              "max         89.000000\n",
              "Name: reviews_per_month, dtype: float64"
            ]
          },
          "metadata": {},
          "execution_count": 12
        }
      ]
    },
    {
      "cell_type": "markdown",
      "source": [
        "Como podemos ver, apesar de termos um valor máximo de 89, os valores da variável estão bem distribuídos. \n",
        "\n",
        "A `*média (1.4)*` e a `*mediana (0.8)*` da variável `reviews_per_month` não estão muito distantes, portanto utilizarei a `*média*` para preencher os valores ausentes e mantê-la em 1.5 avaliações por mês aproximadamente.\n",
        "\n",
        "Vou criar uma variável `*rpm_mean*` e nela atribuir o DataFrame `df` com a `*média*` da coluna `reviews_per_month`, depois na variável *`df`* do DataFrame, com o comando *`.fillna()`* vou preencher os valores ausentes com a `*média*` utilizando um dicionário cuja chave é a coluna `reviews_per_month` e o valor é a variável `rpm_mean`.\n",
        "\n"
      ],
      "metadata": {
        "id": "ZXaWezlhkqQJ"
      }
    },
    {
      "cell_type": "code",
      "source": [
        "# preenchendo os valores ausentes em `reviews_per_month` com a mediana\n",
        "\n",
        "rpm_mean = df_clean['reviews_per_month'].mean()\n",
        "df_clean = df_clean.fillna({'reviews_per_month' : rpm_mean})"
      ],
      "metadata": {
        "id": "-T54AOM0paG-"
      },
      "execution_count": null,
      "outputs": []
    },
    {
      "cell_type": "code",
      "source": [
        "# verificando os valores ausentes faltantes\n",
        "\n",
        "df_clean.isnull().sum().sort_values(ascending=False)"
      ],
      "metadata": {
        "colab": {
          "base_uri": "https://localhost:8080/"
        },
        "id": "9ghx66vitol_",
        "outputId": "9929db31-d0a4-4351-e9ce-8e8545da3613"
      },
      "execution_count": null,
      "outputs": [
        {
          "output_type": "execute_result",
          "data": {
            "text/plain": [
              "name                              2\n",
              "host_name                         2\n",
              "neighbourhood_group               0\n",
              "neighbourhood                     0\n",
              "latitude                          0\n",
              "longitude                         0\n",
              "room_type                         0\n",
              "price                             0\n",
              "minimum_nights                    0\n",
              "number_of_reviews                 0\n",
              "reviews_per_month                 0\n",
              "calculated_host_listings_count    0\n",
              "availability_365                  0\n",
              "number_of_reviews_ltm             0\n",
              "dtype: int64"
            ]
          },
          "metadata": {},
          "execution_count": 14
        }
      ]
    },
    {
      "cell_type": "markdown",
      "source": [
        "Agora vamos analisar os valores ausentes nas variáveis `name` e `host_name` usando `.loc`."
      ],
      "metadata": {
        "id": "SDaLTMAouFgb"
      }
    },
    {
      "cell_type": "code",
      "source": [
        "df_clean.loc[df_clean.name.isnull()]\n"
      ],
      "metadata": {
        "colab": {
          "base_uri": "https://localhost:8080/",
          "height": 211
        },
        "id": "aloCt4AdLo25",
        "outputId": "27fd98de-c15e-4698-dc85-024a0d3efb72"
      },
      "execution_count": null,
      "outputs": [
        {
          "output_type": "execute_result",
          "data": {
            "text/plain": [
              "     name host_name   neighbourhood_group neighbourhood  latitude  longitude  \\\n",
              "5875  NaN    Deonte          Other Cities        Walnut  34.04539 -117.85014   \n",
              "6494  NaN    Karina  Unincorporated Areas      Altadena  34.17161 -118.11570   \n",
              "\n",
              "         room_type  price  minimum_nights  number_of_reviews  \\\n",
              "5875   Shared room     35               1                  0   \n",
              "6494  Private room    125               2                  0   \n",
              "\n",
              "      reviews_per_month  calculated_host_listings_count  availability_365  \\\n",
              "5875           1.499085                               1                 0   \n",
              "6494           1.499085                               1                 0   \n",
              "\n",
              "      number_of_reviews_ltm  \n",
              "5875                      0  \n",
              "6494                      0  "
            ],
            "text/html": [
              "\n",
              "  <div id=\"df-b2eeb678-c7e8-4f21-946a-127998b874eb\">\n",
              "    <div class=\"colab-df-container\">\n",
              "      <div>\n",
              "<style scoped>\n",
              "    .dataframe tbody tr th:only-of-type {\n",
              "        vertical-align: middle;\n",
              "    }\n",
              "\n",
              "    .dataframe tbody tr th {\n",
              "        vertical-align: top;\n",
              "    }\n",
              "\n",
              "    .dataframe thead th {\n",
              "        text-align: right;\n",
              "    }\n",
              "</style>\n",
              "<table border=\"1\" class=\"dataframe\">\n",
              "  <thead>\n",
              "    <tr style=\"text-align: right;\">\n",
              "      <th></th>\n",
              "      <th>name</th>\n",
              "      <th>host_name</th>\n",
              "      <th>neighbourhood_group</th>\n",
              "      <th>neighbourhood</th>\n",
              "      <th>latitude</th>\n",
              "      <th>longitude</th>\n",
              "      <th>room_type</th>\n",
              "      <th>price</th>\n",
              "      <th>minimum_nights</th>\n",
              "      <th>number_of_reviews</th>\n",
              "      <th>reviews_per_month</th>\n",
              "      <th>calculated_host_listings_count</th>\n",
              "      <th>availability_365</th>\n",
              "      <th>number_of_reviews_ltm</th>\n",
              "    </tr>\n",
              "  </thead>\n",
              "  <tbody>\n",
              "    <tr>\n",
              "      <th>5875</th>\n",
              "      <td>NaN</td>\n",
              "      <td>Deonte</td>\n",
              "      <td>Other Cities</td>\n",
              "      <td>Walnut</td>\n",
              "      <td>34.04539</td>\n",
              "      <td>-117.85014</td>\n",
              "      <td>Shared room</td>\n",
              "      <td>35</td>\n",
              "      <td>1</td>\n",
              "      <td>0</td>\n",
              "      <td>1.499085</td>\n",
              "      <td>1</td>\n",
              "      <td>0</td>\n",
              "      <td>0</td>\n",
              "    </tr>\n",
              "    <tr>\n",
              "      <th>6494</th>\n",
              "      <td>NaN</td>\n",
              "      <td>Karina</td>\n",
              "      <td>Unincorporated Areas</td>\n",
              "      <td>Altadena</td>\n",
              "      <td>34.17161</td>\n",
              "      <td>-118.11570</td>\n",
              "      <td>Private room</td>\n",
              "      <td>125</td>\n",
              "      <td>2</td>\n",
              "      <td>0</td>\n",
              "      <td>1.499085</td>\n",
              "      <td>1</td>\n",
              "      <td>0</td>\n",
              "      <td>0</td>\n",
              "    </tr>\n",
              "  </tbody>\n",
              "</table>\n",
              "</div>\n",
              "      <button class=\"colab-df-convert\" onclick=\"convertToInteractive('df-b2eeb678-c7e8-4f21-946a-127998b874eb')\"\n",
              "              title=\"Convert this dataframe to an interactive table.\"\n",
              "              style=\"display:none;\">\n",
              "        \n",
              "  <svg xmlns=\"http://www.w3.org/2000/svg\" height=\"24px\"viewBox=\"0 0 24 24\"\n",
              "       width=\"24px\">\n",
              "    <path d=\"M0 0h24v24H0V0z\" fill=\"none\"/>\n",
              "    <path d=\"M18.56 5.44l.94 2.06.94-2.06 2.06-.94-2.06-.94-.94-2.06-.94 2.06-2.06.94zm-11 1L8.5 8.5l.94-2.06 2.06-.94-2.06-.94L8.5 2.5l-.94 2.06-2.06.94zm10 10l.94 2.06.94-2.06 2.06-.94-2.06-.94-.94-2.06-.94 2.06-2.06.94z\"/><path d=\"M17.41 7.96l-1.37-1.37c-.4-.4-.92-.59-1.43-.59-.52 0-1.04.2-1.43.59L10.3 9.45l-7.72 7.72c-.78.78-.78 2.05 0 2.83L4 21.41c.39.39.9.59 1.41.59.51 0 1.02-.2 1.41-.59l7.78-7.78 2.81-2.81c.8-.78.8-2.07 0-2.86zM5.41 20L4 18.59l7.72-7.72 1.47 1.35L5.41 20z\"/>\n",
              "  </svg>\n",
              "      </button>\n",
              "      \n",
              "  <style>\n",
              "    .colab-df-container {\n",
              "      display:flex;\n",
              "      flex-wrap:wrap;\n",
              "      gap: 12px;\n",
              "    }\n",
              "\n",
              "    .colab-df-convert {\n",
              "      background-color: #E8F0FE;\n",
              "      border: none;\n",
              "      border-radius: 50%;\n",
              "      cursor: pointer;\n",
              "      display: none;\n",
              "      fill: #1967D2;\n",
              "      height: 32px;\n",
              "      padding: 0 0 0 0;\n",
              "      width: 32px;\n",
              "    }\n",
              "\n",
              "    .colab-df-convert:hover {\n",
              "      background-color: #E2EBFA;\n",
              "      box-shadow: 0px 1px 2px rgba(60, 64, 67, 0.3), 0px 1px 3px 1px rgba(60, 64, 67, 0.15);\n",
              "      fill: #174EA6;\n",
              "    }\n",
              "\n",
              "    [theme=dark] .colab-df-convert {\n",
              "      background-color: #3B4455;\n",
              "      fill: #D2E3FC;\n",
              "    }\n",
              "\n",
              "    [theme=dark] .colab-df-convert:hover {\n",
              "      background-color: #434B5C;\n",
              "      box-shadow: 0px 1px 3px 1px rgba(0, 0, 0, 0.15);\n",
              "      filter: drop-shadow(0px 1px 2px rgba(0, 0, 0, 0.3));\n",
              "      fill: #FFFFFF;\n",
              "    }\n",
              "  </style>\n",
              "\n",
              "      <script>\n",
              "        const buttonEl =\n",
              "          document.querySelector('#df-b2eeb678-c7e8-4f21-946a-127998b874eb button.colab-df-convert');\n",
              "        buttonEl.style.display =\n",
              "          google.colab.kernel.accessAllowed ? 'block' : 'none';\n",
              "\n",
              "        async function convertToInteractive(key) {\n",
              "          const element = document.querySelector('#df-b2eeb678-c7e8-4f21-946a-127998b874eb');\n",
              "          const dataTable =\n",
              "            await google.colab.kernel.invokeFunction('convertToInteractive',\n",
              "                                                     [key], {});\n",
              "          if (!dataTable) return;\n",
              "\n",
              "          const docLinkHtml = 'Like what you see? Visit the ' +\n",
              "            '<a target=\"_blank\" href=https://colab.research.google.com/notebooks/data_table.ipynb>data table notebook</a>'\n",
              "            + ' to learn more about interactive tables.';\n",
              "          element.innerHTML = '';\n",
              "          dataTable['output_type'] = 'display_data';\n",
              "          await google.colab.output.renderOutput(dataTable, element);\n",
              "          const docLink = document.createElement('div');\n",
              "          docLink.innerHTML = docLinkHtml;\n",
              "          element.appendChild(docLink);\n",
              "        }\n",
              "      </script>\n",
              "    </div>\n",
              "  </div>\n",
              "  "
            ]
          },
          "metadata": {},
          "execution_count": 15
        }
      ]
    },
    {
      "cell_type": "code",
      "source": [
        "df_clean.loc[df_clean.host_name.isnull()]"
      ],
      "metadata": {
        "colab": {
          "base_uri": "https://localhost:8080/",
          "height": 280
        },
        "id": "OzkwfZ4ROo4c",
        "outputId": "1a0e20e7-5535-4e59-bb68-94b56f5d8b89"
      },
      "execution_count": null,
      "outputs": [
        {
          "output_type": "execute_result",
          "data": {
            "text/plain": [
              "                                name host_name  neighbourhood_group  \\\n",
              "2766       Quiet, Cozy West LA House       NaN  City of Los Angeles   \n",
              "3831  Large private bedroom in Palms       NaN  City of Los Angeles   \n",
              "\n",
              "     neighbourhood  latitude  longitude        room_type  price  \\\n",
              "2766     Mar Vista  34.00105 -118.43665  Entire home/apt     99   \n",
              "3831   Rancho Park  34.03157 -118.41318     Private room     41   \n",
              "\n",
              "      minimum_nights  number_of_reviews  reviews_per_month  \\\n",
              "2766              30                  0           1.499085   \n",
              "3831              30                  2           0.020000   \n",
              "\n",
              "      calculated_host_listings_count  availability_365  number_of_reviews_ltm  \n",
              "2766                               1                 0                      0  \n",
              "3831                               1                 0                      0  "
            ],
            "text/html": [
              "\n",
              "  <div id=\"df-0fe7df2f-3e94-401c-8906-b4f3122efdab\">\n",
              "    <div class=\"colab-df-container\">\n",
              "      <div>\n",
              "<style scoped>\n",
              "    .dataframe tbody tr th:only-of-type {\n",
              "        vertical-align: middle;\n",
              "    }\n",
              "\n",
              "    .dataframe tbody tr th {\n",
              "        vertical-align: top;\n",
              "    }\n",
              "\n",
              "    .dataframe thead th {\n",
              "        text-align: right;\n",
              "    }\n",
              "</style>\n",
              "<table border=\"1\" class=\"dataframe\">\n",
              "  <thead>\n",
              "    <tr style=\"text-align: right;\">\n",
              "      <th></th>\n",
              "      <th>name</th>\n",
              "      <th>host_name</th>\n",
              "      <th>neighbourhood_group</th>\n",
              "      <th>neighbourhood</th>\n",
              "      <th>latitude</th>\n",
              "      <th>longitude</th>\n",
              "      <th>room_type</th>\n",
              "      <th>price</th>\n",
              "      <th>minimum_nights</th>\n",
              "      <th>number_of_reviews</th>\n",
              "      <th>reviews_per_month</th>\n",
              "      <th>calculated_host_listings_count</th>\n",
              "      <th>availability_365</th>\n",
              "      <th>number_of_reviews_ltm</th>\n",
              "    </tr>\n",
              "  </thead>\n",
              "  <tbody>\n",
              "    <tr>\n",
              "      <th>2766</th>\n",
              "      <td>Quiet, Cozy West LA House</td>\n",
              "      <td>NaN</td>\n",
              "      <td>City of Los Angeles</td>\n",
              "      <td>Mar Vista</td>\n",
              "      <td>34.00105</td>\n",
              "      <td>-118.43665</td>\n",
              "      <td>Entire home/apt</td>\n",
              "      <td>99</td>\n",
              "      <td>30</td>\n",
              "      <td>0</td>\n",
              "      <td>1.499085</td>\n",
              "      <td>1</td>\n",
              "      <td>0</td>\n",
              "      <td>0</td>\n",
              "    </tr>\n",
              "    <tr>\n",
              "      <th>3831</th>\n",
              "      <td>Large private bedroom in Palms</td>\n",
              "      <td>NaN</td>\n",
              "      <td>City of Los Angeles</td>\n",
              "      <td>Rancho Park</td>\n",
              "      <td>34.03157</td>\n",
              "      <td>-118.41318</td>\n",
              "      <td>Private room</td>\n",
              "      <td>41</td>\n",
              "      <td>30</td>\n",
              "      <td>2</td>\n",
              "      <td>0.020000</td>\n",
              "      <td>1</td>\n",
              "      <td>0</td>\n",
              "      <td>0</td>\n",
              "    </tr>\n",
              "  </tbody>\n",
              "</table>\n",
              "</div>\n",
              "      <button class=\"colab-df-convert\" onclick=\"convertToInteractive('df-0fe7df2f-3e94-401c-8906-b4f3122efdab')\"\n",
              "              title=\"Convert this dataframe to an interactive table.\"\n",
              "              style=\"display:none;\">\n",
              "        \n",
              "  <svg xmlns=\"http://www.w3.org/2000/svg\" height=\"24px\"viewBox=\"0 0 24 24\"\n",
              "       width=\"24px\">\n",
              "    <path d=\"M0 0h24v24H0V0z\" fill=\"none\"/>\n",
              "    <path d=\"M18.56 5.44l.94 2.06.94-2.06 2.06-.94-2.06-.94-.94-2.06-.94 2.06-2.06.94zm-11 1L8.5 8.5l.94-2.06 2.06-.94-2.06-.94L8.5 2.5l-.94 2.06-2.06.94zm10 10l.94 2.06.94-2.06 2.06-.94-2.06-.94-.94-2.06-.94 2.06-2.06.94z\"/><path d=\"M17.41 7.96l-1.37-1.37c-.4-.4-.92-.59-1.43-.59-.52 0-1.04.2-1.43.59L10.3 9.45l-7.72 7.72c-.78.78-.78 2.05 0 2.83L4 21.41c.39.39.9.59 1.41.59.51 0 1.02-.2 1.41-.59l7.78-7.78 2.81-2.81c.8-.78.8-2.07 0-2.86zM5.41 20L4 18.59l7.72-7.72 1.47 1.35L5.41 20z\"/>\n",
              "  </svg>\n",
              "      </button>\n",
              "      \n",
              "  <style>\n",
              "    .colab-df-container {\n",
              "      display:flex;\n",
              "      flex-wrap:wrap;\n",
              "      gap: 12px;\n",
              "    }\n",
              "\n",
              "    .colab-df-convert {\n",
              "      background-color: #E8F0FE;\n",
              "      border: none;\n",
              "      border-radius: 50%;\n",
              "      cursor: pointer;\n",
              "      display: none;\n",
              "      fill: #1967D2;\n",
              "      height: 32px;\n",
              "      padding: 0 0 0 0;\n",
              "      width: 32px;\n",
              "    }\n",
              "\n",
              "    .colab-df-convert:hover {\n",
              "      background-color: #E2EBFA;\n",
              "      box-shadow: 0px 1px 2px rgba(60, 64, 67, 0.3), 0px 1px 3px 1px rgba(60, 64, 67, 0.15);\n",
              "      fill: #174EA6;\n",
              "    }\n",
              "\n",
              "    [theme=dark] .colab-df-convert {\n",
              "      background-color: #3B4455;\n",
              "      fill: #D2E3FC;\n",
              "    }\n",
              "\n",
              "    [theme=dark] .colab-df-convert:hover {\n",
              "      background-color: #434B5C;\n",
              "      box-shadow: 0px 1px 3px 1px rgba(0, 0, 0, 0.15);\n",
              "      filter: drop-shadow(0px 1px 2px rgba(0, 0, 0, 0.3));\n",
              "      fill: #FFFFFF;\n",
              "    }\n",
              "  </style>\n",
              "\n",
              "      <script>\n",
              "        const buttonEl =\n",
              "          document.querySelector('#df-0fe7df2f-3e94-401c-8906-b4f3122efdab button.colab-df-convert');\n",
              "        buttonEl.style.display =\n",
              "          google.colab.kernel.accessAllowed ? 'block' : 'none';\n",
              "\n",
              "        async function convertToInteractive(key) {\n",
              "          const element = document.querySelector('#df-0fe7df2f-3e94-401c-8906-b4f3122efdab');\n",
              "          const dataTable =\n",
              "            await google.colab.kernel.invokeFunction('convertToInteractive',\n",
              "                                                     [key], {});\n",
              "          if (!dataTable) return;\n",
              "\n",
              "          const docLinkHtml = 'Like what you see? Visit the ' +\n",
              "            '<a target=\"_blank\" href=https://colab.research.google.com/notebooks/data_table.ipynb>data table notebook</a>'\n",
              "            + ' to learn more about interactive tables.';\n",
              "          element.innerHTML = '';\n",
              "          dataTable['output_type'] = 'display_data';\n",
              "          await google.colab.output.renderOutput(dataTable, element);\n",
              "          const docLink = document.createElement('div');\n",
              "          docLink.innerHTML = docLinkHtml;\n",
              "          element.appendChild(docLink);\n",
              "        }\n",
              "      </script>\n",
              "    </div>\n",
              "  </div>\n",
              "  "
            ]
          },
          "metadata": {},
          "execution_count": 16
        }
      ]
    },
    {
      "cell_type": "markdown",
      "source": [
        "Temos apenas 4 linhas com valores `nulos (NaN)` somando os campos de `name` e `host_name`.\n",
        "\n",
        "Neste caso, fazendo uma pesquisa pelo nome da propriedade consegui encontrar os nomes dos proprietários que estão ausentes em `host_name`, porém não consegui encontrar o nome das propriedades pelos nomes dos proprietários em `name`.\n",
        "\n",
        "Portanto, substituirei os valores ausentes em `host_name` `Nan` pelo nome dos proprietários, e em seguida vou excluir as linhas com valores ausentes em `name`."
      ],
      "metadata": {
        "id": "SBGS9IkfaiMn"
      }
    },
    {
      "cell_type": "code",
      "source": [
        "# substituindo os valores ausentes em 'host_name' pelos nomes dos proprietários\n",
        "\n",
        "df_clean.loc[2766, 'host_name'] = 'Patrick'\n",
        "df_clean.loc[3831, 'host_name'] = 'Vesela'"
      ],
      "metadata": {
        "id": "7-_cCBWDGA0g"
      },
      "execution_count": null,
      "outputs": []
    },
    {
      "cell_type": "code",
      "source": [
        "# excluindo as linhas com valores ausentes na variável 'name'\n",
        "\n",
        "df_clean.dropna(subset=['name'], axis=0, inplace=True)"
      ],
      "metadata": {
        "id": "5LGXHs5NZ2_A"
      },
      "execution_count": null,
      "outputs": []
    },
    {
      "cell_type": "markdown",
      "source": [
        "Após o tratamento dos valores ausentes, comparamos o DataFrame limpo com o DataFrame original não limpo."
      ],
      "metadata": {
        "id": "05T5UNiRsbCs"
      }
    },
    {
      "cell_type": "code",
      "source": [
        "df_clean.isnull().sum()"
      ],
      "metadata": {
        "colab": {
          "base_uri": "https://localhost:8080/"
        },
        "id": "tKVx0QWfrmny",
        "outputId": "e3c33763-d88b-4c86-d6d1-c2b2486ee6be"
      },
      "execution_count": null,
      "outputs": [
        {
          "output_type": "execute_result",
          "data": {
            "text/plain": [
              "name                              0\n",
              "host_name                         0\n",
              "neighbourhood_group               0\n",
              "neighbourhood                     0\n",
              "latitude                          0\n",
              "longitude                         0\n",
              "room_type                         0\n",
              "price                             0\n",
              "minimum_nights                    0\n",
              "number_of_reviews                 0\n",
              "reviews_per_month                 0\n",
              "calculated_host_listings_count    0\n",
              "availability_365                  0\n",
              "number_of_reviews_ltm             0\n",
              "dtype: int64"
            ]
          },
          "metadata": {},
          "execution_count": 19
        }
      ]
    },
    {
      "cell_type": "code",
      "source": [
        "print('DataFrame limpo: ', df_clean.shape)\n",
        "print('DataFrame original: ', df.shape)"
      ],
      "metadata": {
        "colab": {
          "base_uri": "https://localhost:8080/"
        },
        "id": "UmpzF7FLtC2t",
        "outputId": "bcdd03c3-62ab-4ac5-a6b9-7045b004587f"
      },
      "execution_count": null,
      "outputs": [
        {
          "output_type": "stream",
          "name": "stdout",
          "text": [
            "DataFrame limpo:  (40436, 14)\n",
            "DataFrame original:  (40438, 18)\n"
          ]
        }
      ]
    },
    {
      "cell_type": "markdown",
      "metadata": {
        "id": "iHXvvHIxaoNc"
      },
      "source": [
        "##**2. Como os dados estão distribuídos nas variáveis?**\n",
        "\n",
        "Após limpar os valores ausentes das variáveis, vamos identificar a distribuição dos dados plotando um histograma."
      ]
    },
    {
      "cell_type": "code",
      "metadata": {
        "id": "q2wWSfeRbmBo",
        "colab": {
          "base_uri": "https://localhost:8080/",
          "height": 607
        },
        "outputId": "dc12a9cd-a99d-4e0f-df6c-1eb67b611a5f"
      },
      "source": [
        "df_clean.hist(bins=15, figsize=(15, 10), color='blue');\n"
      ],
      "execution_count": null,
      "outputs": [
        {
          "output_type": "display_data",
          "data": {
            "text/plain": [
              "<Figure size 1080x720 with 9 Axes>"
            ],
            "image/png": "[encoded data removed]"
          },
          "metadata": {
            "needs_background": "light"
          }
        }
      ]
    },
    {
      "cell_type": "markdown",
      "source": [
        "##**3. Analisando Outliers**\n",
        "\n",
        "Observando as variáveis `price`, `minimum_nights`, `number_of_reviews`, `reviews_per_month`, `calculated_host_listings_count` e `number_of_reviews_ltm` no histograma pode se notar que não seguem uma distribuição e distorcem a representação gráfica, isso quer dizer que temos presença de `outliers`.\n",
        "\n",
        "Para confirmar se existem estes outiliers veremos um resumo estatístico das variáveis e plotaremos os `boxplots` para cada variável."
      ],
      "metadata": {
        "id": "alS8x8plkpEj"
      }
    },
    {
      "cell_type": "code",
      "source": [
        "# verificando o resumo estatístico das variáveis numéricas\n",
        "\n",
        "df_clean[['price', 'minimum_nights', 'number_of_reviews', 'reviews_per_month', 'calculated_host_listings_count', 'availability_365', 'number_of_reviews_ltm']].describe()"
      ],
      "metadata": {
        "colab": {
          "base_uri": "https://localhost:8080/",
          "height": 300
        },
        "id": "LbnmaUiamxl_",
        "outputId": "516c5852-eaae-4146-9bfa-76ae5575420e"
      },
      "execution_count": null,
      "outputs": [
        {
          "output_type": "execute_result",
          "data": {
            "text/plain": [
              "              price  minimum_nights  number_of_reviews  reviews_per_month  \\\n",
              "count  40436.000000    40436.000000       40436.000000       40436.000000   \n",
              "mean     279.459467       18.701504          33.563681           1.499085   \n",
              "std     1136.490343       30.974168          72.692578           1.604013   \n",
              "min        0.000000        1.000000           0.000000           0.010000   \n",
              "25%       85.000000        2.000000           0.000000           0.360000   \n",
              "50%      138.000000       30.000000           5.000000           1.499085   \n",
              "75%      235.000000       30.000000          31.000000           1.590000   \n",
              "max    99999.000000     1124.000000        1924.000000          89.000000   \n",
              "\n",
              "       calculated_host_listings_count  availability_365  number_of_reviews_ltm  \n",
              "count                    40436.000000      40436.000000           40436.000000  \n",
              "mean                        32.551687        198.174770               8.930557  \n",
              "std                        114.680798        142.643619              18.804820  \n",
              "min                          1.000000          0.000000               0.000000  \n",
              "25%                          1.000000         62.000000               0.000000  \n",
              "50%                          2.000000        190.000000               1.000000  \n",
              "75%                         10.000000        348.000000               8.000000  \n",
              "max                        693.000000        365.000000             801.000000  "
            ],
            "text/html": [
              "\n",
              "  <div id=\"df-bea70d9d-f1a6-4dbe-a662-001558bf425e\">\n",
              "    <div class=\"colab-df-container\">\n",
              "      <div>\n",
              "<style scoped>\n",
              "    .dataframe tbody tr th:only-of-type {\n",
              "        vertical-align: middle;\n",
              "    }\n",
              "\n",
              "    .dataframe tbody tr th {\n",
              "        vertical-align: top;\n",
              "    }\n",
              "\n",
              "    .dataframe thead th {\n",
              "        text-align: right;\n",
              "    }\n",
              "</style>\n",
              "<table border=\"1\" class=\"dataframe\">\n",
              "  <thead>\n",
              "    <tr style=\"text-align: right;\">\n",
              "      <th></th>\n",
              "      <th>price</th>\n",
              "      <th>minimum_nights</th>\n",
              "      <th>number_of_reviews</th>\n",
              "      <th>reviews_per_month</th>\n",
              "      <th>calculated_host_listings_count</th>\n",
              "      <th>availability_365</th>\n",
              "      <th>number_of_reviews_ltm</th>\n",
              "    </tr>\n",
              "  </thead>\n",
              "  <tbody>\n",
              "    <tr>\n",
              "      <th>count</th>\n",
              "      <td>40436.000000</td>\n",
              "      <td>40436.000000</td>\n",
              "      <td>40436.000000</td>\n",
              "      <td>40436.000000</td>\n",
              "      <td>40436.000000</td>\n",
              "      <td>40436.000000</td>\n",
              "      <td>40436.000000</td>\n",
              "    </tr>\n",
              "    <tr>\n",
              "      <th>mean</th>\n",
              "      <td>279.459467</td>\n",
              "      <td>18.701504</td>\n",
              "      <td>33.563681</td>\n",
              "      <td>1.499085</td>\n",
              "      <td>32.551687</td>\n",
              "      <td>198.174770</td>\n",
              "      <td>8.930557</td>\n",
              "    </tr>\n",
              "    <tr>\n",
              "      <th>std</th>\n",
              "      <td>1136.490343</td>\n",
              "      <td>30.974168</td>\n",
              "      <td>72.692578</td>\n",
              "      <td>1.604013</td>\n",
              "      <td>114.680798</td>\n",
              "      <td>142.643619</td>\n",
              "      <td>18.804820</td>\n",
              "    </tr>\n",
              "    <tr>\n",
              "      <th>min</th>\n",
              "      <td>0.000000</td>\n",
              "      <td>1.000000</td>\n",
              "      <td>0.000000</td>\n",
              "      <td>0.010000</td>\n",
              "      <td>1.000000</td>\n",
              "      <td>0.000000</td>\n",
              "      <td>0.000000</td>\n",
              "    </tr>\n",
              "    <tr>\n",
              "      <th>25%</th>\n",
              "      <td>85.000000</td>\n",
              "      <td>2.000000</td>\n",
              "      <td>0.000000</td>\n",
              "      <td>0.360000</td>\n",
              "      <td>1.000000</td>\n",
              "      <td>62.000000</td>\n",
              "      <td>0.000000</td>\n",
              "    </tr>\n",
              "    <tr>\n",
              "      <th>50%</th>\n",
              "      <td>138.000000</td>\n",
              "      <td>30.000000</td>\n",
              "      <td>5.000000</td>\n",
              "      <td>1.499085</td>\n",
              "      <td>2.000000</td>\n",
              "      <td>190.000000</td>\n",
              "      <td>1.000000</td>\n",
              "    </tr>\n",
              "    <tr>\n",
              "      <th>75%</th>\n",
              "      <td>235.000000</td>\n",
              "      <td>30.000000</td>\n",
              "      <td>31.000000</td>\n",
              "      <td>1.590000</td>\n",
              "      <td>10.000000</td>\n",
              "      <td>348.000000</td>\n",
              "      <td>8.000000</td>\n",
              "    </tr>\n",
              "    <tr>\n",
              "      <th>max</th>\n",
              "      <td>99999.000000</td>\n",
              "      <td>1124.000000</td>\n",
              "      <td>1924.000000</td>\n",
              "      <td>89.000000</td>\n",
              "      <td>693.000000</td>\n",
              "      <td>365.000000</td>\n",
              "      <td>801.000000</td>\n",
              "    </tr>\n",
              "  </tbody>\n",
              "</table>\n",
              "</div>\n",
              "      <button class=\"colab-df-convert\" onclick=\"convertToInteractive('df-bea70d9d-f1a6-4dbe-a662-001558bf425e')\"\n",
              "              title=\"Convert this dataframe to an interactive table.\"\n",
              "              style=\"display:none;\">\n",
              "        \n",
              "  <svg xmlns=\"http://www.w3.org/2000/svg\" height=\"24px\"viewBox=\"0 0 24 24\"\n",
              "       width=\"24px\">\n",
              "    <path d=\"M0 0h24v24H0V0z\" fill=\"none\"/>\n",
              "    <path d=\"M18.56 5.44l.94 2.06.94-2.06 2.06-.94-2.06-.94-.94-2.06-.94 2.06-2.06.94zm-11 1L8.5 8.5l.94-2.06 2.06-.94-2.06-.94L8.5 2.5l-.94 2.06-2.06.94zm10 10l.94 2.06.94-2.06 2.06-.94-2.06-.94-.94-2.06-.94 2.06-2.06.94z\"/><path d=\"M17.41 7.96l-1.37-1.37c-.4-.4-.92-.59-1.43-.59-.52 0-1.04.2-1.43.59L10.3 9.45l-7.72 7.72c-.78.78-.78 2.05 0 2.83L4 21.41c.39.39.9.59 1.41.59.51 0 1.02-.2 1.41-.59l7.78-7.78 2.81-2.81c.8-.78.8-2.07 0-2.86zM5.41 20L4 18.59l7.72-7.72 1.47 1.35L5.41 20z\"/>\n",
              "  </svg>\n",
              "      </button>\n",
              "      \n",
              "  <style>\n",
              "    .colab-df-container {\n",
              "      display:flex;\n",
              "      flex-wrap:wrap;\n",
              "      gap: 12px;\n",
              "    }\n",
              "\n",
              "    .colab-df-convert {\n",
              "      background-color: #E8F0FE;\n",
              "      border: none;\n",
              "      border-radius: 50%;\n",
              "      cursor: pointer;\n",
              "      display: none;\n",
              "      fill: #1967D2;\n",
              "      height: 32px;\n",
              "      padding: 0 0 0 0;\n",
              "      width: 32px;\n",
              "    }\n",
              "\n",
              "    .colab-df-convert:hover {\n",
              "      background-color: #E2EBFA;\n",
              "      box-shadow: 0px 1px 2px rgba(60, 64, 67, 0.3), 0px 1px 3px 1px rgba(60, 64, 67, 0.15);\n",
              "      fill: #174EA6;\n",
              "    }\n",
              "\n",
              "    [theme=dark] .colab-df-convert {\n",
              "      background-color: #3B4455;\n",
              "      fill: #D2E3FC;\n",
              "    }\n",
              "\n",
              "    [theme=dark] .colab-df-convert:hover {\n",
              "      background-color: #434B5C;\n",
              "      box-shadow: 0px 1px 3px 1px rgba(0, 0, 0, 0.15);\n",
              "      filter: drop-shadow(0px 1px 2px rgba(0, 0, 0, 0.3));\n",
              "      fill: #FFFFFF;\n",
              "    }\n",
              "  </style>\n",
              "\n",
              "      <script>\n",
              "        const buttonEl =\n",
              "          document.querySelector('#df-bea70d9d-f1a6-4dbe-a662-001558bf425e button.colab-df-convert');\n",
              "        buttonEl.style.display =\n",
              "          google.colab.kernel.accessAllowed ? 'block' : 'none';\n",
              "\n",
              "        async function convertToInteractive(key) {\n",
              "          const element = document.querySelector('#df-bea70d9d-f1a6-4dbe-a662-001558bf425e');\n",
              "          const dataTable =\n",
              "            await google.colab.kernel.invokeFunction('convertToInteractive',\n",
              "                                                     [key], {});\n",
              "          if (!dataTable) return;\n",
              "\n",
              "          const docLinkHtml = 'Like what you see? Visit the ' +\n",
              "            '<a target=\"_blank\" href=https://colab.research.google.com/notebooks/data_table.ipynb>data table notebook</a>'\n",
              "            + ' to learn more about interactive tables.';\n",
              "          element.innerHTML = '';\n",
              "          dataTable['output_type'] = 'display_data';\n",
              "          await google.colab.output.renderOutput(dataTable, element);\n",
              "          const docLink = document.createElement('div');\n",
              "          docLink.innerHTML = docLinkHtml;\n",
              "          element.appendChild(docLink);\n",
              "        }\n",
              "      </script>\n",
              "    </div>\n",
              "  </div>\n",
              "  "
            ]
          },
          "metadata": {},
          "execution_count": 22
        }
      ]
    },
    {
      "cell_type": "markdown",
      "source": [
        "Observando o resumo estatístico podemos dizer que:\n",
        "\n",
        "* O preço (price) tem 75% dos valores menores que 235.00 e o seu valor máximo é de 99999.00 por noite.\n",
        "* A quantidade mínima de noites a serem reservadas (minimum_nigths) está acima de 365 dias no ano.\n",
        "* Avaliações por mês tem seu valor máximo de 89 sendo que o mês tem 30 ou 31 dias.\n",
        "* O número de avaliações (number_of_reiews) tem 75% dos valores abaixo de 31 e seu valor máximo é de 1924.\n",
        "* O número total de listagens feitas por um host (calculated_host_listings_count) 75% é menor do que 10 e seu valor máximo é 693.\n",
        "* O número de avaliações por item tem 75% dos valores abaixo de 8 e seu valor máximo está em 801. "
      ],
      "metadata": {
        "id": "iLKgfnnwnIqG"
      }
    },
    {
      "cell_type": "markdown",
      "source": [
        "###Boxplot para `price` - Identificando outliers\n",
        "\n",
        "Vamos verificar a quantidade de imóveis cujo preço é acima de 1500."
      ],
      "metadata": {
        "id": "EPWAD5-5kE78"
      }
    },
    {
      "cell_type": "code",
      "source": [
        "df_clean.price.plot(kind='box', vert=False, figsize=(15, 3))\n",
        "\n",
        "print('price - valores acima de 1500:')\n",
        "print('{} entradas.'.format(len(df_clean[df_clean.price > 1500])))\n",
        "print('{:.4f}%.'.format((len(df_clean[df_clean.price > 1500]) / df_clean.shape[0])*100))"
      ],
      "metadata": {
        "colab": {
          "base_uri": "https://localhost:8080/",
          "height": 263
        },
        "id": "oxmMtuA0gWe-",
        "outputId": "8887d069-4d28-40d6-8907-9bfa94a3b968"
      },
      "execution_count": null,
      "outputs": [
        {
          "output_type": "stream",
          "name": "stdout",
          "text": [
            "price - valores acima de 1500:\n",
            "839 entradas.\n",
            "2.0749%.\n"
          ]
        },
        {
          "output_type": "display_data",
          "data": {
            "text/plain": [
              "<Figure size 1080x216 with 1 Axes>"
            ],
            "image/png": "[encoded data removed]"
          },
          "metadata": {
            "needs_background": "light"
          }
        }
      ]
    },
    {
      "cell_type": "markdown",
      "source": [
        "###Boxplot para `minimum_nigths` - Identificando outliers\n",
        "\n",
        "Aqui, analisareamos a quantidade mínima de noites que um hospede pode reservar.\n",
        "\n",
        "Vou tomar como base imóveis com mínimo de 3 meses."
      ],
      "metadata": {
        "id": "Pj2tHb2coxpx"
      }
    },
    {
      "cell_type": "code",
      "source": [
        "df_clean.minimum_nights.plot(kind='box', vert=False, figsize=(15, 3))\n",
        "\n",
        "print('minimum_nights - valores acima de 90:')\n",
        "print('{} entradas.'.format(len(df_clean[df_clean.minimum_nights > 90])))\n",
        "print('{:.4f}%.'.format((len(df_clean[df_clean.minimum_nights > 90]) / df_clean.shape[0])*100))"
      ],
      "metadata": {
        "colab": {
          "base_uri": "https://localhost:8080/",
          "height": 263
        },
        "id": "6VoTVW5MoxSl",
        "outputId": "dc272bee-5024-4d7d-c90e-99fcc2d9b6e9"
      },
      "execution_count": null,
      "outputs": [
        {
          "output_type": "stream",
          "name": "stdout",
          "text": [
            "minimum_nights - valores acima de 90:\n",
            "278 entradas.\n",
            "0.6875%.\n"
          ]
        },
        {
          "output_type": "display_data",
          "data": {
            "text/plain": [
              "<Figure size 1080x216 with 1 Axes>"
            ],
            "image/png": "[encoded data removed]"
          },
          "metadata": {
            "needs_background": "light"
          }
        }
      ]
    },
    {
      "cell_type": "markdown",
      "source": [
        "###Boxplot para `reviews_per_month` - Identificando outliers\n",
        "\n",
        "Verificando o número de avaliações por mês acima de 30, pois se o imóvel é alugado todos os dias para 1 pessoa por dia no mínimo, teríamos 30 avaliações no mês, caso todas as pessoas avaliassem o imóvel."
      ],
      "metadata": {
        "id": "VzW7HgNtk32o"
      }
    },
    {
      "cell_type": "code",
      "source": [
        "df_clean.reviews_per_month.plot(kind='box', vert=False, figsize=(15,3))\n",
        "\n",
        "print('reviews_per_month - acima de 30:')\n",
        "print('{} entradas.'.format(len(df_clean[df_clean.reviews_per_month > 30])))\n",
        "print('{:.4f}%'.format((len(df_clean[df_clean.reviews_per_month > 30]) / df_clean.shape[0])*100))"
      ],
      "metadata": {
        "colab": {
          "base_uri": "https://localhost:8080/",
          "height": 263
        },
        "id": "0WMthaM1lXXH",
        "outputId": "778cf9dd-ca8a-4695-e154-b353ea8413b0"
      },
      "execution_count": null,
      "outputs": [
        {
          "output_type": "stream",
          "name": "stdout",
          "text": [
            "reviews_per_month - acima de 30:\n",
            "4 entradas.\n",
            "0.0099%\n"
          ]
        },
        {
          "output_type": "display_data",
          "data": {
            "text/plain": [
              "<Figure size 1080x216 with 1 Axes>"
            ],
            "image/png": "[encoded data removed]"
          },
          "metadata": {
            "needs_background": "light"
          }
        }
      ]
    },
    {
      "cell_type": "markdown",
      "source": [
        "###Boxplot para `number_of_reviews` - Identificando outliers\n",
        "\n",
        "Verificando o número de avaliações tomando como base valores acima de 365."
      ],
      "metadata": {
        "id": "Wb-SKB1Gr9Wf"
      }
    },
    {
      "cell_type": "code",
      "source": [
        "df_clean.number_of_reviews.plot(kind='box', vert=False, figsize=(15, 3))\n",
        "\n",
        "print('number_of_reviews - acima de 365:')\n",
        "print('{} entradas.'.format(len(df_clean[df_clean.number_of_reviews > 365])))\n",
        "print('{:.4f}%.'.format((len(df_clean[df_clean.number_of_reviews > 365]) / df_clean.shape[0])*100))"
      ],
      "metadata": {
        "colab": {
          "base_uri": "https://localhost:8080/",
          "height": 263
        },
        "id": "zfOtzg1XsMp6",
        "outputId": "3e77d286-156e-48a8-f72d-2f89982e2a43"
      },
      "execution_count": null,
      "outputs": [
        {
          "output_type": "stream",
          "name": "stdout",
          "text": [
            "number_of_reviews - acima de 365:\n",
            "372 entradas.\n",
            "0.9200%.\n"
          ]
        },
        {
          "output_type": "display_data",
          "data": {
            "text/plain": [
              "<Figure size 1080x216 with 1 Axes>"
            ],
            "image/png": "[encoded data removed]"
          },
          "metadata": {
            "needs_background": "light"
          }
        }
      ]
    },
    {
      "cell_type": "markdown",
      "source": [
        "###Boxplot para `calculated_host_listings_count` - Identificando outliers\n",
        "\n",
        "Verificando quantidade de listagens por anfitrião acima de 200."
      ],
      "metadata": {
        "id": "aQ4Q0a51eqlb"
      }
    },
    {
      "cell_type": "code",
      "source": [
        "df.calculated_host_listings_count.plot(kind='box', vert=False, figsize=(15, 3))\n",
        "\n",
        "print('calculated_host_listings_count - acima de 200:')\n",
        "print('{} entradas.'.format(len(df_clean[df_clean.calculated_host_listings_count > 200])))\n",
        "print('{:.4f}%'.format((len(df_clean[df_clean.calculated_host_listings_count > 200]) / df_clean.shape[0])*100))"
      ],
      "metadata": {
        "colab": {
          "base_uri": "https://localhost:8080/",
          "height": 263
        },
        "id": "ICznv24qe3Po",
        "outputId": "88953b87-0b40-4972-f0e8-969eaa63a5dd"
      },
      "execution_count": null,
      "outputs": [
        {
          "output_type": "stream",
          "name": "stdout",
          "text": [
            "calculated_host_listings_count - acima de 200:\n",
            "1603 entradas.\n",
            "3.9643%\n"
          ]
        },
        {
          "output_type": "display_data",
          "data": {
            "text/plain": [
              "<Figure size 1080x216 with 1 Axes>"
            ],
            "image/png": "[encoded data removed]"
          },
          "metadata": {
            "needs_background": "light"
          }
        }
      ]
    },
    {
      "cell_type": "markdown",
      "source": [
        "###Boxplot para `number_of_reviews_ltm` - Identificando outliers\n",
        "\n",
        "Verificando a quantidade de valores acima de 100."
      ],
      "metadata": {
        "id": "mSFEvB6aOQU4"
      }
    },
    {
      "cell_type": "code",
      "source": [
        "df_clean.number_of_reviews_ltm.plot(kind='box', vert=False, figsize=(15, 3))\n",
        "\n",
        "print('number_of_reviews_ltm - acima de 100:')\n",
        "print('{} entradas.'.format(len(df_clean[df_clean.number_of_reviews_ltm > 100])))\n",
        "print('{:.4f}%'.format((len(df_clean[df_clean.number_of_reviews_ltm > 100]) / df_clean.shape[0])*100))"
      ],
      "metadata": {
        "colab": {
          "base_uri": "https://localhost:8080/",
          "height": 263
        },
        "id": "KcPAM1epMeG_",
        "outputId": "f133baa7-17da-4a7f-ebd7-843df6e094c1"
      },
      "execution_count": null,
      "outputs": [
        {
          "output_type": "stream",
          "name": "stdout",
          "text": [
            "number_of_reviews_ltm - acima de 100:\n",
            "133 entradas.\n",
            "0.3289%\n"
          ]
        },
        {
          "output_type": "display_data",
          "data": {
            "text/plain": [
              "<Figure size 1080x216 with 1 Axes>"
            ],
            "image/png": "[encoded data removed]"
          },
          "metadata": {
            "needs_background": "light"
          }
        }
      ]
    },
    {
      "cell_type": "markdown",
      "source": [
        "###Histograma sem outliers\n",
        "\n",
        "Conforme analisamos os `outliers` nas variáveis `price`, `minimum_nights`, `reviews_per_month`, `number_of_reviews`, `calculated_host_listings_count` e `number_of_reviews_ltm`, agora vamos limpar o DataFrame delas e plotar um histograma novamente.\n",
        "\n",
        "* Os valores de `price` acima de 1500 serão removidos;\n",
        "* Os valores de `minimun_nights` acima de 90 serão removidos;\n",
        "* Os valores de `reviews_per_month` acima de 30 serão removidos;\n",
        "* Os valores de `number_of_reviews` acima de 500 serão removidos;\n",
        "* Os valores de `calculated_host_listings_count` acima de 200 serão removidos;\n",
        "* Os valores de `number_of_reviews_ltm` acima de 100 serão removidos."
      ],
      "metadata": {
        "id": "nxRWWhjpvmGl"
      }
    },
    {
      "cell_type": "code",
      "source": [
        "# removendo os outliers em df_clean\n",
        "\n",
        "df_clean.drop(df_clean[df_clean.price > 1500].index, axis=0, inplace=True)\n",
        "df_clean.drop(df_clean[df_clean.minimum_nights > 90].index, axis=0, inplace=True)\n",
        "df_clean.drop(df_clean[df_clean.reviews_per_month > 30].index, axis=0, inplace=True)\n",
        "df_clean.drop(df_clean[df_clean.number_of_reviews > 500].index, axis=0, inplace=True)\n",
        "df_clean.drop(df_clean[df_clean.calculated_host_listings_count > 200].index, axis=0, inplace=True)\n",
        "df_clean.drop(df_clean[df_clean.number_of_reviews_ltm > 100].index, axis=0, inplace=True)"
      ],
      "metadata": {
        "id": "zQ46ycNWyXIA"
      },
      "execution_count": null,
      "outputs": []
    },
    {
      "cell_type": "code",
      "source": [
        "# plotando o histograma para as variáveis numéricas\n",
        "\n",
        "df_clean.hist(bins=15, figsize=(15, 10), color='blue');"
      ],
      "metadata": {
        "colab": {
          "base_uri": "https://localhost:8080/",
          "height": 607
        },
        "id": "0ZHcD7284oqf",
        "outputId": "4ce1b337-5504-4bd8-9d84-b6c7ba7a6cd8"
      },
      "execution_count": null,
      "outputs": [
        {
          "output_type": "display_data",
          "data": {
            "text/plain": [
              "<Figure size 1080x720 with 9 Axes>"
            ],
            "image/png": "[encoded data removed]"
          },
          "metadata": {
            "needs_background": "light"
          }
        }
      ]
    },
    {
      "cell_type": "markdown",
      "source": [
        "Observe como ficou melhor a distribuição dos dados no histograma com o DataFrame limpo."
      ],
      "metadata": {
        "id": "rfw58oDfRVSx"
      }
    },
    {
      "cell_type": "markdown",
      "source": [
        "##**04. Insights - Los Angeles**"
      ],
      "metadata": {
        "id": "-X0wBGY7-vnS"
      }
    },
    {
      "cell_type": "markdown",
      "metadata": {
        "id": "7x4aw1j5wNmn"
      },
      "source": [
        "###4.1. Qual a média dos preços de aluguel em Los Angeles?\n",
        "\n",
        "Para quem um dia deseja conhecer Los Angeles, veremos qual o valor médio cobrado por noite para se hospedar na cidade.\n",
        "\n",
        "Plotarei um gráfico da variável price para visualizar o resultado."
      ]
    },
    {
      "cell_type": "code",
      "source": [
        "# plotando um histograma com a média de preço \n",
        "\n",
        "df_clean.price.hist(bins=15, figsize=(10, 3), color='blue')\n",
        "plt.title('Distribuição dos valores em dolar', loc='left')\n",
        "plt.xlabel('Valor')\n",
        "plt.xlabel('Preço do imóvel')\n",
        "plt.show();\n",
        "\n",
        "# mostrando a média da coluna `price`` \n",
        "\n",
        "print('\\nMédia: {:.2f}'.format(df_clean['price'].mean()))"
      ],
      "metadata": {
        "colab": {
          "base_uri": "https://localhost:8080/",
          "height": 276
        },
        "id": "o_e4XHemRsOW",
        "outputId": "aa5c6705-66dd-4918-dc93-ab7ff0cc5497"
      },
      "execution_count": null,
      "outputs": [
        {
          "output_type": "display_data",
          "data": {
            "text/plain": [
              "<Figure size 720x216 with 1 Axes>"
            ],
            "image/png": "[encoded data removed]"
          },
          "metadata": {
            "needs_background": "light"
          }
        },
        {
          "output_type": "stream",
          "name": "stdout",
          "text": [
            "\n",
            "Média: 201.29\n"
          ]
        }
      ]
    },
    {
      "cell_type": "markdown",
      "source": [
        "O valor médio do aluguel em Los Angeles como podemos ver no gráfico fica em torno de $ 200.00 por noite."
      ],
      "metadata": {
        "id": "cpNw4_IrTOYd"
      }
    },
    {
      "cell_type": "code",
      "source": [
        "# comparando a média de valores do aluguel antes e após a limpeza dos dados\n",
        "\n",
        "print('Média de preços antes da limpeza de dados: $ {:.2f}'.format(df.price.mean()))\n",
        "print('Média de preços depois da limpeza de dados: $ {:.2f}'.format(df_clean.price.mean()))"
      ],
      "metadata": {
        "colab": {
          "base_uri": "https://localhost:8080/"
        },
        "id": "sADCG_ljT_F7",
        "outputId": "12307c71-3a9f-4da3-9d9c-abd80aba0f78"
      },
      "execution_count": null,
      "outputs": [
        {
          "output_type": "stream",
          "name": "stdout",
          "text": [
            "Média de preços antes da limpeza de dados: $ 279.45\n",
            "Média de preços depois da limpeza de dados: $ 201.29\n"
          ]
        }
      ]
    },
    {
      "cell_type": "markdown",
      "metadata": {
        "id": "IXn2oIo5qx-w"
      },
      "source": [
        "###4.2. Qual a correlação existente entre as variáveis do dataset?\n",
        "\n",
        "Correlação significa que existe relação entre duas 'coisas'. Em nosso caso estamos buscando relações entre as variáveis.\n",
        "\n",
        "Esta relação pode ser medida, e é a função do coeficiente de correlação estabelecer qual a intensidade dela. Quanto mais o coeficiente de correlação se aproximar de 1.0, maior é a correlação entre elas.\n",
        "\n",
        "Para identificar as correlações existentes entre as variáveis de interesse vamos:\n",
        "* Criar uma matriz de correlação;\n",
        "* Gerar um heatmap a partir desta matriz, utilizando a biblioteca `seaborn`."
      ]
    },
    {
      "cell_type": "code",
      "source": [
        "# criando uma matriz de correlação\n",
        "\n",
        "corr = df_clean[['price', 'minimum_nights', 'number_of_reviews', 'reviews_per_month', 'calculated_host_listings_count', 'availability_365']].corr()\n",
        "\n",
        "# mostrando a matriz de correlação\n",
        "\n",
        "display(corr)"
      ],
      "metadata": {
        "colab": {
          "base_uri": "https://localhost:8080/",
          "height": 237
        },
        "id": "kv01f79db1hG",
        "outputId": "fd2b6ee6-831b-4a18-f979-4f3734726047"
      },
      "execution_count": null,
      "outputs": [
        {
          "output_type": "display_data",
          "data": {
            "text/plain": [
              "                                   price  minimum_nights  number_of_reviews  \\\n",
              "price                           1.000000       -0.101182          -0.060870   \n",
              "minimum_nights                 -0.101182        1.000000          -0.170678   \n",
              "number_of_reviews              -0.060870       -0.170678           1.000000   \n",
              "reviews_per_month              -0.004981       -0.390404           0.505681   \n",
              "calculated_host_listings_count -0.004763        0.059384          -0.127800   \n",
              "availability_365                0.084048       -0.032141          -0.019536   \n",
              "\n",
              "                                reviews_per_month  \\\n",
              "price                                   -0.004981   \n",
              "minimum_nights                          -0.390404   \n",
              "number_of_reviews                        0.505681   \n",
              "reviews_per_month                        1.000000   \n",
              "calculated_host_listings_count          -0.097945   \n",
              "availability_365                         0.071989   \n",
              "\n",
              "                                calculated_host_listings_count  \\\n",
              "price                                                -0.004763   \n",
              "minimum_nights                                        0.059384   \n",
              "number_of_reviews                                    -0.127800   \n",
              "reviews_per_month                                    -0.097945   \n",
              "calculated_host_listings_count                        1.000000   \n",
              "availability_365                                      0.163198   \n",
              "\n",
              "                                availability_365  \n",
              "price                                   0.084048  \n",
              "minimum_nights                         -0.032141  \n",
              "number_of_reviews                      -0.019536  \n",
              "reviews_per_month                       0.071989  \n",
              "calculated_host_listings_count          0.163198  \n",
              "availability_365                        1.000000  "
            ],
            "text/html": [
              "\n",
              "  <div id=\"df-b15375c9-e27e-42ca-8af8-9f621546be8e\">\n",
              "    <div class=\"colab-df-container\">\n",
              "      <div>\n",
              "<style scoped>\n",
              "    .dataframe tbody tr th:only-of-type {\n",
              "        vertical-align: middle;\n",
              "    }\n",
              "\n",
              "    .dataframe tbody tr th {\n",
              "        vertical-align: top;\n",
              "    }\n",
              "\n",
              "    .dataframe thead th {\n",
              "        text-align: right;\n",
              "    }\n",
              "</style>\n",
              "<table border=\"1\" class=\"dataframe\">\n",
              "  <thead>\n",
              "    <tr style=\"text-align: right;\">\n",
              "      <th></th>\n",
              "      <th>price</th>\n",
              "      <th>minimum_nights</th>\n",
              "      <th>number_of_reviews</th>\n",
              "      <th>reviews_per_month</th>\n",
              "      <th>calculated_host_listings_count</th>\n",
              "      <th>availability_365</th>\n",
              "    </tr>\n",
              "  </thead>\n",
              "  <tbody>\n",
              "    <tr>\n",
              "      <th>price</th>\n",
              "      <td>1.000000</td>\n",
              "      <td>-0.101182</td>\n",
              "      <td>-0.060870</td>\n",
              "      <td>-0.004981</td>\n",
              "      <td>-0.004763</td>\n",
              "      <td>0.084048</td>\n",
              "    </tr>\n",
              "    <tr>\n",
              "      <th>minimum_nights</th>\n",
              "      <td>-0.101182</td>\n",
              "      <td>1.000000</td>\n",
              "      <td>-0.170678</td>\n",
              "      <td>-0.390404</td>\n",
              "      <td>0.059384</td>\n",
              "      <td>-0.032141</td>\n",
              "    </tr>\n",
              "    <tr>\n",
              "      <th>number_of_reviews</th>\n",
              "      <td>-0.060870</td>\n",
              "      <td>-0.170678</td>\n",
              "      <td>1.000000</td>\n",
              "      <td>0.505681</td>\n",
              "      <td>-0.127800</td>\n",
              "      <td>-0.019536</td>\n",
              "    </tr>\n",
              "    <tr>\n",
              "      <th>reviews_per_month</th>\n",
              "      <td>-0.004981</td>\n",
              "      <td>-0.390404</td>\n",
              "      <td>0.505681</td>\n",
              "      <td>1.000000</td>\n",
              "      <td>-0.097945</td>\n",
              "      <td>0.071989</td>\n",
              "    </tr>\n",
              "    <tr>\n",
              "      <th>calculated_host_listings_count</th>\n",
              "      <td>-0.004763</td>\n",
              "      <td>0.059384</td>\n",
              "      <td>-0.127800</td>\n",
              "      <td>-0.097945</td>\n",
              "      <td>1.000000</td>\n",
              "      <td>0.163198</td>\n",
              "    </tr>\n",
              "    <tr>\n",
              "      <th>availability_365</th>\n",
              "      <td>0.084048</td>\n",
              "      <td>-0.032141</td>\n",
              "      <td>-0.019536</td>\n",
              "      <td>0.071989</td>\n",
              "      <td>0.163198</td>\n",
              "      <td>1.000000</td>\n",
              "    </tr>\n",
              "  </tbody>\n",
              "</table>\n",
              "</div>\n",
              "      <button class=\"colab-df-convert\" onclick=\"convertToInteractive('df-b15375c9-e27e-42ca-8af8-9f621546be8e')\"\n",
              "              title=\"Convert this dataframe to an interactive table.\"\n",
              "              style=\"display:none;\">\n",
              "        \n",
              "  <svg xmlns=\"http://www.w3.org/2000/svg\" height=\"24px\"viewBox=\"0 0 24 24\"\n",
              "       width=\"24px\">\n",
              "    <path d=\"M0 0h24v24H0V0z\" fill=\"none\"/>\n",
              "    <path d=\"M18.56 5.44l.94 2.06.94-2.06 2.06-.94-2.06-.94-.94-2.06-.94 2.06-2.06.94zm-11 1L8.5 8.5l.94-2.06 2.06-.94-2.06-.94L8.5 2.5l-.94 2.06-2.06.94zm10 10l.94 2.06.94-2.06 2.06-.94-2.06-.94-.94-2.06-.94 2.06-2.06.94z\"/><path d=\"M17.41 7.96l-1.37-1.37c-.4-.4-.92-.59-1.43-.59-.52 0-1.04.2-1.43.59L10.3 9.45l-7.72 7.72c-.78.78-.78 2.05 0 2.83L4 21.41c.39.39.9.59 1.41.59.51 0 1.02-.2 1.41-.59l7.78-7.78 2.81-2.81c.8-.78.8-2.07 0-2.86zM5.41 20L4 18.59l7.72-7.72 1.47 1.35L5.41 20z\"/>\n",
              "  </svg>\n",
              "      </button>\n",
              "      \n",
              "  <style>\n",
              "    .colab-df-container {\n",
              "      display:flex;\n",
              "      flex-wrap:wrap;\n",
              "      gap: 12px;\n",
              "    }\n",
              "\n",
              "    .colab-df-convert {\n",
              "      background-color: #E8F0FE;\n",
              "      border: none;\n",
              "      border-radius: 50%;\n",
              "      cursor: pointer;\n",
              "      display: none;\n",
              "      fill: #1967D2;\n",
              "      height: 32px;\n",
              "      padding: 0 0 0 0;\n",
              "      width: 32px;\n",
              "    }\n",
              "\n",
              "    .colab-df-convert:hover {\n",
              "      background-color: #E2EBFA;\n",
              "      box-shadow: 0px 1px 2px rgba(60, 64, 67, 0.3), 0px 1px 3px 1px rgba(60, 64, 67, 0.15);\n",
              "      fill: #174EA6;\n",
              "    }\n",
              "\n",
              "    [theme=dark] .colab-df-convert {\n",
              "      background-color: #3B4455;\n",
              "      fill: #D2E3FC;\n",
              "    }\n",
              "\n",
              "    [theme=dark] .colab-df-convert:hover {\n",
              "      background-color: #434B5C;\n",
              "      box-shadow: 0px 1px 3px 1px rgba(0, 0, 0, 0.15);\n",
              "      filter: drop-shadow(0px 1px 2px rgba(0, 0, 0, 0.3));\n",
              "      fill: #FFFFFF;\n",
              "    }\n",
              "  </style>\n",
              "\n",
              "      <script>\n",
              "        const buttonEl =\n",
              "          document.querySelector('#df-b15375c9-e27e-42ca-8af8-9f621546be8e button.colab-df-convert');\n",
              "        buttonEl.style.display =\n",
              "          google.colab.kernel.accessAllowed ? 'block' : 'none';\n",
              "\n",
              "        async function convertToInteractive(key) {\n",
              "          const element = document.querySelector('#df-b15375c9-e27e-42ca-8af8-9f621546be8e');\n",
              "          const dataTable =\n",
              "            await google.colab.kernel.invokeFunction('convertToInteractive',\n",
              "                                                     [key], {});\n",
              "          if (!dataTable) return;\n",
              "\n",
              "          const docLinkHtml = 'Like what you see? Visit the ' +\n",
              "            '<a target=\"_blank\" href=https://colab.research.google.com/notebooks/data_table.ipynb>data table notebook</a>'\n",
              "            + ' to learn more about interactive tables.';\n",
              "          element.innerHTML = '';\n",
              "          dataTable['output_type'] = 'display_data';\n",
              "          await google.colab.output.renderOutput(dataTable, element);\n",
              "          const docLink = document.createElement('div');\n",
              "          docLink.innerHTML = docLinkHtml;\n",
              "          element.appendChild(docLink);\n",
              "        }\n",
              "      </script>\n",
              "    </div>\n",
              "  </div>\n",
              "  "
            ]
          },
          "metadata": {}
        }
      ]
    },
    {
      "cell_type": "code",
      "source": [
        "sns.heatmap(corr, cmap='RdBu', fmt='.2f', square=True, linecolor='white', annot=True);"
      ],
      "metadata": {
        "colab": {
          "base_uri": "https://localhost:8080/",
          "height": 411
        },
        "id": "_ECeUIX0c3yD",
        "outputId": "a70de024-c498-4833-dd92-60d1769a7dad"
      },
      "execution_count": null,
      "outputs": [
        {
          "output_type": "display_data",
          "data": {
            "text/plain": [
              "<Figure size 432x288 with 2 Axes>"
            ],
            "image/png": "[encoded data removed]"
          },
          "metadata": {
            "needs_background": "light"
          }
        }
      ]
    },
    {
      "cell_type": "markdown",
      "metadata": {
        "id": "7b6RMWpuHKN-"
      },
      "source": [
        "###4.3. Qual o tipo de imóvel mais alugado em Los Angeles?\n",
        "\n",
        "A coluna `room_type` indica o tipo de imóvel que está disponibilizado no Airbnb.\n",
        "\n",
        "Para quem utiliza frequentemente o site, sabe que temos opções de apartamentos ou casas inteiras, aluguel de um quarto ou até mesmo dividir um quarto com outros hóspedes.\n",
        "\n",
        "Primeiramente vamos analisar os tipos de imóveis a serem alugados com seus valores únicos, depois contar e verificar a quantitade de ocorrências de cada tipo de aluguel."
      ]
    },
    {
      "cell_type": "code",
      "source": [
        "# analisando os tipos de imóveis com valores únicos\n",
        "\n",
        "df_clean.room_type.unique()"
      ],
      "metadata": {
        "colab": {
          "base_uri": "https://localhost:8080/"
        },
        "id": "24acqAD3vuei",
        "outputId": "8dff4a1b-3cbd-4e05-d4ab-05228397481c"
      },
      "execution_count": null,
      "outputs": [
        {
          "output_type": "execute_result",
          "data": {
            "text/plain": [
              "array(['Entire home/apt', 'Private room', 'Shared room', 'Hotel room'],\n",
              "      dtype=object)"
            ]
          },
          "metadata": {},
          "execution_count": 35
        }
      ]
    },
    {
      "cell_type": "code",
      "metadata": {
        "id": "ueLPNWvPHgfB",
        "colab": {
          "base_uri": "https://localhost:8080/"
        },
        "outputId": "bab5e08a-437e-4ff7-a480-c9b19c27107b"
      },
      "source": [
        "# mostrando a quantidade de cada tipo de imóvel disponível\n",
        "\n",
        "df_clean.room_type.value_counts()\n"
      ],
      "execution_count": null,
      "outputs": [
        {
          "output_type": "execute_result",
          "data": {
            "text/plain": [
              "Entire home/apt    26537\n",
              "Private room       10114\n",
              "Shared room          773\n",
              "Hotel room            77\n",
              "Name: room_type, dtype: int64"
            ]
          },
          "metadata": {},
          "execution_count": 36
        }
      ]
    },
    {
      "cell_type": "code",
      "metadata": {
        "id": "EvwoO-XAHhIm",
        "colab": {
          "base_uri": "https://localhost:8080/",
          "height": 416
        },
        "outputId": "318e51d8-fda9-45e9-df9a-ed71e9a2fded"
      },
      "source": [
        "# plotando um gráfico com os tipos de quartos mais alugados em Los Angeles\n",
        "\n",
        "df_clean.groupby('room_type')['price'].mean().sort_values(ascending=True)[-10:].plot(kind='barh', color='blue')\n",
        "\n",
        "plt.title('Tipo de quarto mais alugado de Los Angeles', loc='left')\n",
        "plt.xlabel('Valor')\n",
        "plt.ylabel('')\n",
        "plt.show();\n",
        "\n",
        "# mostrando a porcentagem de cada tipo de imóvel disponível em relação ao total de imóveis\n",
        "\n",
        "print('\\n')\n",
        "print((df_clean.room_type.value_counts() / df_clean.shape[0]) *100)\n"
      ],
      "execution_count": null,
      "outputs": [
        {
          "output_type": "display_data",
          "data": {
            "text/plain": [
              "<Figure size 432x288 with 1 Axes>"
            ],
            "image/png": "[encoded data removed]"
          },
          "metadata": {
            "needs_background": "light"
          }
        },
        {
          "output_type": "stream",
          "name": "stdout",
          "text": [
            "\n",
            "\n",
            "Entire home/apt    70.763446\n",
            "Private room       26.969947\n",
            "Shared room         2.061278\n",
            "Hotel room          0.205328\n",
            "Name: room_type, dtype: float64\n"
          ]
        }
      ]
    },
    {
      "cell_type": "markdown",
      "source": [
        "Analisando os dados acima, temos 4 tipos de aluguéis no Airbnb para Los Angeles com suas respectivas disponibilidades:\n",
        "\n",
        "* Casa ou Apartamento - 26.537 unidades - 70% dos aluguéis\n",
        "* Quarto privado - 10.114 unidades - Aproximadamente 27% dos aluguéis\n",
        "* Quarto compartilhado - 773 - 2% dos aluguéis\n",
        "* Quarto de hotel - 77 - Menos de 1% dos aluguéis\n",
        "\n",
        "Podemos concluir que o imóvel mais alugado é do tipo **`home/apt (casa/apto)`**."
      ],
      "metadata": {
        "id": "Wjuh3Z42fsnp"
      }
    },
    {
      "cell_type": "markdown",
      "metadata": {
        "id": "MFa5NbnLJMcd"
      },
      "source": [
        "###4.4. Qual a localidade mais cara de Los Angeles?\n",
        "\n"
      ]
    },
    {
      "cell_type": "code",
      "source": [
        "# plotando um gráfico com os bairros mais caros de Los Angeles\n",
        "\n",
        "df_clean.groupby(['neighbourhood']).price.mean().sort_values(ascending=True)[-10:].plot(kind='barh', color='blue')\n",
        "\n",
        "plt.title('Bairros mais caros de Los Angeles', loc='left')\n",
        "plt.xlabel('valor')\n",
        "plt.ylabel('')\n",
        "plt.show();\n",
        "\n",
        "# verificando a média de preços por bairros em Los Angeles\n",
        "\n",
        "print('\\n')\n",
        "print(df_clean.groupby(['neighbourhood']).price.mean().sort_values(ascending=False)[:10])"
      ],
      "metadata": {
        "colab": {
          "base_uri": "https://localhost:8080/",
          "height": 538
        },
        "id": "5M_lGxNIenna",
        "outputId": "9ababd2a-5078-4f53-f9c8-eb43e15ea02a"
      },
      "execution_count": null,
      "outputs": [
        {
          "output_type": "display_data",
          "data": {
            "text/plain": [
              "<Figure size 432x288 with 1 Axes>"
            ],
            "image/png": "[encoded data removed]"
          },
          "metadata": {
            "needs_background": "light"
          }
        },
        {
          "output_type": "stream",
          "name": "stdout",
          "text": [
            "\n",
            "\n",
            "neighbourhood\n",
            "Malibu                                   656.231834\n",
            "Bel-Air                                  550.925000\n",
            "Hollywood Hills West                     524.786385\n",
            "Beverly Crest                            495.824561\n",
            "Unincorporated Santa Monica Mountains    479.046358\n",
            "Westlake Village                         449.888889\n",
            "Palos Verdes Estates                     426.368421\n",
            "Hidden Hills                             414.000000\n",
            "Pacific Palisades                        403.918367\n",
            "Avalon                                   397.453125\n",
            "Name: price, dtype: float64\n"
          ]
        }
      ]
    },
    {
      "cell_type": "code",
      "source": [
        "# verificando a quantidade de imóveis no bairro Bel-Air e Hidden Hills\n",
        "\n",
        "print(df_clean[df_clean.neighbourhood == 'Bel-Air'].shape)\n",
        "print(df_clean[df_clean.neighbourhood == 'Hidden Hills'].shape)"
      ],
      "metadata": {
        "colab": {
          "base_uri": "https://localhost:8080/"
        },
        "id": "Nn1JUf2WhXNu",
        "outputId": "b9294b23-520e-4246-c61d-00945c77f61a"
      },
      "execution_count": null,
      "outputs": [
        {
          "output_type": "stream",
          "name": "stdout",
          "text": [
            "(40, 14)\n",
            "(6, 14)\n"
          ]
        }
      ]
    },
    {
      "cell_type": "markdown",
      "source": [
        "Conseguimos perceber que bairros como `Malibu` e `Bel-Air` estão com valores médios acima de bairros como `Beverly Hills` e `Hollywood` que são os mais populares e mais caros de Los Angeles.\n",
        "\n",
        "Normalmente `Beverly Hills` e `Hollywood` estariam no topo como bairros mais caros, porém como são muito procurados e alugados, faz com que sua média de valor caia em relação a bairros com menor número de aluguel com valores altos.\n",
        "\n",
        "Veja quantas entradas há para `Bel-Air`, apenas 40 propriedades, `Hidden Hills`, apenas 6 propriedades, porém com valores muito altos, fazendo com que o bairro suba no ranking.\n",
        "\n",
        "\n"
      ],
      "metadata": {
        "id": "J_SiA5z1i8TC"
      }
    },
    {
      "cell_type": "markdown",
      "source": [
        "###4.5. Quais os bairros mais alugados em Los Angeles?"
      ],
      "metadata": {
        "id": "WgrW9hVmlGnB"
      }
    },
    {
      "cell_type": "code",
      "source": [
        "# plotando um gráfico com os bairros mais alugados\n",
        "\n",
        "df_clean.neighbourhood.value_counts().head(10).sort_values(ascending=True)[-10:].plot(kind='barh', color='blue')\n",
        "\n",
        "plt.title('Bairros mais alugados de Los Angeles', loc='left')\n",
        "plt.xlabel('Valor')\n",
        "plt.ylabel('')\n",
        "plt.show();\n",
        "\n",
        "# verificando quais bairros possuem maior numero de aluguéis\n",
        "\n",
        "print('\\n')\n",
        "print(df_clean.neighbourhood.value_counts().head(10))"
      ],
      "metadata": {
        "colab": {
          "base_uri": "https://localhost:8080/",
          "height": 521
        },
        "id": "FouNErQen2tN",
        "outputId": "891ed6fd-52b3-431b-ab68-1d849c9e9b97"
      },
      "execution_count": null,
      "outputs": [
        {
          "output_type": "display_data",
          "data": {
            "text/plain": [
              "<Figure size 432x288 with 1 Axes>"
            ],
            "image/png": "[encoded data removed]"
          },
          "metadata": {
            "needs_background": "light"
          }
        },
        {
          "output_type": "stream",
          "name": "stdout",
          "text": [
            "\n",
            "\n",
            "Hollywood          1596\n",
            "Venice             1503\n",
            "Long Beach         1433\n",
            "Santa Monica       1199\n",
            "West Hollywood     1118\n",
            "Beverly Hills      1073\n",
            "Downtown           1023\n",
            "Glendale            817\n",
            "Hollywood Hills     706\n",
            "Rowland Heights     556\n",
            "Name: neighbourhood, dtype: int64\n"
          ]
        }
      ]
    },
    {
      "cell_type": "markdown",
      "source": [
        "Quando falamos em bairros com maior número de aluguéis, nota-se que os bairros mais conhecidos e que possuem um maior número de pontos turísticos, são os que aparecem no top 10 da lista de mais alugados, sendo mais previsível o resultado.\n",
        "\n",
        "Vamos ver a frequência com que estes bairros são alugados."
      ],
      "metadata": {
        "id": "Hk1ByyfFncxu"
      }
    },
    {
      "cell_type": "code",
      "source": [
        "# verificando em porcentagem a frequência de aluguéis do maior para o menor\n",
        "\n",
        "df_clean.neighbourhood.value_counts().head(10) / df_clean.shape[0]"
      ],
      "metadata": {
        "colab": {
          "base_uri": "https://localhost:8080/"
        },
        "id": "jcPJ6EY6q_mC",
        "outputId": "6765f4d0-67de-44d4-9433-0dd1e7c80c11"
      },
      "execution_count": null,
      "outputs": [
        {
          "output_type": "execute_result",
          "data": {
            "text/plain": [
              "Hollywood          0.042559\n",
              "Venice             0.040079\n",
              "Long Beach         0.038212\n",
              "Santa Monica       0.031972\n",
              "West Hollywood     0.029813\n",
              "Beverly Hills      0.028613\n",
              "Downtown           0.027279\n",
              "Glendale           0.021786\n",
              "Hollywood Hills    0.018826\n",
              "Rowland Heights    0.014826\n",
              "Name: neighbourhood, dtype: float64"
            ]
          },
          "metadata": {},
          "execution_count": 41
        }
      ]
    },
    {
      "cell_type": "markdown",
      "source": [
        "###4.6. Quais os bairros mais baratos de Los Angeles?\n"
      ],
      "metadata": {
        "id": "ZSALQNiir273"
      }
    },
    {
      "cell_type": "code",
      "source": [
        "df_clean.groupby(['neighbourhood']).price.mean().sort_values(ascending=False)[-10:].plot(kind='barh', color='blue')\n",
        "\n",
        "plt.title('Bairros mais baratos de Los Angeles', loc='left')\n",
        "plt.xlabel('valor')\n",
        "plt.ylabel('')\n",
        "plt.show();\n",
        "\n",
        "print('\\n')\n",
        "print(df_clean.groupby('neighbourhood')['price'].mean().sort_values(ascending=True)[:10])"
      ],
      "metadata": {
        "colab": {
          "base_uri": "https://localhost:8080/",
          "height": 538
        },
        "id": "9-3mnhzYsCbO",
        "outputId": "947610d2-78fc-4e04-ece7-6436072b3ba8"
      },
      "execution_count": null,
      "outputs": [
        {
          "output_type": "display_data",
          "data": {
            "text/plain": [
              "<Figure size 432x288 with 1 Axes>"
            ],
            "image/png": "[encoded data removed]"
          },
          "metadata": {
            "needs_background": "light"
          }
        },
        {
          "output_type": "stream",
          "name": "stdout",
          "text": [
            "\n",
            "\n",
            "neighbourhood\n",
            "Desert View Highlands     41.000000\n",
            "Watts                     53.222222\n",
            "Rancho Dominguez          55.000000\n",
            "Historic South-Central    60.853659\n",
            "Harvard Park              76.700000\n",
            "Irwindale                 78.000000\n",
            "Cudahy                    78.500000\n",
            "West Compton              78.571429\n",
            "West Puente Valley        81.583333\n",
            "Vermont-Slauson           82.655172\n",
            "Name: price, dtype: float64\n"
          ]
        }
      ]
    },
    {
      "cell_type": "code",
      "source": [
        "# analisando quantas propriedades constam em 2 dos bairros mais baratos em Los Angeles\n",
        "\n",
        "print(df_clean[df_clean.neighbourhood == 'Desert View Highlands'].shape)\n",
        "print(df_clean[df_clean.neighbourhood == 'Rancho Dominguez'].shape)"
      ],
      "metadata": {
        "colab": {
          "base_uri": "https://localhost:8080/"
        },
        "id": "xnw_FwMiHm7L",
        "outputId": "d0c3dda8-ba29-4429-d4a2-876d5a72210e"
      },
      "execution_count": null,
      "outputs": [
        {
          "output_type": "stream",
          "name": "stdout",
          "text": [
            "(3, 14)\n",
            "(4, 14)\n"
          ]
        }
      ]
    },
    {
      "cell_type": "markdown",
      "source": [
        "Analisando as cidades `Desert View Highlands` e `Rancho Dominguez`, a primeira está em uma região distante dos grandes centros de Los Angeles, e com poucas propriedades disponívels, pode ser por isso o seu baixo valor. A segunda está até bem localizada no sul de Los Angeles, porém com poucas propriedades para aluguel.\n",
        "\n",
        "Por estes motivos estes bairros tornam-se menos procurados no Airbnb."
      ],
      "metadata": {
        "id": "GSeaX4LCK-ek"
      }
    },
    {
      "cell_type": "markdown",
      "source": [
        "###4.7 Porque Hollywood é o bairro mais alugado de Los Angeles?"
      ],
      "metadata": {
        "id": "yzcvMn49_kIx"
      }
    },
    {
      "cell_type": "markdown",
      "source": [
        "Vimos acima que o bairro mais procurado em Los Angeles é Hollywood, por isso vamos fazer uma análise sobre um dos bairro que mais tem hospedagens e justificar o porque é tão procurado."
      ],
      "metadata": {
        "id": "hK8CPACXON3G"
      }
    },
    {
      "cell_type": "code",
      "source": [
        "# plotando um gráfico com as opções de quartos mais alugados em Hollywood\n",
        "\n",
        "df_clean[df_clean['neighbourhood'] == 'Hollywood'].groupby(['room_type']).price.mean().sort_values(ascending=True).plot(kind='barh', color='blue');"
      ],
      "metadata": {
        "colab": {
          "base_uri": "https://localhost:8080/",
          "height": 265
        },
        "id": "mAY52uJxPc0G",
        "outputId": "fda988c7-e8b3-42df-86fa-2a31e26be2b0"
      },
      "execution_count": null,
      "outputs": [
        {
          "output_type": "display_data",
          "data": {
            "text/plain": [
              "<Figure size 432x288 with 1 Axes>"
            ],
            "image/png": "[encoded data removed]"
          },
          "metadata": {
            "needs_background": "light"
          }
        }
      ]
    },
    {
      "cell_type": "code",
      "source": [
        "# analisando as informações estatísticas de Hollywood\n",
        "\n",
        "print(df_clean[df_clean['neighbourhood'] == 'Hollywood']['price'].describe())"
      ],
      "metadata": {
        "colab": {
          "base_uri": "https://localhost:8080/"
        },
        "id": "DJwrWTwLW3Dm",
        "outputId": "56a139bd-c435-4504-affa-e56d4a1c7974"
      },
      "execution_count": null,
      "outputs": [
        {
          "output_type": "stream",
          "name": "stdout",
          "text": [
            "count    1596.000000\n",
            "mean      162.451754\n",
            "std       154.934435\n",
            "min         0.000000\n",
            "25%        79.000000\n",
            "50%       118.000000\n",
            "75%       186.250000\n",
            "max      1450.000000\n",
            "Name: price, dtype: float64\n"
          ]
        }
      ]
    },
    {
      "cell_type": "markdown",
      "source": [
        "Hollywood é o bairro mais procurado de Los Angeles, por ser um bairro famoso devido ao cinema, onde se concentram os maiores atores e estúdios, e também a tão conhecida \"Calçada da Fama'.\n",
        "\n",
        "Mas como podemos ver nos valores estatísticos, Hollywood não se torna tão procurada somente pela sua fama, e sim pelo custo de hospedagem. 75% de seus valores são menores que $ 186.00 por noite, entregando uma localidade muito boa no centro de Los Angeles.\n",
        "\n",
        "A maior hospedagem em Hollywood está em casas e apartamentos."
      ],
      "metadata": {
        "id": "1rXRF3eIQfqo"
      }
    },
    {
      "cell_type": "markdown",
      "source": [
        "###4.8 Quais os bairros com maior quantidade de imóveis disponíveis no ano?\n",
        "\n",
        "Hollywood também é o segundo bairro com maior número de imóveis disponíveis anualmente, atrás somente de Beverly Hills, outro dado favorável para o bairro de Hollywood, fazendo valer sua popularidade e tornando-o uns dos mais procurados de Los Angeles."
      ],
      "metadata": {
        "id": "5kf4BcSgZm7f"
      }
    },
    {
      "cell_type": "code",
      "source": [
        "# visualizando quais os bairros mais avaliados no ano\n",
        "\n",
        "df_clean.groupby('neighbourhood')['availability_365'].sum().sort_values(ascending=True)[-10:].plot(kind='barh', color='blue')\n",
        "\n",
        "plt.title('Quantidade de imóveis disponíveis', loc='left')\n",
        "plt.xlabel('Valor')\n",
        "plt.ylabel('')\n",
        "plt.show();\n",
        "\n",
        "# mostrando os bairros com maior disponibilidade anual\n",
        "\n",
        "print('\\n')\n",
        "print(df_clean.groupby('neighbourhood')['availability_365'].sum().sort_values(ascending=False)[:10])"
      ],
      "metadata": {
        "colab": {
          "base_uri": "https://localhost:8080/",
          "height": 538
        },
        "id": "gUSZEjhTIliT",
        "outputId": "4fe8e12a-ef4e-4e79-d60b-54572cf255a0"
      },
      "execution_count": null,
      "outputs": [
        {
          "output_type": "display_data",
          "data": {
            "text/plain": [
              "<Figure size 432x288 with 1 Axes>"
            ],
            "image/png": "[encoded data removed]"
          },
          "metadata": {
            "needs_background": "light"
          }
        },
        {
          "output_type": "stream",
          "name": "stdout",
          "text": [
            "\n",
            "\n",
            "neighbourhood\n",
            "Beverly Hills      276013\n",
            "Hollywood          272324\n",
            "Long Beach         268970\n",
            "Venice             262556\n",
            "West Hollywood     216845\n",
            "Downtown           215074\n",
            "Santa Monica       214331\n",
            "Glendale           160250\n",
            "Hollywood Hills    133230\n",
            "Sherman Oaks       113383\n",
            "Name: availability_365, dtype: int64\n"
          ]
        }
      ]
    },
    {
      "cell_type": "markdown",
      "metadata": {
        "id": "vTneAMRUYvr1"
      },
      "source": [
        "###4.9. Qual é a média do mínimo de noites para hospedagem?"
      ]
    },
    {
      "cell_type": "code",
      "metadata": {
        "id": "_VzNhrEgY82N",
        "colab": {
          "base_uri": "https://localhost:8080/"
        },
        "outputId": "310989ea-5215-44d8-a4ad-1c832ab2b2cf"
      },
      "source": [
        "# mostrando a média da coluna `minimum_nights``\n",
        "\n",
        "df_clean['minimum_nights'].mean()"
      ],
      "execution_count": null,
      "outputs": [
        {
          "output_type": "execute_result",
          "data": {
            "text/plain": [
              "16.44508146449428"
            ]
          },
          "metadata": {},
          "execution_count": 47
        }
      ]
    },
    {
      "cell_type": "code",
      "source": [
        "df_clean.minimum_nights.hist(bins=15, figsize=(10, 3), color='blue');"
      ],
      "metadata": {
        "colab": {
          "base_uri": "https://localhost:8080/",
          "height": 211
        },
        "id": "zvO_8f6VOiNw",
        "outputId": "d2f29094-72a8-4c3e-ca8f-f54e90d9aaf9"
      },
      "execution_count": null,
      "outputs": [
        {
          "output_type": "display_data",
          "data": {
            "text/plain": [
              "<Figure size 720x216 with 1 Axes>"
            ],
            "image/png": "[encoded data removed]"
          },
          "metadata": {
            "needs_background": "light"
          }
        }
      ]
    },
    {
      "cell_type": "markdown",
      "source": [
        "O valor médio do mínimo de noites em Los Angeles de acordo com os dados é de 16 dias aproximadamente, porém como podemos ver no histograma, as reservas em maior quantidade está entre 1 a 10 dias ou entre 25 a 35 dias."
      ],
      "metadata": {
        "id": "1RUG_8dtdWpk"
      }
    },
    {
      "cell_type": "code",
      "metadata": {
        "id": "UxVJqJ_3W59I",
        "colab": {
          "base_uri": "https://localhost:8080/",
          "height": 472
        },
        "outputId": "50786777-400d-46ad-9f58-bfdad7697db4"
      },
      "source": [
        "# plotando os imóveis pela latitude-longitude\n",
        "\n",
        "df_clean.plot(kind='scatter', x='longitude', y='latitude', alpha=0.4, c=df_clean['price'], s=8,\n",
        "              cmap=plt.get_cmap('jet'), figsize=(12, 8));\n",
        "\n"
      ],
      "execution_count": null,
      "outputs": [
        {
          "output_type": "display_data",
          "data": {
            "text/plain": [
              "<Figure size 864x576 with 2 Axes>"
            ],
            "image/png": "[encoded data removed]"
          },
          "metadata": {
            "needs_background": "light"
          }
        }
      ]
    },
    {
      "cell_type": "markdown",
      "source": [
        "Ao olharmos o gráfico podemos concluir que a maior quantidade de hospedagens da cidade de Los Angeles se concentra na região central e próximo as belas praias de Los Angeles."
      ],
      "metadata": {
        "id": "T3ULMai7dkiW"
      }
    },
    {
      "cell_type": "markdown",
      "metadata": {
        "id": "GkvAg623RjoR"
      },
      "source": [
        "#**5. Conclusões**\n"
      ]
    },
    {
      "cell_type": "markdown",
      "metadata": {
        "id": "rbZ3Hsy9Ypw8"
      },
      "source": [
        "Foi realizada apenas uma análise superfical na base de dados do Airbnb, porém consegui tirar informações valiosas da cidade de Los Angeles para quem desejar um dia conhecê-la.\n",
        "\n",
        "Falando da parte técnica, foi feita a importação, exploração, análise e limpeza dos dados, a fim de enfatizar as análises baseadas nos dados estatísticos extraídos.\n",
        "\n",
        "Na análise exploratória, verifiquei os resumos estatísticos das variáveis, tipo de hospedagem mais locada, qual a localidade mais cara na cidade de Los Angeles, qual o bairro mais alugado, qual o bairro mais caro e mais barato de Los Angeles, qual o motivo do bairro mais alugado ser o mais procurado, quais os bairros com maior quantidade de imóveis disponíveis no ano, a média do mínimo de noites e a visualização por longitude e latitude onde se concentra o maior número de hospedagens.\n",
        "\n",
        "Para conseguir maiores insights o ideal é pegar o dataset completo no site do Airbnb, aumentando assim, a qualidade das informações por conter maior quantidade de dados.\n",
        "\n",
        "Com esta análise foi possível conhecer melhor a cidade de Los Angeles, e com certeza este projeto será primordial para programar uma futura viagem."
      ]
    }
  ]
}