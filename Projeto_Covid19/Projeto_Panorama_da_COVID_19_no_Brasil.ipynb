{
  "nbformat": 4,
  "nbformat_minor": 0,
  "metadata": {
    "colab": {
      "provenance": []
    },
    "kernelspec": {
      "name": "python3",
      "display_name": "Python 3"
    }
  },
  "cells": [
    {
      "cell_type": "markdown",
      "metadata": {
        "id": "-eFQZydM9O9J"
      },
      "source": [
        "<img alt=\"bruno logo\" width=\"15%\" src=\"https://raw.githubusercontent.com/brunobonatini/Data_Science/main/logo.png\">\n",
        "\n",
        "#### **Data Scientist & Analyst**\n",
        "*by [Bruno Bonatini](https://www.linkedin.com/in/bsbonatini/)*\n",
        "\n",
        "---\n",
        "  "
      ]
    },
    {
      "cell_type": "markdown",
      "metadata": {
        "id": "kLI0gJtzDGuQ"
      },
      "source": [
        "# Panorama do COVID-19 no Brasil\n",
        "\n",
        "COVID-19 é uma doença infecciosa causada pelo vírus SARS-Cov-2, identificada pela primeira vez em dezembro de 2019 na cidade de Wuhan, na China, com um surto de pneumonia por causa desconhecida. Houve relatos que as pessoas infectadas tiveram contatos com animais em um mercado de frutos do mar e animais vivos na cidade, mas não foi confirmado que o vírus tenha sido transmitido por estes animais.\n",
        "\n",
        "Em Janeiro de 2020, o vírus se espalhou rapidamente em outras partes da China e depois para outros países, quando em Março de 2020 foi decretada pela OMS (Organização Mundial da Saúde) como pandemia global.\n",
        "\n",
        "Transmitido principalmente por meio de gotículas provenientes de tosses ou espirros de pessoas infectadas, a gravidade dos sintomas varia muito de pessoa para pessoa, mas podem incluir febre, tosse seca, fadiga, dor de cabeça, perda de olfato ou paladar, dor de garganta, dores musculares e dificuldades na respiração. Em casos mais graves, a doença pode levar a pneumonia, falência de orgãos e até a morte.\n",
        "\n",
        "<img alt=\"Colaboratory logo\" width=\"50%\" src=\"https://raw.githubusercontent.com/brunobonatini/Data_Science/main/Projeto_Covid19/covid19.jpg\">\n",
        "\n",
        "Desde o início da pandemia, a COVID-19 afetou milhões de pessoas em todo o mundo e teve um impacto significativo na saúde pública, economia e na sociedade como um todo.\n",
        "\n",
        "Após alguns meses de pesquisas, as vacinas foram liberadas no mês Dezembro de 2020, tornando-se uma medida muito importante para controlar a proliferação da doença.\n",
        "\n",
        "Mesmo após a liberação das vacinas, notou-se um aumento de casos principalmente em épocas de festas e datas comemorativas, fazendo com que o vírus sofresse mutações gerando novas variantes e consequentemente novas doses de vacinas.\n",
        "\n",
        "Neste **projeto** farei a análise de uma maneira geral sobre a COVID-19 no Brasil e no Mundo, para assim conseguir extrair alguns insights importantes dos dados. "
      ]
    },
    {
      "cell_type": "markdown",
      "metadata": {
        "id": "0zxQHhIUDF_2"
      },
      "source": [
        "## Obtenção dos Dados\n",
        "\n",
        "Os dados utilizados neste projeto foram obtidos através de uma fonte super segura e confiável no [GitHub](https://github.com/owid/covid-19-data/tree/master/public/data), que extraiu-os diretamente do site [Our World in Data](https://ourworldindata.org/).\n",
        "\n",
        "A grande dificuldade de se analisar dados de uma nova doença como a COVID-19 é que há muitas incertezas em relação ao vírus. \n",
        "\n",
        "Além de ser uma doença relativamente nova e altamente contagiosa, os sistemas de saúde não dão conta da quantidade de pacientes infectados e que precisam de tratamento, os cientistas precisam coletar dados em tempo real para analisar e entender a natureza da doença e os sistemas governamentais, estaduais e federais, divulgam informações diferentes de acordo com o benefício próprio de cada um, gerando muita diferença nos números, muitas vezes por questões políticas.\n",
        "\n",
        "Caso tenham algum problema em baixar o arquivo diretamente do repositório oficial, deixo aqui o [meu link](https://raw.githubusercontent.com/brunobonatini/Data_Science/main/Projeto_Covid19/owid-covid-data.csv) atualizado em 06.03.2023."
      ]
    },
    {
      "cell_type": "markdown",
      "source": [
        "# Importando as bibliotecas necessárias e o dataset para o desenvolvimento do Projeto"
      ],
      "metadata": {
        "id": "IHuau39cXz86"
      }
    },
    {
      "cell_type": "code",
      "metadata": {
        "id": "lOtEJxe0DMEb"
      },
      "source": [
        "# importando as bibliotecas necessárias\n",
        "import pandas as pd\n",
        "import numpy as np\n",
        "import matplotlib.pyplot as plt\n",
        "import seaborn as sns\n",
        "\n",
        "%matplotlib inline\n",
        "\n",
        "# importando o dataset COVID-19 para um DataFrame\n",
        "data = 'https://raw.githubusercontent.com/brunobonatini/Data_Science/main/Projeto_Covid19/owid-covid-data.csv'\n",
        "df = pd.read_csv(data)\n"
      ],
      "execution_count": 1,
      "outputs": []
    },
    {
      "cell_type": "markdown",
      "source": [
        "Após a importação das bibliotecas e do dataset, vou visualizar as primeiras entradas para ter uma visão geral dos dados, e na sequência vou analisar quais variáveis utilizarei neste projeto, copiando-as em um novo DataFrame."
      ],
      "metadata": {
        "id": "-SdWQDqPiuKm"
      }
    },
    {
      "cell_type": "code",
      "source": [
        "# visualizando as primeiras entradas do dataframe\n",
        "df.head()"
      ],
      "metadata": {
        "colab": {
          "base_uri": "https://localhost:8080/",
          "height": 386
        },
        "id": "xHDKd3RVbhw0",
        "outputId": "0cd1e9ec-b0c8-4026-f669-b8688ee22a3e"
      },
      "execution_count": 2,
      "outputs": [
        {
          "output_type": "execute_result",
          "data": {
            "text/plain": [
              "  iso_code continent     location        date  total_cases  new_cases  \\\n",
              "0      AFG      Asia  Afghanistan  2020-02-24          5.0        5.0   \n",
              "1      AFG      Asia  Afghanistan  2020-02-25          5.0        0.0   \n",
              "2      AFG      Asia  Afghanistan  2020-02-26          5.0        0.0   \n",
              "3      AFG      Asia  Afghanistan  2020-02-27          5.0        0.0   \n",
              "4      AFG      Asia  Afghanistan  2020-02-28          5.0        0.0   \n",
              "\n",
              "   new_cases_smoothed  total_deaths  new_deaths  new_deaths_smoothed  ...  \\\n",
              "0                 NaN           NaN         NaN                  NaN  ...   \n",
              "1                 NaN           NaN         NaN                  NaN  ...   \n",
              "2                 NaN           NaN         NaN                  NaN  ...   \n",
              "3                 NaN           NaN         NaN                  NaN  ...   \n",
              "4                 NaN           NaN         NaN                  NaN  ...   \n",
              "\n",
              "   male_smokers  handwashing_facilities  hospital_beds_per_thousand  \\\n",
              "0           NaN                  37.746                         0.5   \n",
              "1           NaN                  37.746                         0.5   \n",
              "2           NaN                  37.746                         0.5   \n",
              "3           NaN                  37.746                         0.5   \n",
              "4           NaN                  37.746                         0.5   \n",
              "\n",
              "   life_expectancy  human_development_index  population  \\\n",
              "0            64.83                    0.511  41128772.0   \n",
              "1            64.83                    0.511  41128772.0   \n",
              "2            64.83                    0.511  41128772.0   \n",
              "3            64.83                    0.511  41128772.0   \n",
              "4            64.83                    0.511  41128772.0   \n",
              "\n",
              "   excess_mortality_cumulative_absolute  excess_mortality_cumulative  \\\n",
              "0                                   NaN                          NaN   \n",
              "1                                   NaN                          NaN   \n",
              "2                                   NaN                          NaN   \n",
              "3                                   NaN                          NaN   \n",
              "4                                   NaN                          NaN   \n",
              "\n",
              "   excess_mortality  excess_mortality_cumulative_per_million  \n",
              "0               NaN                                      NaN  \n",
              "1               NaN                                      NaN  \n",
              "2               NaN                                      NaN  \n",
              "3               NaN                                      NaN  \n",
              "4               NaN                                      NaN  \n",
              "\n",
              "[5 rows x 67 columns]"
            ],
            "text/html": [
              "\n",
              "  <div id=\"df-8162340c-143b-4d75-b64d-01ad02727a52\">\n",
              "    <div class=\"colab-df-container\">\n",
              "      <div>\n",
              "<style scoped>\n",
              "    .dataframe tbody tr th:only-of-type {\n",
              "        vertical-align: middle;\n",
              "    }\n",
              "\n",
              "    .dataframe tbody tr th {\n",
              "        vertical-align: top;\n",
              "    }\n",
              "\n",
              "    .dataframe thead th {\n",
              "        text-align: right;\n",
              "    }\n",
              "</style>\n",
              "<table border=\"1\" class=\"dataframe\">\n",
              "  <thead>\n",
              "    <tr style=\"text-align: right;\">\n",
              "      <th></th>\n",
              "      <th>iso_code</th>\n",
              "      <th>continent</th>\n",
              "      <th>location</th>\n",
              "      <th>date</th>\n",
              "      <th>total_cases</th>\n",
              "      <th>new_cases</th>\n",
              "      <th>new_cases_smoothed</th>\n",
              "      <th>total_deaths</th>\n",
              "      <th>new_deaths</th>\n",
              "      <th>new_deaths_smoothed</th>\n",
              "      <th>...</th>\n",
              "      <th>male_smokers</th>\n",
              "      <th>handwashing_facilities</th>\n",
              "      <th>hospital_beds_per_thousand</th>\n",
              "      <th>life_expectancy</th>\n",
              "      <th>human_development_index</th>\n",
              "      <th>population</th>\n",
              "      <th>excess_mortality_cumulative_absolute</th>\n",
              "      <th>excess_mortality_cumulative</th>\n",
              "      <th>excess_mortality</th>\n",
              "      <th>excess_mortality_cumulative_per_million</th>\n",
              "    </tr>\n",
              "  </thead>\n",
              "  <tbody>\n",
              "    <tr>\n",
              "      <th>0</th>\n",
              "      <td>AFG</td>\n",
              "      <td>Asia</td>\n",
              "      <td>Afghanistan</td>\n",
              "      <td>2020-02-24</td>\n",
              "      <td>5.0</td>\n",
              "      <td>5.0</td>\n",
              "      <td>NaN</td>\n",
              "      <td>NaN</td>\n",
              "      <td>NaN</td>\n",
              "      <td>NaN</td>\n",
              "      <td>...</td>\n",
              "      <td>NaN</td>\n",
              "      <td>37.746</td>\n",
              "      <td>0.5</td>\n",
              "      <td>64.83</td>\n",
              "      <td>0.511</td>\n",
              "      <td>41128772.0</td>\n",
              "      <td>NaN</td>\n",
              "      <td>NaN</td>\n",
              "      <td>NaN</td>\n",
              "      <td>NaN</td>\n",
              "    </tr>\n",
              "    <tr>\n",
              "      <th>1</th>\n",
              "      <td>AFG</td>\n",
              "      <td>Asia</td>\n",
              "      <td>Afghanistan</td>\n",
              "      <td>2020-02-25</td>\n",
              "      <td>5.0</td>\n",
              "      <td>0.0</td>\n",
              "      <td>NaN</td>\n",
              "      <td>NaN</td>\n",
              "      <td>NaN</td>\n",
              "      <td>NaN</td>\n",
              "      <td>...</td>\n",
              "      <td>NaN</td>\n",
              "      <td>37.746</td>\n",
              "      <td>0.5</td>\n",
              "      <td>64.83</td>\n",
              "      <td>0.511</td>\n",
              "      <td>41128772.0</td>\n",
              "      <td>NaN</td>\n",
              "      <td>NaN</td>\n",
              "      <td>NaN</td>\n",
              "      <td>NaN</td>\n",
              "    </tr>\n",
              "    <tr>\n",
              "      <th>2</th>\n",
              "      <td>AFG</td>\n",
              "      <td>Asia</td>\n",
              "      <td>Afghanistan</td>\n",
              "      <td>2020-02-26</td>\n",
              "      <td>5.0</td>\n",
              "      <td>0.0</td>\n",
              "      <td>NaN</td>\n",
              "      <td>NaN</td>\n",
              "      <td>NaN</td>\n",
              "      <td>NaN</td>\n",
              "      <td>...</td>\n",
              "      <td>NaN</td>\n",
              "      <td>37.746</td>\n",
              "      <td>0.5</td>\n",
              "      <td>64.83</td>\n",
              "      <td>0.511</td>\n",
              "      <td>41128772.0</td>\n",
              "      <td>NaN</td>\n",
              "      <td>NaN</td>\n",
              "      <td>NaN</td>\n",
              "      <td>NaN</td>\n",
              "    </tr>\n",
              "    <tr>\n",
              "      <th>3</th>\n",
              "      <td>AFG</td>\n",
              "      <td>Asia</td>\n",
              "      <td>Afghanistan</td>\n",
              "      <td>2020-02-27</td>\n",
              "      <td>5.0</td>\n",
              "      <td>0.0</td>\n",
              "      <td>NaN</td>\n",
              "      <td>NaN</td>\n",
              "      <td>NaN</td>\n",
              "      <td>NaN</td>\n",
              "      <td>...</td>\n",
              "      <td>NaN</td>\n",
              "      <td>37.746</td>\n",
              "      <td>0.5</td>\n",
              "      <td>64.83</td>\n",
              "      <td>0.511</td>\n",
              "      <td>41128772.0</td>\n",
              "      <td>NaN</td>\n",
              "      <td>NaN</td>\n",
              "      <td>NaN</td>\n",
              "      <td>NaN</td>\n",
              "    </tr>\n",
              "    <tr>\n",
              "      <th>4</th>\n",
              "      <td>AFG</td>\n",
              "      <td>Asia</td>\n",
              "      <td>Afghanistan</td>\n",
              "      <td>2020-02-28</td>\n",
              "      <td>5.0</td>\n",
              "      <td>0.0</td>\n",
              "      <td>NaN</td>\n",
              "      <td>NaN</td>\n",
              "      <td>NaN</td>\n",
              "      <td>NaN</td>\n",
              "      <td>...</td>\n",
              "      <td>NaN</td>\n",
              "      <td>37.746</td>\n",
              "      <td>0.5</td>\n",
              "      <td>64.83</td>\n",
              "      <td>0.511</td>\n",
              "      <td>41128772.0</td>\n",
              "      <td>NaN</td>\n",
              "      <td>NaN</td>\n",
              "      <td>NaN</td>\n",
              "      <td>NaN</td>\n",
              "    </tr>\n",
              "  </tbody>\n",
              "</table>\n",
              "<p>5 rows × 67 columns</p>\n",
              "</div>\n",
              "      <button class=\"colab-df-convert\" onclick=\"convertToInteractive('df-8162340c-143b-4d75-b64d-01ad02727a52')\"\n",
              "              title=\"Convert this dataframe to an interactive table.\"\n",
              "              style=\"display:none;\">\n",
              "        \n",
              "  <svg xmlns=\"http://www.w3.org/2000/svg\" height=\"24px\"viewBox=\"0 0 24 24\"\n",
              "       width=\"24px\">\n",
              "    <path d=\"M0 0h24v24H0V0z\" fill=\"none\"/>\n",
              "    <path d=\"M18.56 5.44l.94 2.06.94-2.06 2.06-.94-2.06-.94-.94-2.06-.94 2.06-2.06.94zm-11 1L8.5 8.5l.94-2.06 2.06-.94-2.06-.94L8.5 2.5l-.94 2.06-2.06.94zm10 10l.94 2.06.94-2.06 2.06-.94-2.06-.94-.94-2.06-.94 2.06-2.06.94z\"/><path d=\"M17.41 7.96l-1.37-1.37c-.4-.4-.92-.59-1.43-.59-.52 0-1.04.2-1.43.59L10.3 9.45l-7.72 7.72c-.78.78-.78 2.05 0 2.83L4 21.41c.39.39.9.59 1.41.59.51 0 1.02-.2 1.41-.59l7.78-7.78 2.81-2.81c.8-.78.8-2.07 0-2.86zM5.41 20L4 18.59l7.72-7.72 1.47 1.35L5.41 20z\"/>\n",
              "  </svg>\n",
              "      </button>\n",
              "      \n",
              "  <style>\n",
              "    .colab-df-container {\n",
              "      display:flex;\n",
              "      flex-wrap:wrap;\n",
              "      gap: 12px;\n",
              "    }\n",
              "\n",
              "    .colab-df-convert {\n",
              "      background-color: #E8F0FE;\n",
              "      border: none;\n",
              "      border-radius: 50%;\n",
              "      cursor: pointer;\n",
              "      display: none;\n",
              "      fill: #1967D2;\n",
              "      height: 32px;\n",
              "      padding: 0 0 0 0;\n",
              "      width: 32px;\n",
              "    }\n",
              "\n",
              "    .colab-df-convert:hover {\n",
              "      background-color: #E2EBFA;\n",
              "      box-shadow: 0px 1px 2px rgba(60, 64, 67, 0.3), 0px 1px 3px 1px rgba(60, 64, 67, 0.15);\n",
              "      fill: #174EA6;\n",
              "    }\n",
              "\n",
              "    [theme=dark] .colab-df-convert {\n",
              "      background-color: #3B4455;\n",
              "      fill: #D2E3FC;\n",
              "    }\n",
              "\n",
              "    [theme=dark] .colab-df-convert:hover {\n",
              "      background-color: #434B5C;\n",
              "      box-shadow: 0px 1px 3px 1px rgba(0, 0, 0, 0.15);\n",
              "      filter: drop-shadow(0px 1px 2px rgba(0, 0, 0, 0.3));\n",
              "      fill: #FFFFFF;\n",
              "    }\n",
              "  </style>\n",
              "\n",
              "      <script>\n",
              "        const buttonEl =\n",
              "          document.querySelector('#df-8162340c-143b-4d75-b64d-01ad02727a52 button.colab-df-convert');\n",
              "        buttonEl.style.display =\n",
              "          google.colab.kernel.accessAllowed ? 'block' : 'none';\n",
              "\n",
              "        async function convertToInteractive(key) {\n",
              "          const element = document.querySelector('#df-8162340c-143b-4d75-b64d-01ad02727a52');\n",
              "          const dataTable =\n",
              "            await google.colab.kernel.invokeFunction('convertToInteractive',\n",
              "                                                     [key], {});\n",
              "          if (!dataTable) return;\n",
              "\n",
              "          const docLinkHtml = 'Like what you see? Visit the ' +\n",
              "            '<a target=\"_blank\" href=https://colab.research.google.com/notebooks/data_table.ipynb>data table notebook</a>'\n",
              "            + ' to learn more about interactive tables.';\n",
              "          element.innerHTML = '';\n",
              "          dataTable['output_type'] = 'display_data';\n",
              "          await google.colab.output.renderOutput(dataTable, element);\n",
              "          const docLink = document.createElement('div');\n",
              "          docLink.innerHTML = docLinkHtml;\n",
              "          element.appendChild(docLink);\n",
              "        }\n",
              "      </script>\n",
              "    </div>\n",
              "  </div>\n",
              "  "
            ]
          },
          "metadata": {},
          "execution_count": 2
        }
      ]
    },
    {
      "cell_type": "code",
      "source": [
        "# visualizando as variáveis do dataset\n",
        "\n",
        "df.columns"
      ],
      "metadata": {
        "colab": {
          "base_uri": "https://localhost:8080/"
        },
        "id": "2-tvgT55j4Za",
        "outputId": "579af457-27ae-4805-dc91-36d46453ab34"
      },
      "execution_count": 3,
      "outputs": [
        {
          "output_type": "execute_result",
          "data": {
            "text/plain": [
              "Index(['iso_code', 'continent', 'location', 'date', 'total_cases', 'new_cases',\n",
              "       'new_cases_smoothed', 'total_deaths', 'new_deaths',\n",
              "       'new_deaths_smoothed', 'total_cases_per_million',\n",
              "       'new_cases_per_million', 'new_cases_smoothed_per_million',\n",
              "       'total_deaths_per_million', 'new_deaths_per_million',\n",
              "       'new_deaths_smoothed_per_million', 'reproduction_rate', 'icu_patients',\n",
              "       'icu_patients_per_million', 'hosp_patients',\n",
              "       'hosp_patients_per_million', 'weekly_icu_admissions',\n",
              "       'weekly_icu_admissions_per_million', 'weekly_hosp_admissions',\n",
              "       'weekly_hosp_admissions_per_million', 'total_tests', 'new_tests',\n",
              "       'total_tests_per_thousand', 'new_tests_per_thousand',\n",
              "       'new_tests_smoothed', 'new_tests_smoothed_per_thousand',\n",
              "       'positive_rate', 'tests_per_case', 'tests_units', 'total_vaccinations',\n",
              "       'people_vaccinated', 'people_fully_vaccinated', 'total_boosters',\n",
              "       'new_vaccinations', 'new_vaccinations_smoothed',\n",
              "       'total_vaccinations_per_hundred', 'people_vaccinated_per_hundred',\n",
              "       'people_fully_vaccinated_per_hundred', 'total_boosters_per_hundred',\n",
              "       'new_vaccinations_smoothed_per_million',\n",
              "       'new_people_vaccinated_smoothed',\n",
              "       'new_people_vaccinated_smoothed_per_hundred', 'stringency_index',\n",
              "       'population_density', 'median_age', 'aged_65_older', 'aged_70_older',\n",
              "       'gdp_per_capita', 'extreme_poverty', 'cardiovasc_death_rate',\n",
              "       'diabetes_prevalence', 'female_smokers', 'male_smokers',\n",
              "       'handwashing_facilities', 'hospital_beds_per_thousand',\n",
              "       'life_expectancy', 'human_development_index', 'population',\n",
              "       'excess_mortality_cumulative_absolute', 'excess_mortality_cumulative',\n",
              "       'excess_mortality', 'excess_mortality_cumulative_per_million'],\n",
              "      dtype='object')"
            ]
          },
          "metadata": {},
          "execution_count": 3
        }
      ]
    },
    {
      "cell_type": "markdown",
      "metadata": {
        "id": "qb5By2nIMS6m"
      },
      "source": [
        "# 1.Análise Exploratória dos Dados\n",
        "\n",
        "Nesta etapa do projeto, farei a descrição apenas das variáveis que serão utilizadas neste projeto a fim de conhecer melhor como os dados estão estruturados, estas variáveis serão copiadas para um novo DataFrame `df_covid`, conseguindo assim uma melhor análise e processamento dos dados.\n",
        "\n",
        "Será realizada também nesta fase, a identificação, substituição ou remoção dos valores ausentes, dados duplicados ou inconsistentes.\n",
        "\n",
        "Vou visualizar a distribuição dos dados em suas variáveis através de um gráfico e analisar os seus valores estatísticos, buscando encontrar outliers que nos prejudica e impede que uma análise seja feita com qualidade.\n",
        "\n",
        "## 1.1.Dicionário de Variáveis\n",
        "\n",
        "* **continent** - Nome do continente\n",
        "* **location** - Localização geográfica\n",
        "* **date** - Data de obervação da doença\n",
        "* **total_cases** - Novos casos confirmados de COVID-19 (suavização de 7 dias). As contagens podem incluir casos prováveis, quando relatados.\n",
        "* **total_deaths** - Total de mortes atribuídas à COVID-19. As contagens podem incluir mortes prováveis, quando relatadas\n",
        "* **total_vaccinations** - Número total de doses de vacinação contra COVID-19 administradas\n",
        "* **people_vaccinated** - Número total de pessoas que receberam pelo menos uma dose de vacina\n",
        "* **people_fully_vaccinated** - Número total de pessoas que receberam todas as doses prescritas pelo protocolo inicial de vacinação\n",
        "* **population** - População (últimos valores disponíveis). Consulte https://github.com/owid/covid-19-data/blob/master/scripts/input/un/population_latest.csv para obter a lista completa de fontes \n",
        "* **median_age** - Idade média da população, projeção da ONU para 2020\n",
        "* **life_expectancy** - Expectativa de vida ao nascer em 2019\n",
        "* **gdp_per_capita** - Produto interno bruto (PIB) em paridade de poder de compra (dólares internacionais constantes de 2011), ano mais recente disponível\n"
      ]
    },
    {
      "cell_type": "code",
      "source": [
        "# copiando as variáveis que serão utilizadas neste projeto para um novo dataframe\n",
        "df_covid = df[['date', 'continent', 'location', 'total_cases', \n",
        "               'total_deaths', 'total_vaccinations',\n",
        "               'people_vaccinated', 'people_fully_vaccinated', 'population', \n",
        "               'median_age', 'life_expectancy', 'gdp_per_capita']].copy()"
      ],
      "metadata": {
        "id": "BEgNjG81KsSl"
      },
      "execution_count": 4,
      "outputs": []
    },
    {
      "cell_type": "code",
      "source": [
        "# visualizando as primeiras entradas do dataframe\n",
        "df_covid.head()"
      ],
      "metadata": {
        "colab": {
          "base_uri": "https://localhost:8080/",
          "height": 250
        },
        "id": "PWeA_93CUOdw",
        "outputId": "b54a04fa-72cb-4800-83b2-656a6bc2fc44"
      },
      "execution_count": 5,
      "outputs": [
        {
          "output_type": "execute_result",
          "data": {
            "text/plain": [
              "         date continent     location  total_cases  total_deaths  \\\n",
              "0  2020-02-24      Asia  Afghanistan          5.0           NaN   \n",
              "1  2020-02-25      Asia  Afghanistan          5.0           NaN   \n",
              "2  2020-02-26      Asia  Afghanistan          5.0           NaN   \n",
              "3  2020-02-27      Asia  Afghanistan          5.0           NaN   \n",
              "4  2020-02-28      Asia  Afghanistan          5.0           NaN   \n",
              "\n",
              "   total_vaccinations  people_vaccinated  people_fully_vaccinated  population  \\\n",
              "0                 NaN                NaN                      NaN  41128772.0   \n",
              "1                 NaN                NaN                      NaN  41128772.0   \n",
              "2                 NaN                NaN                      NaN  41128772.0   \n",
              "3                 NaN                NaN                      NaN  41128772.0   \n",
              "4                 NaN                NaN                      NaN  41128772.0   \n",
              "\n",
              "   median_age  life_expectancy  gdp_per_capita  \n",
              "0        18.6            64.83        1803.987  \n",
              "1        18.6            64.83        1803.987  \n",
              "2        18.6            64.83        1803.987  \n",
              "3        18.6            64.83        1803.987  \n",
              "4        18.6            64.83        1803.987  "
            ],
            "text/html": [
              "\n",
              "  <div id=\"df-d5f7b396-f3da-42a7-ae6f-26ff24b8898b\">\n",
              "    <div class=\"colab-df-container\">\n",
              "      <div>\n",
              "<style scoped>\n",
              "    .dataframe tbody tr th:only-of-type {\n",
              "        vertical-align: middle;\n",
              "    }\n",
              "\n",
              "    .dataframe tbody tr th {\n",
              "        vertical-align: top;\n",
              "    }\n",
              "\n",
              "    .dataframe thead th {\n",
              "        text-align: right;\n",
              "    }\n",
              "</style>\n",
              "<table border=\"1\" class=\"dataframe\">\n",
              "  <thead>\n",
              "    <tr style=\"text-align: right;\">\n",
              "      <th></th>\n",
              "      <th>date</th>\n",
              "      <th>continent</th>\n",
              "      <th>location</th>\n",
              "      <th>total_cases</th>\n",
              "      <th>total_deaths</th>\n",
              "      <th>total_vaccinations</th>\n",
              "      <th>people_vaccinated</th>\n",
              "      <th>people_fully_vaccinated</th>\n",
              "      <th>population</th>\n",
              "      <th>median_age</th>\n",
              "      <th>life_expectancy</th>\n",
              "      <th>gdp_per_capita</th>\n",
              "    </tr>\n",
              "  </thead>\n",
              "  <tbody>\n",
              "    <tr>\n",
              "      <th>0</th>\n",
              "      <td>2020-02-24</td>\n",
              "      <td>Asia</td>\n",
              "      <td>Afghanistan</td>\n",
              "      <td>5.0</td>\n",
              "      <td>NaN</td>\n",
              "      <td>NaN</td>\n",
              "      <td>NaN</td>\n",
              "      <td>NaN</td>\n",
              "      <td>41128772.0</td>\n",
              "      <td>18.6</td>\n",
              "      <td>64.83</td>\n",
              "      <td>1803.987</td>\n",
              "    </tr>\n",
              "    <tr>\n",
              "      <th>1</th>\n",
              "      <td>2020-02-25</td>\n",
              "      <td>Asia</td>\n",
              "      <td>Afghanistan</td>\n",
              "      <td>5.0</td>\n",
              "      <td>NaN</td>\n",
              "      <td>NaN</td>\n",
              "      <td>NaN</td>\n",
              "      <td>NaN</td>\n",
              "      <td>41128772.0</td>\n",
              "      <td>18.6</td>\n",
              "      <td>64.83</td>\n",
              "      <td>1803.987</td>\n",
              "    </tr>\n",
              "    <tr>\n",
              "      <th>2</th>\n",
              "      <td>2020-02-26</td>\n",
              "      <td>Asia</td>\n",
              "      <td>Afghanistan</td>\n",
              "      <td>5.0</td>\n",
              "      <td>NaN</td>\n",
              "      <td>NaN</td>\n",
              "      <td>NaN</td>\n",
              "      <td>NaN</td>\n",
              "      <td>41128772.0</td>\n",
              "      <td>18.6</td>\n",
              "      <td>64.83</td>\n",
              "      <td>1803.987</td>\n",
              "    </tr>\n",
              "    <tr>\n",
              "      <th>3</th>\n",
              "      <td>2020-02-27</td>\n",
              "      <td>Asia</td>\n",
              "      <td>Afghanistan</td>\n",
              "      <td>5.0</td>\n",
              "      <td>NaN</td>\n",
              "      <td>NaN</td>\n",
              "      <td>NaN</td>\n",
              "      <td>NaN</td>\n",
              "      <td>41128772.0</td>\n",
              "      <td>18.6</td>\n",
              "      <td>64.83</td>\n",
              "      <td>1803.987</td>\n",
              "    </tr>\n",
              "    <tr>\n",
              "      <th>4</th>\n",
              "      <td>2020-02-28</td>\n",
              "      <td>Asia</td>\n",
              "      <td>Afghanistan</td>\n",
              "      <td>5.0</td>\n",
              "      <td>NaN</td>\n",
              "      <td>NaN</td>\n",
              "      <td>NaN</td>\n",
              "      <td>NaN</td>\n",
              "      <td>41128772.0</td>\n",
              "      <td>18.6</td>\n",
              "      <td>64.83</td>\n",
              "      <td>1803.987</td>\n",
              "    </tr>\n",
              "  </tbody>\n",
              "</table>\n",
              "</div>\n",
              "      <button class=\"colab-df-convert\" onclick=\"convertToInteractive('df-d5f7b396-f3da-42a7-ae6f-26ff24b8898b')\"\n",
              "              title=\"Convert this dataframe to an interactive table.\"\n",
              "              style=\"display:none;\">\n",
              "        \n",
              "  <svg xmlns=\"http://www.w3.org/2000/svg\" height=\"24px\"viewBox=\"0 0 24 24\"\n",
              "       width=\"24px\">\n",
              "    <path d=\"M0 0h24v24H0V0z\" fill=\"none\"/>\n",
              "    <path d=\"M18.56 5.44l.94 2.06.94-2.06 2.06-.94-2.06-.94-.94-2.06-.94 2.06-2.06.94zm-11 1L8.5 8.5l.94-2.06 2.06-.94-2.06-.94L8.5 2.5l-.94 2.06-2.06.94zm10 10l.94 2.06.94-2.06 2.06-.94-2.06-.94-.94-2.06-.94 2.06-2.06.94z\"/><path d=\"M17.41 7.96l-1.37-1.37c-.4-.4-.92-.59-1.43-.59-.52 0-1.04.2-1.43.59L10.3 9.45l-7.72 7.72c-.78.78-.78 2.05 0 2.83L4 21.41c.39.39.9.59 1.41.59.51 0 1.02-.2 1.41-.59l7.78-7.78 2.81-2.81c.8-.78.8-2.07 0-2.86zM5.41 20L4 18.59l7.72-7.72 1.47 1.35L5.41 20z\"/>\n",
              "  </svg>\n",
              "      </button>\n",
              "      \n",
              "  <style>\n",
              "    .colab-df-container {\n",
              "      display:flex;\n",
              "      flex-wrap:wrap;\n",
              "      gap: 12px;\n",
              "    }\n",
              "\n",
              "    .colab-df-convert {\n",
              "      background-color: #E8F0FE;\n",
              "      border: none;\n",
              "      border-radius: 50%;\n",
              "      cursor: pointer;\n",
              "      display: none;\n",
              "      fill: #1967D2;\n",
              "      height: 32px;\n",
              "      padding: 0 0 0 0;\n",
              "      width: 32px;\n",
              "    }\n",
              "\n",
              "    .colab-df-convert:hover {\n",
              "      background-color: #E2EBFA;\n",
              "      box-shadow: 0px 1px 2px rgba(60, 64, 67, 0.3), 0px 1px 3px 1px rgba(60, 64, 67, 0.15);\n",
              "      fill: #174EA6;\n",
              "    }\n",
              "\n",
              "    [theme=dark] .colab-df-convert {\n",
              "      background-color: #3B4455;\n",
              "      fill: #D2E3FC;\n",
              "    }\n",
              "\n",
              "    [theme=dark] .colab-df-convert:hover {\n",
              "      background-color: #434B5C;\n",
              "      box-shadow: 0px 1px 3px 1px rgba(0, 0, 0, 0.15);\n",
              "      filter: drop-shadow(0px 1px 2px rgba(0, 0, 0, 0.3));\n",
              "      fill: #FFFFFF;\n",
              "    }\n",
              "  </style>\n",
              "\n",
              "      <script>\n",
              "        const buttonEl =\n",
              "          document.querySelector('#df-d5f7b396-f3da-42a7-ae6f-26ff24b8898b button.colab-df-convert');\n",
              "        buttonEl.style.display =\n",
              "          google.colab.kernel.accessAllowed ? 'block' : 'none';\n",
              "\n",
              "        async function convertToInteractive(key) {\n",
              "          const element = document.querySelector('#df-d5f7b396-f3da-42a7-ae6f-26ff24b8898b');\n",
              "          const dataTable =\n",
              "            await google.colab.kernel.invokeFunction('convertToInteractive',\n",
              "                                                     [key], {});\n",
              "          if (!dataTable) return;\n",
              "\n",
              "          const docLinkHtml = 'Like what you see? Visit the ' +\n",
              "            '<a target=\"_blank\" href=https://colab.research.google.com/notebooks/data_table.ipynb>data table notebook</a>'\n",
              "            + ' to learn more about interactive tables.';\n",
              "          element.innerHTML = '';\n",
              "          dataTable['output_type'] = 'display_data';\n",
              "          await google.colab.output.renderOutput(dataTable, element);\n",
              "          const docLink = document.createElement('div');\n",
              "          docLink.innerHTML = docLinkHtml;\n",
              "          element.appendChild(docLink);\n",
              "        }\n",
              "      </script>\n",
              "    </div>\n",
              "  </div>\n",
              "  "
            ]
          },
          "metadata": {},
          "execution_count": 5
        }
      ]
    },
    {
      "cell_type": "markdown",
      "source": [
        "## 1.2.Qual o volume do DataFrame? Quais os tipos de dados das variáveis?\n",
        "\n",
        "Logo abaixo, conseguimos ver a quantidade de entradas no dataset e a quantidade de colunas, lembrando que copiei apenas as colunas utilizadas neste projeto.\n",
        "\n",
        "Portanto, o total de entrada é de 261.499 e o total de colunas passou de 67 para 12."
      ],
      "metadata": {
        "id": "ZjG2WewqI39b"
      }
    },
    {
      "cell_type": "code",
      "source": [
        "# verificando o tamanho do dataframe, tipos de variáveis e valores ausentes\n",
        "df_covid.info()\n",
        "\n",
        "print('\\nTotal de entradas: {}'.format(df_covid.shape[0]))\n",
        "print('Total de variáveis: {}'.format(df_covid.shape[1]))"
      ],
      "metadata": {
        "colab": {
          "base_uri": "https://localhost:8080/"
        },
        "id": "AGz_Qmpzdqq-",
        "outputId": "306fe7df-b0a5-4a93-c4da-5118efa7688c"
      },
      "execution_count": 6,
      "outputs": [
        {
          "output_type": "stream",
          "name": "stdout",
          "text": [
            "<class 'pandas.core.frame.DataFrame'>\n",
            "RangeIndex: 261499 entries, 0 to 261498\n",
            "Data columns (total 12 columns):\n",
            " #   Column                   Non-Null Count   Dtype  \n",
            "---  ------                   --------------   -----  \n",
            " 0   date                     261499 non-null  object \n",
            " 1   continent                246824 non-null  object \n",
            " 2   location                 261499 non-null  object \n",
            " 3   total_cases              246951 non-null  float64\n",
            " 4   total_deaths             227230 non-null  float64\n",
            " 5   total_vaccinations       72431 non-null   float64\n",
            " 6   people_vaccinated        69329 non-null   float64\n",
            " 7   people_fully_vaccinated  66997 non-null   float64\n",
            " 8   population               260378 non-null  float64\n",
            " 9   median_age               210748 non-null  float64\n",
            " 10  life_expectancy          240047 non-null  float64\n",
            " 11  gdp_per_capita           210543 non-null  float64\n",
            "dtypes: float64(9), object(3)\n",
            "memory usage: 23.9+ MB\n",
            "\n",
            "Total de entradas: 261499\n",
            "Total de variáveis: 12\n"
          ]
        }
      ]
    },
    {
      "cell_type": "markdown",
      "source": [
        "Pode-se notar que as variáveis acima estão declaradas como `float`, isso quer dizer que estão com o valor em decimal. Porém os dados que estamos analisando são baseados na quantidade de pessoas que estão vacinadas ou infectadas, portanto não existe o caso de 1.5 pessoas ou 0.5 pessoa foi infectada pela COVID-19.\n",
        "\n",
        "Com este problema, precisamos transformar estas variáveis com valores decimais para valores inteiros (`int64`). Mas antes de transformar os tipos das variáveis, vou fazer o tratamento dos vaores ausentes."
      ],
      "metadata": {
        "id": "dF2OieXGaFTZ"
      }
    },
    {
      "cell_type": "markdown",
      "source": [
        "## 1.3.Qual a quantidade de valores ausentes em relação ao total de entradas?"
      ],
      "metadata": {
        "id": "aqHBIxKvJTwv"
      }
    },
    {
      "cell_type": "code",
      "source": [
        "(df_covid.isnull().sum() / df_covid.shape[0]).sort_values(ascending=False)"
      ],
      "metadata": {
        "colab": {
          "base_uri": "https://localhost:8080/"
        },
        "id": "rHWTVMOaP5iD",
        "outputId": "45d21e5e-baff-40e4-bf86-efd396c63fee"
      },
      "execution_count": 7,
      "outputs": [
        {
          "output_type": "execute_result",
          "data": {
            "text/plain": [
              "people_fully_vaccinated    0.743796\n",
              "people_vaccinated          0.734879\n",
              "total_vaccinations         0.723016\n",
              "gdp_per_capita             0.194861\n",
              "median_age                 0.194077\n",
              "total_deaths               0.131048\n",
              "life_expectancy            0.082035\n",
              "continent                  0.056119\n",
              "total_cases                0.055633\n",
              "population                 0.004287\n",
              "date                       0.000000\n",
              "location                   0.000000\n",
              "dtype: float64"
            ]
          },
          "metadata": {},
          "execution_count": 7
        }
      ]
    },
    {
      "cell_type": "markdown",
      "source": [
        "Conseguimos perceber acima que existem muitos valores ausentes em algumas variáveis, portanto precisamos analisar e tomar a decisão do que será feito com estes dados.\n",
        "\n",
        "Existem duas maneiras mais comuns para tratarmos estes valores ausentes, fazendo a remoção, que é a forma mais drástica, ou preenchendo os valores com algumas medidas estatísticas como, média, mediana ou moda.\n",
        "\n",
        "Podemos identificar as seguintes situações nos valores ausentes:\n",
        "\n",
        "* Mais de 70% dos dados das variáveis `people_fully_vaccinated`, `people_vaccinated`e `total_vaccination` estão faltando, estes não entrarão nesta análise e serão excluídos.\n",
        "* Nas variáveis `gpd_per_capita` e `median_age` 19% dos dados estão faltando.\n",
        "* 13% dos dados da variável `total_deaths` estão faltando.\n"
      ],
      "metadata": {
        "id": "05ui5kVv5pJv"
      }
    },
    {
      "cell_type": "code",
      "source": [
        "# copiando os dados em um dataframe de limpeza\n",
        "df_clean = df_covid.copy()"
      ],
      "metadata": {
        "id": "_AuNMrjKpFLw"
      },
      "execution_count": 8,
      "outputs": []
    },
    {
      "cell_type": "code",
      "source": [
        "df_clean.info()"
      ],
      "metadata": {
        "colab": {
          "base_uri": "https://localhost:8080/"
        },
        "id": "RkczRuIPW7Wl",
        "outputId": "1be28441-08ee-42e4-a8ff-cff2642bc388"
      },
      "execution_count": 9,
      "outputs": [
        {
          "output_type": "stream",
          "name": "stdout",
          "text": [
            "<class 'pandas.core.frame.DataFrame'>\n",
            "RangeIndex: 261499 entries, 0 to 261498\n",
            "Data columns (total 12 columns):\n",
            " #   Column                   Non-Null Count   Dtype  \n",
            "---  ------                   --------------   -----  \n",
            " 0   date                     261499 non-null  object \n",
            " 1   continent                246824 non-null  object \n",
            " 2   location                 261499 non-null  object \n",
            " 3   total_cases              246951 non-null  float64\n",
            " 4   total_deaths             227230 non-null  float64\n",
            " 5   total_vaccinations       72431 non-null   float64\n",
            " 6   people_vaccinated        69329 non-null   float64\n",
            " 7   people_fully_vaccinated  66997 non-null   float64\n",
            " 8   population               260378 non-null  float64\n",
            " 9   median_age               210748 non-null  float64\n",
            " 10  life_expectancy          240047 non-null  float64\n",
            " 11  gdp_per_capita           210543 non-null  float64\n",
            "dtypes: float64(9), object(3)\n",
            "memory usage: 23.9+ MB\n"
          ]
        }
      ]
    },
    {
      "cell_type": "code",
      "source": [
        "# eliminando as colunas com mais de 70% de valores ausentes\n",
        "df_clean.drop('people_fully_vaccinated', axis=1, inplace=True)\n",
        "df_clean.drop('people_vaccinated', axis=1, inplace=True)\n",
        "df_clean.drop('total_vaccinations', axis=1, inplace=True)"
      ],
      "metadata": {
        "id": "4TNexH8po74G"
      },
      "execution_count": 10,
      "outputs": []
    },
    {
      "cell_type": "markdown",
      "source": [
        "## 1.4.Tratando os valores ausentes\n",
        "\n",
        "Com as variáveis removidas, agora vou tratar os valores ausentes fazendo uma análise de cada variável para o preenchimento da maneira correta, sempre buscando não afetar bruscamente os valores estatísticos dos dados."
      ],
      "metadata": {
        "id": "W_jiqNCOto-w"
      }
    },
    {
      "cell_type": "code",
      "source": [
        "# visualizando os dados ausentes restantes\n",
        "df_clean.isnull().sum().sort_values(ascending=False)"
      ],
      "metadata": {
        "colab": {
          "base_uri": "https://localhost:8080/"
        },
        "id": "8kMTVBabqyc6",
        "outputId": "b97969fe-946e-4cd0-8829-52576478d0af"
      },
      "execution_count": 11,
      "outputs": [
        {
          "output_type": "execute_result",
          "data": {
            "text/plain": [
              "gdp_per_capita     50956\n",
              "median_age         50751\n",
              "total_deaths       34269\n",
              "life_expectancy    21452\n",
              "continent          14675\n",
              "total_cases        14548\n",
              "population          1121\n",
              "date                   0\n",
              "location               0\n",
              "dtype: int64"
            ]
          },
          "metadata": {},
          "execution_count": 11
        }
      ]
    },
    {
      "cell_type": "markdown",
      "source": [
        "Agora vou verificar os valores estatísticos de cada variável para tratar os campos que não foram preenchidos da melhor maneira, afim de não afetar os dados para minha análise."
      ],
      "metadata": {
        "id": "Y9lCyKDtBryy"
      }
    },
    {
      "cell_type": "code",
      "source": [
        "# visualizando os dados estatísticos da variável gdr_per_capita\n",
        "df_clean['gdp_per_capita'].describe()"
      ],
      "metadata": {
        "colab": {
          "base_uri": "https://localhost:8080/"
        },
        "id": "OZhGOFfdBm-4",
        "outputId": "727613b5-749e-4206-82f2-a0787dce651e"
      },
      "execution_count": 12,
      "outputs": [
        {
          "output_type": "execute_result",
          "data": {
            "text/plain": [
              "count    210543.000000\n",
              "mean      19492.620225\n",
              "std       20515.161357\n",
              "min         661.240000\n",
              "25%        4449.898000\n",
              "50%       12951.839000\n",
              "75%       27717.847000\n",
              "max      116935.600000\n",
              "Name: gdp_per_capita, dtype: float64"
            ]
          },
          "metadata": {},
          "execution_count": 12
        }
      ]
    },
    {
      "cell_type": "markdown",
      "source": [
        "Podemos ver nos dados da variável acima, sua média e mediana não estão com valores tão distantes, porém existe um valor máximo de 116935 que faz com que o desvio padrão aumente, isso signifia que este valor máximo pode ser um outlier.\n",
        "\n",
        "Nesta variável adotarei o valor da mediana para preencher os valores faltantes, para depois tratarmos possível outlier."
      ],
      "metadata": {
        "id": "iUgp3zJHDKtS"
      }
    },
    {
      "cell_type": "code",
      "source": [
        "# preenchendo os valores ausentes da variável gdp_per_capita com a mediana\n",
        "gdp_median = df_clean['gdp_per_capita'].median()\n",
        "df_clean = df_clean.fillna({'gdp_per_capita': gdp_median})"
      ],
      "metadata": {
        "id": "SO7pTUn8BnRF"
      },
      "execution_count": 13,
      "outputs": []
    },
    {
      "cell_type": "code",
      "source": [
        "# visualizando os dados estatísticos da variável median_age\n",
        "df_clean['median_age'].describe()"
      ],
      "metadata": {
        "colab": {
          "base_uri": "https://localhost:8080/"
        },
        "id": "u0PWyqoOBo5v",
        "outputId": "87d73b94-1620-4fd7-a26f-a20d803aec43"
      },
      "execution_count": 14,
      "outputs": [
        {
          "output_type": "execute_result",
          "data": {
            "text/plain": [
              "count    210748.000000\n",
              "mean         30.579723\n",
              "std           9.062453\n",
              "min          15.100000\n",
              "25%          22.300000\n",
              "50%          29.900000\n",
              "75%          39.100000\n",
              "max          48.200000\n",
              "Name: median_age, dtype: float64"
            ]
          },
          "metadata": {},
          "execution_count": 14
        }
      ]
    },
    {
      "cell_type": "markdown",
      "source": [
        "Na variável `median_age` consigo observar que os valores estão distribuídos sem qualquer problema inicialmente. Portanto adotarei o preenchimento dos valores ausentes utilizando a `média` de idades, pois está bem próxima da mediana."
      ],
      "metadata": {
        "id": "0K8KbMW1F5wQ"
      }
    },
    {
      "cell_type": "code",
      "source": [
        "# preenchendo os valores ausentes da variável median_age com a média\n",
        "median_age_mean = df_clean['median_age'].mean()\n",
        "df_clean = df_clean.fillna({'median_age': median_age_mean})"
      ],
      "metadata": {
        "id": "TJ4DH8CzBpFc"
      },
      "execution_count": 15,
      "outputs": []
    },
    {
      "cell_type": "code",
      "source": [
        "# visualizando os dados estatísticos da variável total_deaths\n",
        "df_clean['total_deaths'].describe()"
      ],
      "metadata": {
        "colab": {
          "base_uri": "https://localhost:8080/"
        },
        "id": "DkCvbVl1BpUO",
        "outputId": "8d41ba19-39a6-48d2-c2ab-0bae68f4ec67"
      },
      "execution_count": 16,
      "outputs": [
        {
          "output_type": "execute_result",
          "data": {
            "text/plain": [
              "count    2.272300e+05\n",
              "mean     8.047437e+04\n",
              "std      4.096264e+05\n",
              "min      1.000000e+00\n",
              "25%      1.250000e+02\n",
              "50%      1.363000e+03\n",
              "75%      1.110700e+04\n",
              "max      6.876591e+06\n",
              "Name: total_deaths, dtype: float64"
            ]
          },
          "metadata": {},
          "execution_count": 16
        }
      ]
    },
    {
      "cell_type": "markdown",
      "source": [
        "Nesta variável acima, pode-se notar que o valor da média está um pouco distante do valor da mediana, talves por existir um valor máximo de 6.8 porém 75% dos demais são abaixo 1.1, fazendo com que a média suba, afastando-se dos valores que seriam normais. Portanto, neste caso vou preencher os valores ausentes com a `mediana`."
      ],
      "metadata": {
        "id": "8LddvY7PIzmi"
      }
    },
    {
      "cell_type": "code",
      "source": [
        "# preenchendo os valores ausentes da variável total_deaths com a mediana\n",
        "td_median = df_clean['total_deaths'].median()\n",
        "df_clean = df_clean.fillna({'total_deaths': td_median})"
      ],
      "metadata": {
        "id": "8VdigB1vJ5Ik"
      },
      "execution_count": 17,
      "outputs": []
    },
    {
      "cell_type": "code",
      "source": [
        "# verificando os dados estatísticos das variáveis com valores ausentes restantes\n",
        "df_clean.describe()"
      ],
      "metadata": {
        "colab": {
          "base_uri": "https://localhost:8080/",
          "height": 300
        },
        "id": "T_0VZMkxKx42",
        "outputId": "297c8623-8407-4695-ef0d-45a2c24d6aa9"
      },
      "execution_count": 18,
      "outputs": [
        {
          "output_type": "execute_result",
          "data": {
            "text/plain": [
              "        total_cases  total_deaths    population     median_age  \\\n",
              "count  2.469510e+05  2.614990e+05  2.603780e+05  261499.000000   \n",
              "mean   5.378331e+06  7.010696e+04  1.405101e+08      30.579723   \n",
              "std    3.300527e+07  3.827758e+05  6.915920e+08       8.135650   \n",
              "min    1.000000e+00  1.000000e+00  4.700000e+01      15.100000   \n",
              "25%    5.873000e+03  1.630000e+02  8.367830e+05      24.900000   \n",
              "50%    6.265400e+04  1.363000e+03  6.948395e+06      30.579723   \n",
              "75%    6.537300e+05  8.210000e+03  3.369661e+07      37.300000   \n",
              "max    6.758069e+08  6.876591e+06  7.975105e+09      48.200000   \n",
              "\n",
              "       life_expectancy  gdp_per_capita  \n",
              "count    240047.000000   261499.000000  \n",
              "mean         73.595580    18218.075970  \n",
              "std           7.446573    18589.567804  \n",
              "min          53.280000      661.240000  \n",
              "25%          69.500000     6171.884000  \n",
              "50%          75.050000    12951.839000  \n",
              "75%          79.070000    23313.199000  \n",
              "max          86.750000   116935.600000  "
            ],
            "text/html": [
              "\n",
              "  <div id=\"df-609a4bbc-82c5-4280-9adc-d2f8c7bc4638\">\n",
              "    <div class=\"colab-df-container\">\n",
              "      <div>\n",
              "<style scoped>\n",
              "    .dataframe tbody tr th:only-of-type {\n",
              "        vertical-align: middle;\n",
              "    }\n",
              "\n",
              "    .dataframe tbody tr th {\n",
              "        vertical-align: top;\n",
              "    }\n",
              "\n",
              "    .dataframe thead th {\n",
              "        text-align: right;\n",
              "    }\n",
              "</style>\n",
              "<table border=\"1\" class=\"dataframe\">\n",
              "  <thead>\n",
              "    <tr style=\"text-align: right;\">\n",
              "      <th></th>\n",
              "      <th>total_cases</th>\n",
              "      <th>total_deaths</th>\n",
              "      <th>population</th>\n",
              "      <th>median_age</th>\n",
              "      <th>life_expectancy</th>\n",
              "      <th>gdp_per_capita</th>\n",
              "    </tr>\n",
              "  </thead>\n",
              "  <tbody>\n",
              "    <tr>\n",
              "      <th>count</th>\n",
              "      <td>2.469510e+05</td>\n",
              "      <td>2.614990e+05</td>\n",
              "      <td>2.603780e+05</td>\n",
              "      <td>261499.000000</td>\n",
              "      <td>240047.000000</td>\n",
              "      <td>261499.000000</td>\n",
              "    </tr>\n",
              "    <tr>\n",
              "      <th>mean</th>\n",
              "      <td>5.378331e+06</td>\n",
              "      <td>7.010696e+04</td>\n",
              "      <td>1.405101e+08</td>\n",
              "      <td>30.579723</td>\n",
              "      <td>73.595580</td>\n",
              "      <td>18218.075970</td>\n",
              "    </tr>\n",
              "    <tr>\n",
              "      <th>std</th>\n",
              "      <td>3.300527e+07</td>\n",
              "      <td>3.827758e+05</td>\n",
              "      <td>6.915920e+08</td>\n",
              "      <td>8.135650</td>\n",
              "      <td>7.446573</td>\n",
              "      <td>18589.567804</td>\n",
              "    </tr>\n",
              "    <tr>\n",
              "      <th>min</th>\n",
              "      <td>1.000000e+00</td>\n",
              "      <td>1.000000e+00</td>\n",
              "      <td>4.700000e+01</td>\n",
              "      <td>15.100000</td>\n",
              "      <td>53.280000</td>\n",
              "      <td>661.240000</td>\n",
              "    </tr>\n",
              "    <tr>\n",
              "      <th>25%</th>\n",
              "      <td>5.873000e+03</td>\n",
              "      <td>1.630000e+02</td>\n",
              "      <td>8.367830e+05</td>\n",
              "      <td>24.900000</td>\n",
              "      <td>69.500000</td>\n",
              "      <td>6171.884000</td>\n",
              "    </tr>\n",
              "    <tr>\n",
              "      <th>50%</th>\n",
              "      <td>6.265400e+04</td>\n",
              "      <td>1.363000e+03</td>\n",
              "      <td>6.948395e+06</td>\n",
              "      <td>30.579723</td>\n",
              "      <td>75.050000</td>\n",
              "      <td>12951.839000</td>\n",
              "    </tr>\n",
              "    <tr>\n",
              "      <th>75%</th>\n",
              "      <td>6.537300e+05</td>\n",
              "      <td>8.210000e+03</td>\n",
              "      <td>3.369661e+07</td>\n",
              "      <td>37.300000</td>\n",
              "      <td>79.070000</td>\n",
              "      <td>23313.199000</td>\n",
              "    </tr>\n",
              "    <tr>\n",
              "      <th>max</th>\n",
              "      <td>6.758069e+08</td>\n",
              "      <td>6.876591e+06</td>\n",
              "      <td>7.975105e+09</td>\n",
              "      <td>48.200000</td>\n",
              "      <td>86.750000</td>\n",
              "      <td>116935.600000</td>\n",
              "    </tr>\n",
              "  </tbody>\n",
              "</table>\n",
              "</div>\n",
              "      <button class=\"colab-df-convert\" onclick=\"convertToInteractive('df-609a4bbc-82c5-4280-9adc-d2f8c7bc4638')\"\n",
              "              title=\"Convert this dataframe to an interactive table.\"\n",
              "              style=\"display:none;\">\n",
              "        \n",
              "  <svg xmlns=\"http://www.w3.org/2000/svg\" height=\"24px\"viewBox=\"0 0 24 24\"\n",
              "       width=\"24px\">\n",
              "    <path d=\"M0 0h24v24H0V0z\" fill=\"none\"/>\n",
              "    <path d=\"M18.56 5.44l.94 2.06.94-2.06 2.06-.94-2.06-.94-.94-2.06-.94 2.06-2.06.94zm-11 1L8.5 8.5l.94-2.06 2.06-.94-2.06-.94L8.5 2.5l-.94 2.06-2.06.94zm10 10l.94 2.06.94-2.06 2.06-.94-2.06-.94-.94-2.06-.94 2.06-2.06.94z\"/><path d=\"M17.41 7.96l-1.37-1.37c-.4-.4-.92-.59-1.43-.59-.52 0-1.04.2-1.43.59L10.3 9.45l-7.72 7.72c-.78.78-.78 2.05 0 2.83L4 21.41c.39.39.9.59 1.41.59.51 0 1.02-.2 1.41-.59l7.78-7.78 2.81-2.81c.8-.78.8-2.07 0-2.86zM5.41 20L4 18.59l7.72-7.72 1.47 1.35L5.41 20z\"/>\n",
              "  </svg>\n",
              "      </button>\n",
              "      \n",
              "  <style>\n",
              "    .colab-df-container {\n",
              "      display:flex;\n",
              "      flex-wrap:wrap;\n",
              "      gap: 12px;\n",
              "    }\n",
              "\n",
              "    .colab-df-convert {\n",
              "      background-color: #E8F0FE;\n",
              "      border: none;\n",
              "      border-radius: 50%;\n",
              "      cursor: pointer;\n",
              "      display: none;\n",
              "      fill: #1967D2;\n",
              "      height: 32px;\n",
              "      padding: 0 0 0 0;\n",
              "      width: 32px;\n",
              "    }\n",
              "\n",
              "    .colab-df-convert:hover {\n",
              "      background-color: #E2EBFA;\n",
              "      box-shadow: 0px 1px 2px rgba(60, 64, 67, 0.3), 0px 1px 3px 1px rgba(60, 64, 67, 0.15);\n",
              "      fill: #174EA6;\n",
              "    }\n",
              "\n",
              "    [theme=dark] .colab-df-convert {\n",
              "      background-color: #3B4455;\n",
              "      fill: #D2E3FC;\n",
              "    }\n",
              "\n",
              "    [theme=dark] .colab-df-convert:hover {\n",
              "      background-color: #434B5C;\n",
              "      box-shadow: 0px 1px 3px 1px rgba(0, 0, 0, 0.15);\n",
              "      filter: drop-shadow(0px 1px 2px rgba(0, 0, 0, 0.3));\n",
              "      fill: #FFFFFF;\n",
              "    }\n",
              "  </style>\n",
              "\n",
              "      <script>\n",
              "        const buttonEl =\n",
              "          document.querySelector('#df-609a4bbc-82c5-4280-9adc-d2f8c7bc4638 button.colab-df-convert');\n",
              "        buttonEl.style.display =\n",
              "          google.colab.kernel.accessAllowed ? 'block' : 'none';\n",
              "\n",
              "        async function convertToInteractive(key) {\n",
              "          const element = document.querySelector('#df-609a4bbc-82c5-4280-9adc-d2f8c7bc4638');\n",
              "          const dataTable =\n",
              "            await google.colab.kernel.invokeFunction('convertToInteractive',\n",
              "                                                     [key], {});\n",
              "          if (!dataTable) return;\n",
              "\n",
              "          const docLinkHtml = 'Like what you see? Visit the ' +\n",
              "            '<a target=\"_blank\" href=https://colab.research.google.com/notebooks/data_table.ipynb>data table notebook</a>'\n",
              "            + ' to learn more about interactive tables.';\n",
              "          element.innerHTML = '';\n",
              "          dataTable['output_type'] = 'display_data';\n",
              "          await google.colab.output.renderOutput(dataTable, element);\n",
              "          const docLink = document.createElement('div');\n",
              "          docLink.innerHTML = docLinkHtml;\n",
              "          element.appendChild(docLink);\n",
              "        }\n",
              "      </script>\n",
              "    </div>\n",
              "  </div>\n",
              "  "
            ]
          },
          "metadata": {},
          "execution_count": 18
        }
      ]
    },
    {
      "cell_type": "markdown",
      "source": [
        "Os dados estatísticos das variáveis estão com os valores bem próximos, e aparentemente não há nenhuma discrepância. Com isso vou utilizar a `média` para preencher os valores ausentes das variáveis restantes."
      ],
      "metadata": {
        "id": "9hJOuKDgLrCe"
      }
    },
    {
      "cell_type": "code",
      "source": [
        "tc_mean = df_clean['total_cases'].mean()\n",
        "pop_mean = df_clean['population'].mean()\n",
        "le_mean = df_clean['life_expectancy'].mean()\n",
        "\n",
        "df_clean = df_clean.fillna({'total_cases': tc_mean})\n",
        "df_clean = df_clean.fillna({'population': pop_mean})\n",
        "df_clean = df_clean.fillna({'life_expectancy': le_mean})"
      ],
      "metadata": {
        "id": "A7I6RUBIMew6"
      },
      "execution_count": 19,
      "outputs": []
    },
    {
      "cell_type": "markdown",
      "source": [
        "Concluída a etapa de tratamento de valores ausentes, restando apenas a variável `continent` que não entrará nesta análise e será deletada.\n",
        "\n",
        "A próxima etapa será alterar o tipo das variáveis de `float`(número flutuante) para `int`(número inteiro), pois como foi mensionado um pouco acima, não existe 1.5 casos de mortes e nem 0.5 caso confirmados da doença. Vou transformar também a variável `date` que está como `object`(string) para o formato `datetime`(data)."
      ],
      "metadata": {
        "id": "EWrDILe3N7o4"
      }
    },
    {
      "cell_type": "code",
      "source": [
        "# eliminando a variável continent do dataset\n",
        "df_clean.drop('continent', axis=1, inplace=True)"
      ],
      "metadata": {
        "id": "1Z6CNSgbPGAs"
      },
      "execution_count": 20,
      "outputs": []
    },
    {
      "cell_type": "code",
      "source": [
        "# verificando os valores ausentes restantes\n",
        "df_clean.isnull().sum().sort_values(ascending=False)"
      ],
      "metadata": {
        "colab": {
          "base_uri": "https://localhost:8080/"
        },
        "id": "rs5Rt_OiPmrE",
        "outputId": "53337ec2-74e7-42ad-ec06-252a941f4f33"
      },
      "execution_count": 21,
      "outputs": [
        {
          "output_type": "execute_result",
          "data": {
            "text/plain": [
              "date               0\n",
              "location           0\n",
              "total_cases        0\n",
              "total_deaths       0\n",
              "population         0\n",
              "median_age         0\n",
              "life_expectancy    0\n",
              "gdp_per_capita     0\n",
              "dtype: int64"
            ]
          },
          "metadata": {},
          "execution_count": 21
        }
      ]
    },
    {
      "cell_type": "code",
      "source": [
        "# verificando os tipos das variáveis\n",
        "df_clean.dtypes"
      ],
      "metadata": {
        "colab": {
          "base_uri": "https://localhost:8080/"
        },
        "id": "zv7gPg7yQWC9",
        "outputId": "8f0b07d0-c349-45c4-c8ce-ea6951f29980"
      },
      "execution_count": 22,
      "outputs": [
        {
          "output_type": "execute_result",
          "data": {
            "text/plain": [
              "date                object\n",
              "location            object\n",
              "total_cases        float64\n",
              "total_deaths       float64\n",
              "population         float64\n",
              "median_age         float64\n",
              "life_expectancy    float64\n",
              "gdp_per_capita     float64\n",
              "dtype: object"
            ]
          },
          "metadata": {},
          "execution_count": 22
        }
      ]
    },
    {
      "cell_type": "code",
      "source": [
        "# alterando o tipo das variáveis de float para int\n",
        "df_clean['total_cases'] = df_clean['total_cases'].astype(int)\n",
        "df_clean['total_deaths'] = df_clean['total_deaths'].astype(int)\n",
        "df_clean['median_age'] = df_clean['median_age'].astype(int)\n",
        "df_clean['life_expectancy'] = df_clean['life_expectancy'].astype(int)\n",
        "df_clean['population'] = df_clean['population'].astype(int)\n",
        "\n",
        "# alterando o tipo da coluna date de object para datetime\n",
        "df_clean['date'] = pd.to_datetime(df_clean['date']) "
      ],
      "metadata": {
        "id": "WHfl47vefT0t"
      },
      "execution_count": 23,
      "outputs": []
    },
    {
      "cell_type": "code",
      "source": [
        "# mostrando o dataset limpo com as variáveis e seus tipos de dados alterados\n",
        "df_clean.info()"
      ],
      "metadata": {
        "colab": {
          "base_uri": "https://localhost:8080/"
        },
        "id": "ZVvkXTUwSJNa",
        "outputId": "5c1afdfa-cdde-4457-e26a-f04ee89ee7c3"
      },
      "execution_count": 27,
      "outputs": [
        {
          "output_type": "stream",
          "name": "stdout",
          "text": [
            "<class 'pandas.core.frame.DataFrame'>\n",
            "RangeIndex: 261499 entries, 0 to 261498\n",
            "Data columns (total 8 columns):\n",
            " #   Column           Non-Null Count   Dtype         \n",
            "---  ------           --------------   -----         \n",
            " 0   date             261499 non-null  datetime64[ns]\n",
            " 1   location         261499 non-null  object        \n",
            " 2   total_cases      261499 non-null  int64         \n",
            " 3   total_deaths     261499 non-null  int64         \n",
            " 4   population       261499 non-null  int64         \n",
            " 5   median_age       261499 non-null  int64         \n",
            " 6   life_expectancy  261499 non-null  int64         \n",
            " 7   gdp_per_capita   261499 non-null  float64       \n",
            "dtypes: datetime64[ns](1), float64(1), int64(5), object(1)\n",
            "memory usage: 16.0+ MB\n"
          ]
        }
      ]
    },
    {
      "cell_type": "markdown",
      "source": [
        "## 2.Insights\n",
        "\n",
        "Insights são percepções e entendimentos que podem ser extraídos a partir da análise e visualização dos dados.\n",
        "\n",
        "Os insights podem incluir tendências, padrões, anomalias, relações de causa e efeito, etc., e serem utilizados para desenvolver estratégias de negócio, orientar campanhas, identificar oportunidades de crescimento e melhoramentos, prever resultados futuros e diversos outros objetivos.\n",
        "\n",
        "Neste projeto extrairemos alguns insights como:\n",
        "* Os países que mais tem casos de mortes atualmente\n",
        "* Os países que mais tem casos de mortes até o momento\n",
        "* Qual foi a evolução da COVID-19 no mundo\n",
        "* Qual o PIB dos países gerado pela quantidade total de mortes\n",
        "* Qual a data da primeira morte no Brasil\n",
        "* Quantos dias levou para ser registrado a primeira morte no Brasil, considerando o primeiro caso registrado\n",
        "* Qual a relação entre os casos totais e mortes totais no Brasil"
      ],
      "metadata": {
        "id": "Us7hCNYIlkLN"
      }
    },
    {
      "cell_type": "markdown",
      "source": [
        "### 2.1.Considerando a data mais atual, quais os países com mais casos e mortes?\n",
        "\n",
        "Veremos então como estão os casos de mortes por COVID-19 considerando a data mais atual deste dataset, que é 03.03.2023, lembrando que este dataset pode ter sua data atual alterada para mais recente no arquivo oficial."
      ],
      "metadata": {
        "id": "FswKG2T4o-6f"
      }
    },
    {
      "cell_type": "code",
      "source": [
        "# buscando a data atual do dataset\n",
        "data_atual = df_clean['date'].max()\n",
        "data_atual"
      ],
      "metadata": {
        "colab": {
          "base_uri": "https://localhost:8080/"
        },
        "id": "PcK1LIu8p_Nu",
        "outputId": "f30f86fa-9de2-45ef-a2e4-9b74c5690241"
      },
      "execution_count": 33,
      "outputs": [
        {
          "output_type": "execute_result",
          "data": {
            "text/plain": [
              "Timestamp('2023-03-03 00:00:00')"
            ]
          },
          "metadata": {},
          "execution_count": 33
        }
      ]
    },
    {
      "cell_type": "code",
      "source": [
        "# verificando os casos de COVID-19 atualmente por países em ordem decresente\n",
        "df_clean.loc[df_clean['date'] == '2023-03-03'].sort_values(by='total_cases', ascending=False)[9:20]"
      ],
      "metadata": {
        "colab": {
          "base_uri": "https://localhost:8080/",
          "height": 394
        },
        "id": "_dDA5Jhcq6v3",
        "outputId": "0549208e-66ac-4c4d-eb65-5e6a91061436"
      },
      "execution_count": 45,
      "outputs": [
        {
          "output_type": "execute_result",
          "data": {
            "text/plain": [
              "             date        location  total_cases  total_deaths  population  \\\n",
              "246939 2023-03-03   United States    103643742       1122157   338289856   \n",
              "32932  2023-03-03          Brazil     37081209        699276   215313504   \n",
              "107482 2023-03-03           India     44688722        530775  1417173120   \n",
              "193947 2023-03-03          Russia     22002485        388240   144713312   \n",
              "150482 2023-03-03          Mexico      7459860        333038   127504120   \n",
              "2218   2023-03-03          Africa     12520691        257682  1426736614   \n",
              "186015 2023-03-03            Peru      4486665        219485    34049588   \n",
              "245802 2023-03-03  United Kingdom     24396534        219449    67508936   \n",
              "116327 2023-03-03           Italy     25603510        188322    59037472   \n",
              "88393  2023-03-03         Germany     38210850        168397    83369840   \n",
              "82906  2023-03-03          France     39674247        165099    67813000   \n",
              "\n",
              "        median_age  life_expectancy  gdp_per_capita  \n",
              "246939          38               78       54225.446  \n",
              "32932           33               75       14103.452  \n",
              "107482          28               69        6426.674  \n",
              "193947          39               72       24765.954  \n",
              "150482          29               75       17336.469  \n",
              "2218            30               73       12951.839  \n",
              "186015          29               76       12236.706  \n",
              "245802          40               81       39753.244  \n",
              "116327          47               83       35220.084  \n",
              "88393           46               81       45229.245  \n",
              "82906           42               82       38605.671  "
            ],
            "text/html": [
              "\n",
              "  <div id=\"df-9cd3c4f1-7a9e-485a-a566-03519630b36f\">\n",
              "    <div class=\"colab-df-container\">\n",
              "      <div>\n",
              "<style scoped>\n",
              "    .dataframe tbody tr th:only-of-type {\n",
              "        vertical-align: middle;\n",
              "    }\n",
              "\n",
              "    .dataframe tbody tr th {\n",
              "        vertical-align: top;\n",
              "    }\n",
              "\n",
              "    .dataframe thead th {\n",
              "        text-align: right;\n",
              "    }\n",
              "</style>\n",
              "<table border=\"1\" class=\"dataframe\">\n",
              "  <thead>\n",
              "    <tr style=\"text-align: right;\">\n",
              "      <th></th>\n",
              "      <th>date</th>\n",
              "      <th>location</th>\n",
              "      <th>total_cases</th>\n",
              "      <th>total_deaths</th>\n",
              "      <th>population</th>\n",
              "      <th>median_age</th>\n",
              "      <th>life_expectancy</th>\n",
              "      <th>gdp_per_capita</th>\n",
              "    </tr>\n",
              "  </thead>\n",
              "  <tbody>\n",
              "    <tr>\n",
              "      <th>246939</th>\n",
              "      <td>2023-03-03</td>\n",
              "      <td>United States</td>\n",
              "      <td>103643742</td>\n",
              "      <td>1122157</td>\n",
              "      <td>338289856</td>\n",
              "      <td>38</td>\n",
              "      <td>78</td>\n",
              "      <td>54225.446</td>\n",
              "    </tr>\n",
              "    <tr>\n",
              "      <th>32932</th>\n",
              "      <td>2023-03-03</td>\n",
              "      <td>Brazil</td>\n",
              "      <td>37081209</td>\n",
              "      <td>699276</td>\n",
              "      <td>215313504</td>\n",
              "      <td>33</td>\n",
              "      <td>75</td>\n",
              "      <td>14103.452</td>\n",
              "    </tr>\n",
              "    <tr>\n",
              "      <th>107482</th>\n",
              "      <td>2023-03-03</td>\n",
              "      <td>India</td>\n",
              "      <td>44688722</td>\n",
              "      <td>530775</td>\n",
              "      <td>1417173120</td>\n",
              "      <td>28</td>\n",
              "      <td>69</td>\n",
              "      <td>6426.674</td>\n",
              "    </tr>\n",
              "    <tr>\n",
              "      <th>193947</th>\n",
              "      <td>2023-03-03</td>\n",
              "      <td>Russia</td>\n",
              "      <td>22002485</td>\n",
              "      <td>388240</td>\n",
              "      <td>144713312</td>\n",
              "      <td>39</td>\n",
              "      <td>72</td>\n",
              "      <td>24765.954</td>\n",
              "    </tr>\n",
              "    <tr>\n",
              "      <th>150482</th>\n",
              "      <td>2023-03-03</td>\n",
              "      <td>Mexico</td>\n",
              "      <td>7459860</td>\n",
              "      <td>333038</td>\n",
              "      <td>127504120</td>\n",
              "      <td>29</td>\n",
              "      <td>75</td>\n",
              "      <td>17336.469</td>\n",
              "    </tr>\n",
              "    <tr>\n",
              "      <th>2218</th>\n",
              "      <td>2023-03-03</td>\n",
              "      <td>Africa</td>\n",
              "      <td>12520691</td>\n",
              "      <td>257682</td>\n",
              "      <td>1426736614</td>\n",
              "      <td>30</td>\n",
              "      <td>73</td>\n",
              "      <td>12951.839</td>\n",
              "    </tr>\n",
              "    <tr>\n",
              "      <th>186015</th>\n",
              "      <td>2023-03-03</td>\n",
              "      <td>Peru</td>\n",
              "      <td>4486665</td>\n",
              "      <td>219485</td>\n",
              "      <td>34049588</td>\n",
              "      <td>29</td>\n",
              "      <td>76</td>\n",
              "      <td>12236.706</td>\n",
              "    </tr>\n",
              "    <tr>\n",
              "      <th>245802</th>\n",
              "      <td>2023-03-03</td>\n",
              "      <td>United Kingdom</td>\n",
              "      <td>24396534</td>\n",
              "      <td>219449</td>\n",
              "      <td>67508936</td>\n",
              "      <td>40</td>\n",
              "      <td>81</td>\n",
              "      <td>39753.244</td>\n",
              "    </tr>\n",
              "    <tr>\n",
              "      <th>116327</th>\n",
              "      <td>2023-03-03</td>\n",
              "      <td>Italy</td>\n",
              "      <td>25603510</td>\n",
              "      <td>188322</td>\n",
              "      <td>59037472</td>\n",
              "      <td>47</td>\n",
              "      <td>83</td>\n",
              "      <td>35220.084</td>\n",
              "    </tr>\n",
              "    <tr>\n",
              "      <th>88393</th>\n",
              "      <td>2023-03-03</td>\n",
              "      <td>Germany</td>\n",
              "      <td>38210850</td>\n",
              "      <td>168397</td>\n",
              "      <td>83369840</td>\n",
              "      <td>46</td>\n",
              "      <td>81</td>\n",
              "      <td>45229.245</td>\n",
              "    </tr>\n",
              "    <tr>\n",
              "      <th>82906</th>\n",
              "      <td>2023-03-03</td>\n",
              "      <td>France</td>\n",
              "      <td>39674247</td>\n",
              "      <td>165099</td>\n",
              "      <td>67813000</td>\n",
              "      <td>42</td>\n",
              "      <td>82</td>\n",
              "      <td>38605.671</td>\n",
              "    </tr>\n",
              "  </tbody>\n",
              "</table>\n",
              "</div>\n",
              "      <button class=\"colab-df-convert\" onclick=\"convertToInteractive('df-9cd3c4f1-7a9e-485a-a566-03519630b36f')\"\n",
              "              title=\"Convert this dataframe to an interactive table.\"\n",
              "              style=\"display:none;\">\n",
              "        \n",
              "  <svg xmlns=\"http://www.w3.org/2000/svg\" height=\"24px\"viewBox=\"0 0 24 24\"\n",
              "       width=\"24px\">\n",
              "    <path d=\"M0 0h24v24H0V0z\" fill=\"none\"/>\n",
              "    <path d=\"M18.56 5.44l.94 2.06.94-2.06 2.06-.94-2.06-.94-.94-2.06-.94 2.06-2.06.94zm-11 1L8.5 8.5l.94-2.06 2.06-.94-2.06-.94L8.5 2.5l-.94 2.06-2.06.94zm10 10l.94 2.06.94-2.06 2.06-.94-2.06-.94-.94-2.06-.94 2.06-2.06.94z\"/><path d=\"M17.41 7.96l-1.37-1.37c-.4-.4-.92-.59-1.43-.59-.52 0-1.04.2-1.43.59L10.3 9.45l-7.72 7.72c-.78.78-.78 2.05 0 2.83L4 21.41c.39.39.9.59 1.41.59.51 0 1.02-.2 1.41-.59l7.78-7.78 2.81-2.81c.8-.78.8-2.07 0-2.86zM5.41 20L4 18.59l7.72-7.72 1.47 1.35L5.41 20z\"/>\n",
              "  </svg>\n",
              "      </button>\n",
              "      \n",
              "  <style>\n",
              "    .colab-df-container {\n",
              "      display:flex;\n",
              "      flex-wrap:wrap;\n",
              "      gap: 12px;\n",
              "    }\n",
              "\n",
              "    .colab-df-convert {\n",
              "      background-color: #E8F0FE;\n",
              "      border: none;\n",
              "      border-radius: 50%;\n",
              "      cursor: pointer;\n",
              "      display: none;\n",
              "      fill: #1967D2;\n",
              "      height: 32px;\n",
              "      padding: 0 0 0 0;\n",
              "      width: 32px;\n",
              "    }\n",
              "\n",
              "    .colab-df-convert:hover {\n",
              "      background-color: #E2EBFA;\n",
              "      box-shadow: 0px 1px 2px rgba(60, 64, 67, 0.3), 0px 1px 3px 1px rgba(60, 64, 67, 0.15);\n",
              "      fill: #174EA6;\n",
              "    }\n",
              "\n",
              "    [theme=dark] .colab-df-convert {\n",
              "      background-color: #3B4455;\n",
              "      fill: #D2E3FC;\n",
              "    }\n",
              "\n",
              "    [theme=dark] .colab-df-convert:hover {\n",
              "      background-color: #434B5C;\n",
              "      box-shadow: 0px 1px 3px 1px rgba(0, 0, 0, 0.15);\n",
              "      filter: drop-shadow(0px 1px 2px rgba(0, 0, 0, 0.3));\n",
              "      fill: #FFFFFF;\n",
              "    }\n",
              "  </style>\n",
              "\n",
              "      <script>\n",
              "        const buttonEl =\n",
              "          document.querySelector('#df-9cd3c4f1-7a9e-485a-a566-03519630b36f button.colab-df-convert');\n",
              "        buttonEl.style.display =\n",
              "          google.colab.kernel.accessAllowed ? 'block' : 'none';\n",
              "\n",
              "        async function convertToInteractive(key) {\n",
              "          const element = document.querySelector('#df-9cd3c4f1-7a9e-485a-a566-03519630b36f');\n",
              "          const dataTable =\n",
              "            await google.colab.kernel.invokeFunction('convertToInteractive',\n",
              "                                                     [key], {});\n",
              "          if (!dataTable) return;\n",
              "\n",
              "          const docLinkHtml = 'Like what you see? Visit the ' +\n",
              "            '<a target=\"_blank\" href=https://colab.research.google.com/notebooks/data_table.ipynb>data table notebook</a>'\n",
              "            + ' to learn more about interactive tables.';\n",
              "          element.innerHTML = '';\n",
              "          dataTable['output_type'] = 'display_data';\n",
              "          await google.colab.output.renderOutput(dataTable, element);\n",
              "          const docLink = document.createElement('div');\n",
              "          docLink.innerHTML = docLinkHtml;\n",
              "          element.appendChild(docLink);\n",
              "        }\n",
              "      </script>\n",
              "    </div>\n",
              "  </div>\n",
              "  "
            ]
          },
          "metadata": {},
          "execution_count": 45
        }
      ]
    },
    {
      "cell_type": "code",
      "source": [
        "# verificando os casos de mortes atualmente por países em ordem decrescente\n",
        "df_clean.loc[df_clean['date'] == '2023-03-03'].sort_values(by='total_deaths', ascending=False)[9:20]"
      ],
      "metadata": {
        "colab": {
          "base_uri": "https://localhost:8080/",
          "height": 394
        },
        "id": "FAbUAKqLlTWK",
        "outputId": "e0772037-b360-4a08-a106-f824ddfa2b62"
      },
      "execution_count": 46,
      "outputs": [
        {
          "output_type": "execute_result",
          "data": {
            "text/plain": [
              "             date        location  total_cases  total_deaths  population  \\\n",
              "246939 2023-03-03   United States    103643742       1122157   338289856   \n",
              "32932  2023-03-03          Brazil     37081209        699276   215313504   \n",
              "107482 2023-03-03           India     44688722        530775  1417173120   \n",
              "193947 2023-03-03          Russia     22002485        388240   144713312   \n",
              "150482 2023-03-03          Mexico      7459860        333038   127504120   \n",
              "2218   2023-03-03          Africa     12520691        257682  1426736614   \n",
              "186015 2023-03-03            Peru      4486665        219485    34049588   \n",
              "245802 2023-03-03  United Kingdom     24396534        219449    67508936   \n",
              "116327 2023-03-03           Italy     25603510        188322    59037472   \n",
              "88393  2023-03-03         Germany     38210850        168397    83369840   \n",
              "82906  2023-03-03          France     39674247        165099    67813000   \n",
              "\n",
              "        median_age  life_expectancy  gdp_per_capita  \n",
              "246939          38               78       54225.446  \n",
              "32932           33               75       14103.452  \n",
              "107482          28               69        6426.674  \n",
              "193947          39               72       24765.954  \n",
              "150482          29               75       17336.469  \n",
              "2218            30               73       12951.839  \n",
              "186015          29               76       12236.706  \n",
              "245802          40               81       39753.244  \n",
              "116327          47               83       35220.084  \n",
              "88393           46               81       45229.245  \n",
              "82906           42               82       38605.671  "
            ],
            "text/html": [
              "\n",
              "  <div id=\"df-7ac12dbb-1e7b-4d38-bfd2-ad673081749e\">\n",
              "    <div class=\"colab-df-container\">\n",
              "      <div>\n",
              "<style scoped>\n",
              "    .dataframe tbody tr th:only-of-type {\n",
              "        vertical-align: middle;\n",
              "    }\n",
              "\n",
              "    .dataframe tbody tr th {\n",
              "        vertical-align: top;\n",
              "    }\n",
              "\n",
              "    .dataframe thead th {\n",
              "        text-align: right;\n",
              "    }\n",
              "</style>\n",
              "<table border=\"1\" class=\"dataframe\">\n",
              "  <thead>\n",
              "    <tr style=\"text-align: right;\">\n",
              "      <th></th>\n",
              "      <th>date</th>\n",
              "      <th>location</th>\n",
              "      <th>total_cases</th>\n",
              "      <th>total_deaths</th>\n",
              "      <th>population</th>\n",
              "      <th>median_age</th>\n",
              "      <th>life_expectancy</th>\n",
              "      <th>gdp_per_capita</th>\n",
              "    </tr>\n",
              "  </thead>\n",
              "  <tbody>\n",
              "    <tr>\n",
              "      <th>246939</th>\n",
              "      <td>2023-03-03</td>\n",
              "      <td>United States</td>\n",
              "      <td>103643742</td>\n",
              "      <td>1122157</td>\n",
              "      <td>338289856</td>\n",
              "      <td>38</td>\n",
              "      <td>78</td>\n",
              "      <td>54225.446</td>\n",
              "    </tr>\n",
              "    <tr>\n",
              "      <th>32932</th>\n",
              "      <td>2023-03-03</td>\n",
              "      <td>Brazil</td>\n",
              "      <td>37081209</td>\n",
              "      <td>699276</td>\n",
              "      <td>215313504</td>\n",
              "      <td>33</td>\n",
              "      <td>75</td>\n",
              "      <td>14103.452</td>\n",
              "    </tr>\n",
              "    <tr>\n",
              "      <th>107482</th>\n",
              "      <td>2023-03-03</td>\n",
              "      <td>India</td>\n",
              "      <td>44688722</td>\n",
              "      <td>530775</td>\n",
              "      <td>1417173120</td>\n",
              "      <td>28</td>\n",
              "      <td>69</td>\n",
              "      <td>6426.674</td>\n",
              "    </tr>\n",
              "    <tr>\n",
              "      <th>193947</th>\n",
              "      <td>2023-03-03</td>\n",
              "      <td>Russia</td>\n",
              "      <td>22002485</td>\n",
              "      <td>388240</td>\n",
              "      <td>144713312</td>\n",
              "      <td>39</td>\n",
              "      <td>72</td>\n",
              "      <td>24765.954</td>\n",
              "    </tr>\n",
              "    <tr>\n",
              "      <th>150482</th>\n",
              "      <td>2023-03-03</td>\n",
              "      <td>Mexico</td>\n",
              "      <td>7459860</td>\n",
              "      <td>333038</td>\n",
              "      <td>127504120</td>\n",
              "      <td>29</td>\n",
              "      <td>75</td>\n",
              "      <td>17336.469</td>\n",
              "    </tr>\n",
              "    <tr>\n",
              "      <th>2218</th>\n",
              "      <td>2023-03-03</td>\n",
              "      <td>Africa</td>\n",
              "      <td>12520691</td>\n",
              "      <td>257682</td>\n",
              "      <td>1426736614</td>\n",
              "      <td>30</td>\n",
              "      <td>73</td>\n",
              "      <td>12951.839</td>\n",
              "    </tr>\n",
              "    <tr>\n",
              "      <th>186015</th>\n",
              "      <td>2023-03-03</td>\n",
              "      <td>Peru</td>\n",
              "      <td>4486665</td>\n",
              "      <td>219485</td>\n",
              "      <td>34049588</td>\n",
              "      <td>29</td>\n",
              "      <td>76</td>\n",
              "      <td>12236.706</td>\n",
              "    </tr>\n",
              "    <tr>\n",
              "      <th>245802</th>\n",
              "      <td>2023-03-03</td>\n",
              "      <td>United Kingdom</td>\n",
              "      <td>24396534</td>\n",
              "      <td>219449</td>\n",
              "      <td>67508936</td>\n",
              "      <td>40</td>\n",
              "      <td>81</td>\n",
              "      <td>39753.244</td>\n",
              "    </tr>\n",
              "    <tr>\n",
              "      <th>116327</th>\n",
              "      <td>2023-03-03</td>\n",
              "      <td>Italy</td>\n",
              "      <td>25603510</td>\n",
              "      <td>188322</td>\n",
              "      <td>59037472</td>\n",
              "      <td>47</td>\n",
              "      <td>83</td>\n",
              "      <td>35220.084</td>\n",
              "    </tr>\n",
              "    <tr>\n",
              "      <th>88393</th>\n",
              "      <td>2023-03-03</td>\n",
              "      <td>Germany</td>\n",
              "      <td>38210850</td>\n",
              "      <td>168397</td>\n",
              "      <td>83369840</td>\n",
              "      <td>46</td>\n",
              "      <td>81</td>\n",
              "      <td>45229.245</td>\n",
              "    </tr>\n",
              "    <tr>\n",
              "      <th>82906</th>\n",
              "      <td>2023-03-03</td>\n",
              "      <td>France</td>\n",
              "      <td>39674247</td>\n",
              "      <td>165099</td>\n",
              "      <td>67813000</td>\n",
              "      <td>42</td>\n",
              "      <td>82</td>\n",
              "      <td>38605.671</td>\n",
              "    </tr>\n",
              "  </tbody>\n",
              "</table>\n",
              "</div>\n",
              "      <button class=\"colab-df-convert\" onclick=\"convertToInteractive('df-7ac12dbb-1e7b-4d38-bfd2-ad673081749e')\"\n",
              "              title=\"Convert this dataframe to an interactive table.\"\n",
              "              style=\"display:none;\">\n",
              "        \n",
              "  <svg xmlns=\"http://www.w3.org/2000/svg\" height=\"24px\"viewBox=\"0 0 24 24\"\n",
              "       width=\"24px\">\n",
              "    <path d=\"M0 0h24v24H0V0z\" fill=\"none\"/>\n",
              "    <path d=\"M18.56 5.44l.94 2.06.94-2.06 2.06-.94-2.06-.94-.94-2.06-.94 2.06-2.06.94zm-11 1L8.5 8.5l.94-2.06 2.06-.94-2.06-.94L8.5 2.5l-.94 2.06-2.06.94zm10 10l.94 2.06.94-2.06 2.06-.94-2.06-.94-.94-2.06-.94 2.06-2.06.94z\"/><path d=\"M17.41 7.96l-1.37-1.37c-.4-.4-.92-.59-1.43-.59-.52 0-1.04.2-1.43.59L10.3 9.45l-7.72 7.72c-.78.78-.78 2.05 0 2.83L4 21.41c.39.39.9.59 1.41.59.51 0 1.02-.2 1.41-.59l7.78-7.78 2.81-2.81c.8-.78.8-2.07 0-2.86zM5.41 20L4 18.59l7.72-7.72 1.47 1.35L5.41 20z\"/>\n",
              "  </svg>\n",
              "      </button>\n",
              "      \n",
              "  <style>\n",
              "    .colab-df-container {\n",
              "      display:flex;\n",
              "      flex-wrap:wrap;\n",
              "      gap: 12px;\n",
              "    }\n",
              "\n",
              "    .colab-df-convert {\n",
              "      background-color: #E8F0FE;\n",
              "      border: none;\n",
              "      border-radius: 50%;\n",
              "      cursor: pointer;\n",
              "      display: none;\n",
              "      fill: #1967D2;\n",
              "      height: 32px;\n",
              "      padding: 0 0 0 0;\n",
              "      width: 32px;\n",
              "    }\n",
              "\n",
              "    .colab-df-convert:hover {\n",
              "      background-color: #E2EBFA;\n",
              "      box-shadow: 0px 1px 2px rgba(60, 64, 67, 0.3), 0px 1px 3px 1px rgba(60, 64, 67, 0.15);\n",
              "      fill: #174EA6;\n",
              "    }\n",
              "\n",
              "    [theme=dark] .colab-df-convert {\n",
              "      background-color: #3B4455;\n",
              "      fill: #D2E3FC;\n",
              "    }\n",
              "\n",
              "    [theme=dark] .colab-df-convert:hover {\n",
              "      background-color: #434B5C;\n",
              "      box-shadow: 0px 1px 3px 1px rgba(0, 0, 0, 0.15);\n",
              "      filter: drop-shadow(0px 1px 2px rgba(0, 0, 0, 0.3));\n",
              "      fill: #FFFFFF;\n",
              "    }\n",
              "  </style>\n",
              "\n",
              "      <script>\n",
              "        const buttonEl =\n",
              "          document.querySelector('#df-7ac12dbb-1e7b-4d38-bfd2-ad673081749e button.colab-df-convert');\n",
              "        buttonEl.style.display =\n",
              "          google.colab.kernel.accessAllowed ? 'block' : 'none';\n",
              "\n",
              "        async function convertToInteractive(key) {\n",
              "          const element = document.querySelector('#df-7ac12dbb-1e7b-4d38-bfd2-ad673081749e');\n",
              "          const dataTable =\n",
              "            await google.colab.kernel.invokeFunction('convertToInteractive',\n",
              "                                                     [key], {});\n",
              "          if (!dataTable) return;\n",
              "\n",
              "          const docLinkHtml = 'Like what you see? Visit the ' +\n",
              "            '<a target=\"_blank\" href=https://colab.research.google.com/notebooks/data_table.ipynb>data table notebook</a>'\n",
              "            + ' to learn more about interactive tables.';\n",
              "          element.innerHTML = '';\n",
              "          dataTable['output_type'] = 'display_data';\n",
              "          await google.colab.output.renderOutput(dataTable, element);\n",
              "          const docLink = document.createElement('div');\n",
              "          docLink.innerHTML = docLinkHtml;\n",
              "          element.appendChild(docLink);\n",
              "        }\n",
              "      </script>\n",
              "    </div>\n",
              "  </div>\n",
              "  "
            ]
          },
          "metadata": {},
          "execution_count": 46
        }
      ]
    },
    {
      "cell_type": "markdown",
      "source": [
        "* Plotar um gráfico de barras para os 5 países com mais mortes\n",
        "    * `df.loc[df.date == '2020-06-14', ['location', 'total_deaths']].sort_values(by=\"total_deaths\", ascending=False)[1:6]`\n",
        "    * `ax.bar('location', 'total_deaths', data=top5_total_deaths)`\n",
        "* Plotar um gráfico de linhas para ver a evolução do total de casos de COVID-19 no mundo.\n",
        "    * `df.loc[df.location == \"World\", \"total_deaths\"].reset_index(drop=True).plot()`\n",
        "* [OPCIONAL] Plotar um gráfico de dispersão considerando `gdp_per_capita` (ou seja, o PIB dos países) pelo número total de mortos. Pegue a data mais recente apenas.\n",
        "    * Lembre-se que não é nada conclusivo, pois envolve fatores como proporcão de testes, etc."
      ],
      "metadata": {
        "id": "VZF-4KEOH8cD"
      }
    },
    {
      "cell_type": "markdown",
      "metadata": {
        "id": "SViA5VZ7DYLA"
      },
      "source": [
        "* Criar uma cópia do DataFrame apenas com o Brasil\n",
        "    * `df_brasil = df.loc[df.location == \"Brazil\"].copy()`\n",
        "* Identificar quando foi registrada a primeira morte no Brasil\n",
        "* Identificar quantos dias demorou para registrarmos a primeira morte, considerando o primeiro caso de COVID-19 registrado.\n",
        "* Plotar gráficos de linha em escalas linear e logarítmica para os casos totais e mortes totais."
      ]
    },
    {
      "cell_type": "code",
      "metadata": {
        "id": "UDQA502_hAwI"
      },
      "source": [],
      "execution_count": 24,
      "outputs": []
    },
    {
      "cell_type": "markdown",
      "metadata": {
        "id": "LCsiXvM3BcsO"
      },
      "source": [
        "## Conclusão"
      ]
    }
  ]
}