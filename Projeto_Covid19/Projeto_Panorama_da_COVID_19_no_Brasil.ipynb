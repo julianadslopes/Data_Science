{
  "nbformat": 4,
  "nbformat_minor": 0,
  "metadata": {
    "colab": {
      "provenance": []
    },
    "kernelspec": {
      "name": "python3",
      "display_name": "Python 3"
    }
  },
  "cells": [
    {
      "cell_type": "markdown",
      "metadata": {
        "id": "-eFQZydM9O9J"
      },
      "source": [
        "<img alt=\"bruno logo\" width=\"15%\" src=\"https://raw.githubusercontent.com/brunobonatini/Data_Science/main/logo.png\">\n",
        "\n",
        "#### **Data Scientist & Analyst**\n",
        "*by [Bruno Bonatini](https://www.linkedin.com/in/bsbonatini/)*\n",
        "\n",
        "---\n",
        "  "
      ]
    },
    {
      "cell_type": "markdown",
      "metadata": {
        "id": "kLI0gJtzDGuQ"
      },
      "source": [
        "# Panorama do COVID-19 no Brasil\n",
        "\n",
        "COVID-19 é uma doença infecciosa causada pelo vírus SARS-Cov-2, identificada pela primeira vez em dezembro de 2019 na cidade de Wuhan, na China, com um surto de pneumonia por causa desconhecida. Houve relatos que as pessoas infectadas tiveram contatos com animais em um mercado de frutos do mar e animais vivos na cidade, mas não foi confirmado que o vírus tenha sido transmitido por estes animais.\n",
        "\n",
        "Em Janeiro de 2020, o vírus se espalhou rapidamente em outras partes da China e depois para outros países, quando em Março de 2020 foi decretada pela OMS (Organização Mundial da Saúde) como pandemia global.\n",
        "\n",
        "Transmitido principalmente por meio de gotículas provenientes de tosses ou espirros de pessoas infectadas, a gravidade dos sintomas varia muito de pessoa para pessoa, mas podem incluir febre, tosse seca, fadiga, dor de cabeça, perda de olfato ou paladar, dor de garganta, dores musculares e dificuldades na respiração. Em casos mais graves, a doença pode levar a pneumonia, falência de orgãos e até a morte.\n",
        "\n",
        "<img alt=\"Colaboratory logo\" width=\"50%\" src=\"https://raw.githubusercontent.com/brunobonatini/Data_Science/main/Projeto_Covid19/covid19.jpg\">\n",
        "\n",
        "Desde o início da pandemia, a COVID-19 afetou milhões de pessoas em todo o mundo e teve um impacto significativo na saúde pública, economia e na sociedade como um todo.\n",
        "\n",
        "Após alguns meses de pesquisas, as vacinas foram liberadas no mês Dezembro de 2020, tornando-se uma medida muito importante para controlar a proliferação da doença.\n",
        "\n",
        "Mesmo após a liberação das vacinas, notou-se um aumento de casos principalmente em épocas de festas e datas comemorativas, fazendo com que o vírus sofresse mutações gerando novas variantes e consequentemente novas doses de vacinas.\n",
        "\n",
        "Neste **projeto** farei a análise de uma maneira geral sobre a COVID-19 no Brasil e no Mundo, para assim conseguir extrair alguns insights importantes dos dados. "
      ]
    },
    {
      "cell_type": "markdown",
      "metadata": {
        "id": "0zxQHhIUDF_2"
      },
      "source": [
        "## Obtenção dos Dados\n",
        "\n",
        "Os dados utilizados neste projeto foram obtidos através de uma fonte super segura e confiável no [GitHub](https://github.com/owid/covid-19-data/tree/master/public/data), que extraiu-os diretamente do site [Our World in Data](https://ourworldindata.org/).\n",
        "\n",
        "A grande dificuldade de se analisar dados de uma nova doença como a COVID-19 é que há muitas incertezas em relação ao vírus. \n",
        "\n",
        "Além de ser uma doença relativamente nova e altamente contagiosa, os sistemas de saúde não dão conta da quantidade de pacientes infectados e que precisam de tratamento, os cientistas precisam coletar dados em tempo real para analisar e entender a natureza da doença e os sistemas governamentais, estaduais e federais, divulgam informações diferentes de acordo com o benefício próprio de cada um, gerando muita diferença nos números, muitas vezes por questões políticas.\n",
        "\n",
        "Caso tenham algum problema em baixar o arquivo diretamente do repositório oficial, deixo aqui o [meu link](https://raw.githubusercontent.com/brunobonatini/Data_Science/main/Projeto_Covid19/owid-covid-data.csv) atualizado em 06.03.2023."
      ]
    },
    {
      "cell_type": "markdown",
      "source": [
        "# Importando as bibliotecas necessárias e o dataset para o desenvolvimento do Projeto"
      ],
      "metadata": {
        "id": "IHuau39cXz86"
      }
    },
    {
      "cell_type": "code",
      "metadata": {
        "id": "lOtEJxe0DMEb"
      },
      "source": [
        "# importando as bibliotecas necessárias\n",
        "import pandas as pd\n",
        "import numpy as np\n",
        "import matplotlib.pyplot as plt\n",
        "import seaborn as sns\n",
        "\n",
        "%matplotlib inline\n",
        "\n",
        "# importando o dataset COVID-19 para um DataFrame\n",
        "data = 'https://raw.githubusercontent.com/brunobonatini/Data_Science/main/Projeto_Covid19/owid-covid-data.csv'\n",
        "df = pd.read_csv(data)\n"
      ],
      "execution_count": 2,
      "outputs": []
    },
    {
      "cell_type": "markdown",
      "source": [
        "Após a importação das bibliotecas e do dataset, vou visualizar as primeiras entradas para ter uma visão geral dos dados, e na sequência vou analisar quais variáveis utilizarei neste projeto, copiando-as em um novo DataFrame."
      ],
      "metadata": {
        "id": "-SdWQDqPiuKm"
      }
    },
    {
      "cell_type": "code",
      "source": [
        "# visualizando as primeiras entradas do dataframe\n",
        "df.head()"
      ],
      "metadata": {
        "colab": {
          "base_uri": "https://localhost:8080/",
          "height": 386
        },
        "id": "xHDKd3RVbhw0",
        "outputId": "10f5789a-43d6-401f-afb4-137911d478c0"
      },
      "execution_count": 3,
      "outputs": [
        {
          "output_type": "execute_result",
          "data": {
            "text/plain": [
              "  iso_code continent     location        date  total_cases  new_cases  \\\n",
              "0      AFG      Asia  Afghanistan  2020-02-24          5.0        5.0   \n",
              "1      AFG      Asia  Afghanistan  2020-02-25          5.0        0.0   \n",
              "2      AFG      Asia  Afghanistan  2020-02-26          5.0        0.0   \n",
              "3      AFG      Asia  Afghanistan  2020-02-27          5.0        0.0   \n",
              "4      AFG      Asia  Afghanistan  2020-02-28          5.0        0.0   \n",
              "\n",
              "   new_cases_smoothed  total_deaths  new_deaths  new_deaths_smoothed  ...  \\\n",
              "0                 NaN           NaN         NaN                  NaN  ...   \n",
              "1                 NaN           NaN         NaN                  NaN  ...   \n",
              "2                 NaN           NaN         NaN                  NaN  ...   \n",
              "3                 NaN           NaN         NaN                  NaN  ...   \n",
              "4                 NaN           NaN         NaN                  NaN  ...   \n",
              "\n",
              "   male_smokers  handwashing_facilities  hospital_beds_per_thousand  \\\n",
              "0           NaN                  37.746                         0.5   \n",
              "1           NaN                  37.746                         0.5   \n",
              "2           NaN                  37.746                         0.5   \n",
              "3           NaN                  37.746                         0.5   \n",
              "4           NaN                  37.746                         0.5   \n",
              "\n",
              "   life_expectancy  human_development_index  population  \\\n",
              "0            64.83                    0.511  41128772.0   \n",
              "1            64.83                    0.511  41128772.0   \n",
              "2            64.83                    0.511  41128772.0   \n",
              "3            64.83                    0.511  41128772.0   \n",
              "4            64.83                    0.511  41128772.0   \n",
              "\n",
              "   excess_mortality_cumulative_absolute  excess_mortality_cumulative  \\\n",
              "0                                   NaN                          NaN   \n",
              "1                                   NaN                          NaN   \n",
              "2                                   NaN                          NaN   \n",
              "3                                   NaN                          NaN   \n",
              "4                                   NaN                          NaN   \n",
              "\n",
              "   excess_mortality  excess_mortality_cumulative_per_million  \n",
              "0               NaN                                      NaN  \n",
              "1               NaN                                      NaN  \n",
              "2               NaN                                      NaN  \n",
              "3               NaN                                      NaN  \n",
              "4               NaN                                      NaN  \n",
              "\n",
              "[5 rows x 67 columns]"
            ],
            "text/html": [
              "\n",
              "  <div id=\"df-3beb5366-df90-4c5f-afe1-0afd41792976\">\n",
              "    <div class=\"colab-df-container\">\n",
              "      <div>\n",
              "<style scoped>\n",
              "    .dataframe tbody tr th:only-of-type {\n",
              "        vertical-align: middle;\n",
              "    }\n",
              "\n",
              "    .dataframe tbody tr th {\n",
              "        vertical-align: top;\n",
              "    }\n",
              "\n",
              "    .dataframe thead th {\n",
              "        text-align: right;\n",
              "    }\n",
              "</style>\n",
              "<table border=\"1\" class=\"dataframe\">\n",
              "  <thead>\n",
              "    <tr style=\"text-align: right;\">\n",
              "      <th></th>\n",
              "      <th>iso_code</th>\n",
              "      <th>continent</th>\n",
              "      <th>location</th>\n",
              "      <th>date</th>\n",
              "      <th>total_cases</th>\n",
              "      <th>new_cases</th>\n",
              "      <th>new_cases_smoothed</th>\n",
              "      <th>total_deaths</th>\n",
              "      <th>new_deaths</th>\n",
              "      <th>new_deaths_smoothed</th>\n",
              "      <th>...</th>\n",
              "      <th>male_smokers</th>\n",
              "      <th>handwashing_facilities</th>\n",
              "      <th>hospital_beds_per_thousand</th>\n",
              "      <th>life_expectancy</th>\n",
              "      <th>human_development_index</th>\n",
              "      <th>population</th>\n",
              "      <th>excess_mortality_cumulative_absolute</th>\n",
              "      <th>excess_mortality_cumulative</th>\n",
              "      <th>excess_mortality</th>\n",
              "      <th>excess_mortality_cumulative_per_million</th>\n",
              "    </tr>\n",
              "  </thead>\n",
              "  <tbody>\n",
              "    <tr>\n",
              "      <th>0</th>\n",
              "      <td>AFG</td>\n",
              "      <td>Asia</td>\n",
              "      <td>Afghanistan</td>\n",
              "      <td>2020-02-24</td>\n",
              "      <td>5.0</td>\n",
              "      <td>5.0</td>\n",
              "      <td>NaN</td>\n",
              "      <td>NaN</td>\n",
              "      <td>NaN</td>\n",
              "      <td>NaN</td>\n",
              "      <td>...</td>\n",
              "      <td>NaN</td>\n",
              "      <td>37.746</td>\n",
              "      <td>0.5</td>\n",
              "      <td>64.83</td>\n",
              "      <td>0.511</td>\n",
              "      <td>41128772.0</td>\n",
              "      <td>NaN</td>\n",
              "      <td>NaN</td>\n",
              "      <td>NaN</td>\n",
              "      <td>NaN</td>\n",
              "    </tr>\n",
              "    <tr>\n",
              "      <th>1</th>\n",
              "      <td>AFG</td>\n",
              "      <td>Asia</td>\n",
              "      <td>Afghanistan</td>\n",
              "      <td>2020-02-25</td>\n",
              "      <td>5.0</td>\n",
              "      <td>0.0</td>\n",
              "      <td>NaN</td>\n",
              "      <td>NaN</td>\n",
              "      <td>NaN</td>\n",
              "      <td>NaN</td>\n",
              "      <td>...</td>\n",
              "      <td>NaN</td>\n",
              "      <td>37.746</td>\n",
              "      <td>0.5</td>\n",
              "      <td>64.83</td>\n",
              "      <td>0.511</td>\n",
              "      <td>41128772.0</td>\n",
              "      <td>NaN</td>\n",
              "      <td>NaN</td>\n",
              "      <td>NaN</td>\n",
              "      <td>NaN</td>\n",
              "    </tr>\n",
              "    <tr>\n",
              "      <th>2</th>\n",
              "      <td>AFG</td>\n",
              "      <td>Asia</td>\n",
              "      <td>Afghanistan</td>\n",
              "      <td>2020-02-26</td>\n",
              "      <td>5.0</td>\n",
              "      <td>0.0</td>\n",
              "      <td>NaN</td>\n",
              "      <td>NaN</td>\n",
              "      <td>NaN</td>\n",
              "      <td>NaN</td>\n",
              "      <td>...</td>\n",
              "      <td>NaN</td>\n",
              "      <td>37.746</td>\n",
              "      <td>0.5</td>\n",
              "      <td>64.83</td>\n",
              "      <td>0.511</td>\n",
              "      <td>41128772.0</td>\n",
              "      <td>NaN</td>\n",
              "      <td>NaN</td>\n",
              "      <td>NaN</td>\n",
              "      <td>NaN</td>\n",
              "    </tr>\n",
              "    <tr>\n",
              "      <th>3</th>\n",
              "      <td>AFG</td>\n",
              "      <td>Asia</td>\n",
              "      <td>Afghanistan</td>\n",
              "      <td>2020-02-27</td>\n",
              "      <td>5.0</td>\n",
              "      <td>0.0</td>\n",
              "      <td>NaN</td>\n",
              "      <td>NaN</td>\n",
              "      <td>NaN</td>\n",
              "      <td>NaN</td>\n",
              "      <td>...</td>\n",
              "      <td>NaN</td>\n",
              "      <td>37.746</td>\n",
              "      <td>0.5</td>\n",
              "      <td>64.83</td>\n",
              "      <td>0.511</td>\n",
              "      <td>41128772.0</td>\n",
              "      <td>NaN</td>\n",
              "      <td>NaN</td>\n",
              "      <td>NaN</td>\n",
              "      <td>NaN</td>\n",
              "    </tr>\n",
              "    <tr>\n",
              "      <th>4</th>\n",
              "      <td>AFG</td>\n",
              "      <td>Asia</td>\n",
              "      <td>Afghanistan</td>\n",
              "      <td>2020-02-28</td>\n",
              "      <td>5.0</td>\n",
              "      <td>0.0</td>\n",
              "      <td>NaN</td>\n",
              "      <td>NaN</td>\n",
              "      <td>NaN</td>\n",
              "      <td>NaN</td>\n",
              "      <td>...</td>\n",
              "      <td>NaN</td>\n",
              "      <td>37.746</td>\n",
              "      <td>0.5</td>\n",
              "      <td>64.83</td>\n",
              "      <td>0.511</td>\n",
              "      <td>41128772.0</td>\n",
              "      <td>NaN</td>\n",
              "      <td>NaN</td>\n",
              "      <td>NaN</td>\n",
              "      <td>NaN</td>\n",
              "    </tr>\n",
              "  </tbody>\n",
              "</table>\n",
              "<p>5 rows × 67 columns</p>\n",
              "</div>\n",
              "      <button class=\"colab-df-convert\" onclick=\"convertToInteractive('df-3beb5366-df90-4c5f-afe1-0afd41792976')\"\n",
              "              title=\"Convert this dataframe to an interactive table.\"\n",
              "              style=\"display:none;\">\n",
              "        \n",
              "  <svg xmlns=\"http://www.w3.org/2000/svg\" height=\"24px\"viewBox=\"0 0 24 24\"\n",
              "       width=\"24px\">\n",
              "    <path d=\"M0 0h24v24H0V0z\" fill=\"none\"/>\n",
              "    <path d=\"M18.56 5.44l.94 2.06.94-2.06 2.06-.94-2.06-.94-.94-2.06-.94 2.06-2.06.94zm-11 1L8.5 8.5l.94-2.06 2.06-.94-2.06-.94L8.5 2.5l-.94 2.06-2.06.94zm10 10l.94 2.06.94-2.06 2.06-.94-2.06-.94-.94-2.06-.94 2.06-2.06.94z\"/><path d=\"M17.41 7.96l-1.37-1.37c-.4-.4-.92-.59-1.43-.59-.52 0-1.04.2-1.43.59L10.3 9.45l-7.72 7.72c-.78.78-.78 2.05 0 2.83L4 21.41c.39.39.9.59 1.41.59.51 0 1.02-.2 1.41-.59l7.78-7.78 2.81-2.81c.8-.78.8-2.07 0-2.86zM5.41 20L4 18.59l7.72-7.72 1.47 1.35L5.41 20z\"/>\n",
              "  </svg>\n",
              "      </button>\n",
              "      \n",
              "  <style>\n",
              "    .colab-df-container {\n",
              "      display:flex;\n",
              "      flex-wrap:wrap;\n",
              "      gap: 12px;\n",
              "    }\n",
              "\n",
              "    .colab-df-convert {\n",
              "      background-color: #E8F0FE;\n",
              "      border: none;\n",
              "      border-radius: 50%;\n",
              "      cursor: pointer;\n",
              "      display: none;\n",
              "      fill: #1967D2;\n",
              "      height: 32px;\n",
              "      padding: 0 0 0 0;\n",
              "      width: 32px;\n",
              "    }\n",
              "\n",
              "    .colab-df-convert:hover {\n",
              "      background-color: #E2EBFA;\n",
              "      box-shadow: 0px 1px 2px rgba(60, 64, 67, 0.3), 0px 1px 3px 1px rgba(60, 64, 67, 0.15);\n",
              "      fill: #174EA6;\n",
              "    }\n",
              "\n",
              "    [theme=dark] .colab-df-convert {\n",
              "      background-color: #3B4455;\n",
              "      fill: #D2E3FC;\n",
              "    }\n",
              "\n",
              "    [theme=dark] .colab-df-convert:hover {\n",
              "      background-color: #434B5C;\n",
              "      box-shadow: 0px 1px 3px 1px rgba(0, 0, 0, 0.15);\n",
              "      filter: drop-shadow(0px 1px 2px rgba(0, 0, 0, 0.3));\n",
              "      fill: #FFFFFF;\n",
              "    }\n",
              "  </style>\n",
              "\n",
              "      <script>\n",
              "        const buttonEl =\n",
              "          document.querySelector('#df-3beb5366-df90-4c5f-afe1-0afd41792976 button.colab-df-convert');\n",
              "        buttonEl.style.display =\n",
              "          google.colab.kernel.accessAllowed ? 'block' : 'none';\n",
              "\n",
              "        async function convertToInteractive(key) {\n",
              "          const element = document.querySelector('#df-3beb5366-df90-4c5f-afe1-0afd41792976');\n",
              "          const dataTable =\n",
              "            await google.colab.kernel.invokeFunction('convertToInteractive',\n",
              "                                                     [key], {});\n",
              "          if (!dataTable) return;\n",
              "\n",
              "          const docLinkHtml = 'Like what you see? Visit the ' +\n",
              "            '<a target=\"_blank\" href=https://colab.research.google.com/notebooks/data_table.ipynb>data table notebook</a>'\n",
              "            + ' to learn more about interactive tables.';\n",
              "          element.innerHTML = '';\n",
              "          dataTable['output_type'] = 'display_data';\n",
              "          await google.colab.output.renderOutput(dataTable, element);\n",
              "          const docLink = document.createElement('div');\n",
              "          docLink.innerHTML = docLinkHtml;\n",
              "          element.appendChild(docLink);\n",
              "        }\n",
              "      </script>\n",
              "    </div>\n",
              "  </div>\n",
              "  "
            ]
          },
          "metadata": {},
          "execution_count": 3
        }
      ]
    },
    {
      "cell_type": "code",
      "source": [
        "# visualizando as variáveis do dataset\n",
        "\n",
        "df.columns"
      ],
      "metadata": {
        "colab": {
          "base_uri": "https://localhost:8080/"
        },
        "id": "2-tvgT55j4Za",
        "outputId": "bce277a0-ef4c-4753-caf0-b7fe7da09b94"
      },
      "execution_count": 4,
      "outputs": [
        {
          "output_type": "execute_result",
          "data": {
            "text/plain": [
              "Index(['iso_code', 'continent', 'location', 'date', 'total_cases', 'new_cases',\n",
              "       'new_cases_smoothed', 'total_deaths', 'new_deaths',\n",
              "       'new_deaths_smoothed', 'total_cases_per_million',\n",
              "       'new_cases_per_million', 'new_cases_smoothed_per_million',\n",
              "       'total_deaths_per_million', 'new_deaths_per_million',\n",
              "       'new_deaths_smoothed_per_million', 'reproduction_rate', 'icu_patients',\n",
              "       'icu_patients_per_million', 'hosp_patients',\n",
              "       'hosp_patients_per_million', 'weekly_icu_admissions',\n",
              "       'weekly_icu_admissions_per_million', 'weekly_hosp_admissions',\n",
              "       'weekly_hosp_admissions_per_million', 'total_tests', 'new_tests',\n",
              "       'total_tests_per_thousand', 'new_tests_per_thousand',\n",
              "       'new_tests_smoothed', 'new_tests_smoothed_per_thousand',\n",
              "       'positive_rate', 'tests_per_case', 'tests_units', 'total_vaccinations',\n",
              "       'people_vaccinated', 'people_fully_vaccinated', 'total_boosters',\n",
              "       'new_vaccinations', 'new_vaccinations_smoothed',\n",
              "       'total_vaccinations_per_hundred', 'people_vaccinated_per_hundred',\n",
              "       'people_fully_vaccinated_per_hundred', 'total_boosters_per_hundred',\n",
              "       'new_vaccinations_smoothed_per_million',\n",
              "       'new_people_vaccinated_smoothed',\n",
              "       'new_people_vaccinated_smoothed_per_hundred', 'stringency_index',\n",
              "       'population_density', 'median_age', 'aged_65_older', 'aged_70_older',\n",
              "       'gdp_per_capita', 'extreme_poverty', 'cardiovasc_death_rate',\n",
              "       'diabetes_prevalence', 'female_smokers', 'male_smokers',\n",
              "       'handwashing_facilities', 'hospital_beds_per_thousand',\n",
              "       'life_expectancy', 'human_development_index', 'population',\n",
              "       'excess_mortality_cumulative_absolute', 'excess_mortality_cumulative',\n",
              "       'excess_mortality', 'excess_mortality_cumulative_per_million'],\n",
              "      dtype='object')"
            ]
          },
          "metadata": {},
          "execution_count": 4
        }
      ]
    },
    {
      "cell_type": "markdown",
      "metadata": {
        "id": "qb5By2nIMS6m"
      },
      "source": [
        "# 1.Análise Exploratória dos Dados\n",
        "\n",
        "Nesta etapa do projeto, farei a descrição apenas das variáveis que serão utilizadas neste projeto a fim de conhecer melhor como os dados estão estruturados, estas variáveis serão copiadas para um novo DataFrame `df_covid`, conseguindo assim uma melhor análise e processamento dos dados.\n",
        "\n",
        "Será realizada também nesta fase, a identificação, substituição ou remoção dos valores ausentes, dados duplicados ou inconsistentes.\n",
        "\n",
        "Vou visualizar a distribuição dos dados em suas variáveis através de um gráfico e analisar os seus valores estatísticos, buscando encontrar outliers que nos prejudica e impede que uma análise seja feita com qualidade.\n",
        "\n",
        "## 1.1.Dicionário de Variáveis\n",
        "\n",
        "* **continent** - Nome do continente\n",
        "* **location** - Localização geográfica\n",
        "* **date** - Data de obervação da doença\n",
        "* **total_cases** - Novos casos confirmados de COVID-19 (suavização de 7 dias). As contagens podem incluir casos prováveis, quando relatados.\n",
        "* **total_deaths** - Total de mortes atribuídas à COVID-19. As contagens podem incluir mortes prováveis, quando relatadas\n",
        "* **total_vaccinations** - Número total de doses de vacinação contra COVID-19 administradas\n",
        "* **people_vaccinated** - Número total de pessoas que receberam pelo menos uma dose de vacina\n",
        "* **people_fully_vaccinated** - Número total de pessoas que receberam todas as doses prescritas pelo protocolo inicial de vacinação\n",
        "* **population** - População (últimos valores disponíveis). Consulte https://github.com/owid/covid-19-data/blob/master/scripts/input/un/population_latest.csv para obter a lista completa de fontes \n",
        "* **median_age** - Idade média da população, projeção da ONU para 2020\n",
        "* **life_expectancy** - Expectativa de vida ao nascer em 2019\n",
        "* **gdp_per_capita** - Produto interno bruto em paridade de poder de compra (dólares internacionais constantes de 2011), ano mais recente disponível\n"
      ]
    },
    {
      "cell_type": "code",
      "source": [
        "# copiando as variáveis que serão utilizadas neste projeto para um novo dataframe\n",
        "df_covid = df[['date', 'continent', 'location', 'total_cases', \n",
        "               'total_deaths', 'total_vaccinations',\n",
        "               'people_vaccinated', 'people_fully_vaccinated', 'population', \n",
        "               'median_age', 'life_expectancy', 'gdp_per_capita']].copy()"
      ],
      "metadata": {
        "id": "BEgNjG81KsSl"
      },
      "execution_count": 5,
      "outputs": []
    },
    {
      "cell_type": "code",
      "source": [
        "# visualizando as primeiras entradas do dataframe\n",
        "df_covid.head()"
      ],
      "metadata": {
        "colab": {
          "base_uri": "https://localhost:8080/",
          "height": 250
        },
        "id": "PWeA_93CUOdw",
        "outputId": "5d6e1650-79c5-47f8-b52a-1650c5107d23"
      },
      "execution_count": 6,
      "outputs": [
        {
          "output_type": "execute_result",
          "data": {
            "text/plain": [
              "         date continent     location  total_cases  total_deaths  \\\n",
              "0  2020-02-24      Asia  Afghanistan          5.0           NaN   \n",
              "1  2020-02-25      Asia  Afghanistan          5.0           NaN   \n",
              "2  2020-02-26      Asia  Afghanistan          5.0           NaN   \n",
              "3  2020-02-27      Asia  Afghanistan          5.0           NaN   \n",
              "4  2020-02-28      Asia  Afghanistan          5.0           NaN   \n",
              "\n",
              "   total_vaccinations  people_vaccinated  people_fully_vaccinated  population  \\\n",
              "0                 NaN                NaN                      NaN  41128772.0   \n",
              "1                 NaN                NaN                      NaN  41128772.0   \n",
              "2                 NaN                NaN                      NaN  41128772.0   \n",
              "3                 NaN                NaN                      NaN  41128772.0   \n",
              "4                 NaN                NaN                      NaN  41128772.0   \n",
              "\n",
              "   median_age  life_expectancy  gdp_per_capita  \n",
              "0        18.6            64.83        1803.987  \n",
              "1        18.6            64.83        1803.987  \n",
              "2        18.6            64.83        1803.987  \n",
              "3        18.6            64.83        1803.987  \n",
              "4        18.6            64.83        1803.987  "
            ],
            "text/html": [
              "\n",
              "  <div id=\"df-fc4b6cf9-2fe0-436e-95a5-0c9da4473743\">\n",
              "    <div class=\"colab-df-container\">\n",
              "      <div>\n",
              "<style scoped>\n",
              "    .dataframe tbody tr th:only-of-type {\n",
              "        vertical-align: middle;\n",
              "    }\n",
              "\n",
              "    .dataframe tbody tr th {\n",
              "        vertical-align: top;\n",
              "    }\n",
              "\n",
              "    .dataframe thead th {\n",
              "        text-align: right;\n",
              "    }\n",
              "</style>\n",
              "<table border=\"1\" class=\"dataframe\">\n",
              "  <thead>\n",
              "    <tr style=\"text-align: right;\">\n",
              "      <th></th>\n",
              "      <th>date</th>\n",
              "      <th>continent</th>\n",
              "      <th>location</th>\n",
              "      <th>total_cases</th>\n",
              "      <th>total_deaths</th>\n",
              "      <th>total_vaccinations</th>\n",
              "      <th>people_vaccinated</th>\n",
              "      <th>people_fully_vaccinated</th>\n",
              "      <th>population</th>\n",
              "      <th>median_age</th>\n",
              "      <th>life_expectancy</th>\n",
              "      <th>gdp_per_capita</th>\n",
              "    </tr>\n",
              "  </thead>\n",
              "  <tbody>\n",
              "    <tr>\n",
              "      <th>0</th>\n",
              "      <td>2020-02-24</td>\n",
              "      <td>Asia</td>\n",
              "      <td>Afghanistan</td>\n",
              "      <td>5.0</td>\n",
              "      <td>NaN</td>\n",
              "      <td>NaN</td>\n",
              "      <td>NaN</td>\n",
              "      <td>NaN</td>\n",
              "      <td>41128772.0</td>\n",
              "      <td>18.6</td>\n",
              "      <td>64.83</td>\n",
              "      <td>1803.987</td>\n",
              "    </tr>\n",
              "    <tr>\n",
              "      <th>1</th>\n",
              "      <td>2020-02-25</td>\n",
              "      <td>Asia</td>\n",
              "      <td>Afghanistan</td>\n",
              "      <td>5.0</td>\n",
              "      <td>NaN</td>\n",
              "      <td>NaN</td>\n",
              "      <td>NaN</td>\n",
              "      <td>NaN</td>\n",
              "      <td>41128772.0</td>\n",
              "      <td>18.6</td>\n",
              "      <td>64.83</td>\n",
              "      <td>1803.987</td>\n",
              "    </tr>\n",
              "    <tr>\n",
              "      <th>2</th>\n",
              "      <td>2020-02-26</td>\n",
              "      <td>Asia</td>\n",
              "      <td>Afghanistan</td>\n",
              "      <td>5.0</td>\n",
              "      <td>NaN</td>\n",
              "      <td>NaN</td>\n",
              "      <td>NaN</td>\n",
              "      <td>NaN</td>\n",
              "      <td>41128772.0</td>\n",
              "      <td>18.6</td>\n",
              "      <td>64.83</td>\n",
              "      <td>1803.987</td>\n",
              "    </tr>\n",
              "    <tr>\n",
              "      <th>3</th>\n",
              "      <td>2020-02-27</td>\n",
              "      <td>Asia</td>\n",
              "      <td>Afghanistan</td>\n",
              "      <td>5.0</td>\n",
              "      <td>NaN</td>\n",
              "      <td>NaN</td>\n",
              "      <td>NaN</td>\n",
              "      <td>NaN</td>\n",
              "      <td>41128772.0</td>\n",
              "      <td>18.6</td>\n",
              "      <td>64.83</td>\n",
              "      <td>1803.987</td>\n",
              "    </tr>\n",
              "    <tr>\n",
              "      <th>4</th>\n",
              "      <td>2020-02-28</td>\n",
              "      <td>Asia</td>\n",
              "      <td>Afghanistan</td>\n",
              "      <td>5.0</td>\n",
              "      <td>NaN</td>\n",
              "      <td>NaN</td>\n",
              "      <td>NaN</td>\n",
              "      <td>NaN</td>\n",
              "      <td>41128772.0</td>\n",
              "      <td>18.6</td>\n",
              "      <td>64.83</td>\n",
              "      <td>1803.987</td>\n",
              "    </tr>\n",
              "  </tbody>\n",
              "</table>\n",
              "</div>\n",
              "      <button class=\"colab-df-convert\" onclick=\"convertToInteractive('df-fc4b6cf9-2fe0-436e-95a5-0c9da4473743')\"\n",
              "              title=\"Convert this dataframe to an interactive table.\"\n",
              "              style=\"display:none;\">\n",
              "        \n",
              "  <svg xmlns=\"http://www.w3.org/2000/svg\" height=\"24px\"viewBox=\"0 0 24 24\"\n",
              "       width=\"24px\">\n",
              "    <path d=\"M0 0h24v24H0V0z\" fill=\"none\"/>\n",
              "    <path d=\"M18.56 5.44l.94 2.06.94-2.06 2.06-.94-2.06-.94-.94-2.06-.94 2.06-2.06.94zm-11 1L8.5 8.5l.94-2.06 2.06-.94-2.06-.94L8.5 2.5l-.94 2.06-2.06.94zm10 10l.94 2.06.94-2.06 2.06-.94-2.06-.94-.94-2.06-.94 2.06-2.06.94z\"/><path d=\"M17.41 7.96l-1.37-1.37c-.4-.4-.92-.59-1.43-.59-.52 0-1.04.2-1.43.59L10.3 9.45l-7.72 7.72c-.78.78-.78 2.05 0 2.83L4 21.41c.39.39.9.59 1.41.59.51 0 1.02-.2 1.41-.59l7.78-7.78 2.81-2.81c.8-.78.8-2.07 0-2.86zM5.41 20L4 18.59l7.72-7.72 1.47 1.35L5.41 20z\"/>\n",
              "  </svg>\n",
              "      </button>\n",
              "      \n",
              "  <style>\n",
              "    .colab-df-container {\n",
              "      display:flex;\n",
              "      flex-wrap:wrap;\n",
              "      gap: 12px;\n",
              "    }\n",
              "\n",
              "    .colab-df-convert {\n",
              "      background-color: #E8F0FE;\n",
              "      border: none;\n",
              "      border-radius: 50%;\n",
              "      cursor: pointer;\n",
              "      display: none;\n",
              "      fill: #1967D2;\n",
              "      height: 32px;\n",
              "      padding: 0 0 0 0;\n",
              "      width: 32px;\n",
              "    }\n",
              "\n",
              "    .colab-df-convert:hover {\n",
              "      background-color: #E2EBFA;\n",
              "      box-shadow: 0px 1px 2px rgba(60, 64, 67, 0.3), 0px 1px 3px 1px rgba(60, 64, 67, 0.15);\n",
              "      fill: #174EA6;\n",
              "    }\n",
              "\n",
              "    [theme=dark] .colab-df-convert {\n",
              "      background-color: #3B4455;\n",
              "      fill: #D2E3FC;\n",
              "    }\n",
              "\n",
              "    [theme=dark] .colab-df-convert:hover {\n",
              "      background-color: #434B5C;\n",
              "      box-shadow: 0px 1px 3px 1px rgba(0, 0, 0, 0.15);\n",
              "      filter: drop-shadow(0px 1px 2px rgba(0, 0, 0, 0.3));\n",
              "      fill: #FFFFFF;\n",
              "    }\n",
              "  </style>\n",
              "\n",
              "      <script>\n",
              "        const buttonEl =\n",
              "          document.querySelector('#df-fc4b6cf9-2fe0-436e-95a5-0c9da4473743 button.colab-df-convert');\n",
              "        buttonEl.style.display =\n",
              "          google.colab.kernel.accessAllowed ? 'block' : 'none';\n",
              "\n",
              "        async function convertToInteractive(key) {\n",
              "          const element = document.querySelector('#df-fc4b6cf9-2fe0-436e-95a5-0c9da4473743');\n",
              "          const dataTable =\n",
              "            await google.colab.kernel.invokeFunction('convertToInteractive',\n",
              "                                                     [key], {});\n",
              "          if (!dataTable) return;\n",
              "\n",
              "          const docLinkHtml = 'Like what you see? Visit the ' +\n",
              "            '<a target=\"_blank\" href=https://colab.research.google.com/notebooks/data_table.ipynb>data table notebook</a>'\n",
              "            + ' to learn more about interactive tables.';\n",
              "          element.innerHTML = '';\n",
              "          dataTable['output_type'] = 'display_data';\n",
              "          await google.colab.output.renderOutput(dataTable, element);\n",
              "          const docLink = document.createElement('div');\n",
              "          docLink.innerHTML = docLinkHtml;\n",
              "          element.appendChild(docLink);\n",
              "        }\n",
              "      </script>\n",
              "    </div>\n",
              "  </div>\n",
              "  "
            ]
          },
          "metadata": {},
          "execution_count": 6
        }
      ]
    },
    {
      "cell_type": "markdown",
      "source": [
        "## 1.2.Qual o volume do DataFrame? Quais os tipos de dados das variáveis?\n",
        "\n",
        "Logo abaixo, conseguimos ver a quantidade de entradas no dataset e a quantidade de colunas, lembrando que copiei apenas as colunas utilizadas neste projeto.\n",
        "\n",
        "Portanto, o total de entrada é de 261.499 e o total de colunas passou de 67 para 12."
      ],
      "metadata": {
        "id": "ZjG2WewqI39b"
      }
    },
    {
      "cell_type": "code",
      "source": [
        "# verificando o tamanho do dataframe, tipos de variáveis e valores ausentes\n",
        "df_covid.info()\n",
        "\n",
        "print('\\nTotal de entradas: {}'.format(df_covid.shape[0]))\n",
        "print('Total de variáveis: {}'.format(df_covid.shape[1]))"
      ],
      "metadata": {
        "colab": {
          "base_uri": "https://localhost:8080/"
        },
        "id": "AGz_Qmpzdqq-",
        "outputId": "a2926cfd-bb73-4742-c996-3ffc88b5c99c"
      },
      "execution_count": 7,
      "outputs": [
        {
          "output_type": "stream",
          "name": "stdout",
          "text": [
            "<class 'pandas.core.frame.DataFrame'>\n",
            "RangeIndex: 261499 entries, 0 to 261498\n",
            "Data columns (total 12 columns):\n",
            " #   Column                   Non-Null Count   Dtype  \n",
            "---  ------                   --------------   -----  \n",
            " 0   date                     261499 non-null  object \n",
            " 1   continent                246824 non-null  object \n",
            " 2   location                 261499 non-null  object \n",
            " 3   total_cases              246951 non-null  float64\n",
            " 4   total_deaths             227230 non-null  float64\n",
            " 5   total_vaccinations       72431 non-null   float64\n",
            " 6   people_vaccinated        69329 non-null   float64\n",
            " 7   people_fully_vaccinated  66997 non-null   float64\n",
            " 8   population               260378 non-null  float64\n",
            " 9   median_age               210748 non-null  float64\n",
            " 10  life_expectancy          240047 non-null  float64\n",
            " 11  gdp_per_capita           210543 non-null  float64\n",
            "dtypes: float64(9), object(3)\n",
            "memory usage: 23.9+ MB\n",
            "\n",
            "Total de entradas: 261499\n",
            "Total de variáveis: 12\n"
          ]
        }
      ]
    },
    {
      "cell_type": "markdown",
      "source": [
        "Pode-se notar que as variáveis acima estão declaradas como `float`, isso quer dizer que estão com o valor em decimal. Porém os dados que estamos analisando são baseados na quantidade de pessoas que estão vacinadas ou infectadas, portanto não existe o caso de 1.5 pessoas ou 0.5 pessoa foi infectada pela COVID-19.\n",
        "\n",
        "Com este problema, precisamos transformar estas variáveis com valores decimais para valores inteiros (`int64`). Mas antes de transformar os tipos das variáveis, vou fazer o tratamento dos vaores ausentes."
      ],
      "metadata": {
        "id": "dF2OieXGaFTZ"
      }
    },
    {
      "cell_type": "markdown",
      "source": [
        "## 1.3.Qual a quantidade de valores ausentes em relação ao total de entradas?"
      ],
      "metadata": {
        "id": "aqHBIxKvJTwv"
      }
    },
    {
      "cell_type": "code",
      "source": [
        "(df_covid.isnull().sum() / df_covid.shape[0]).sort_values(ascending=False)"
      ],
      "metadata": {
        "colab": {
          "base_uri": "https://localhost:8080/"
        },
        "id": "rHWTVMOaP5iD",
        "outputId": "736c36ea-6bfd-4325-ad95-6dc7a743c85a"
      },
      "execution_count": 8,
      "outputs": [
        {
          "output_type": "execute_result",
          "data": {
            "text/plain": [
              "people_fully_vaccinated    0.743796\n",
              "people_vaccinated          0.734879\n",
              "total_vaccinations         0.723016\n",
              "gdp_per_capita             0.194861\n",
              "median_age                 0.194077\n",
              "total_deaths               0.131048\n",
              "life_expectancy            0.082035\n",
              "continent                  0.056119\n",
              "total_cases                0.055633\n",
              "population                 0.004287\n",
              "date                       0.000000\n",
              "location                   0.000000\n",
              "dtype: float64"
            ]
          },
          "metadata": {},
          "execution_count": 8
        }
      ]
    },
    {
      "cell_type": "markdown",
      "source": [
        "Conseguimos perceber acima que existem muitos valores ausentes em algumas variáveis, portanto precisamos analisar e tomar a decisão do que será feito com estes dados.\n",
        "\n",
        "Existem duas maneiras mais comuns para tratarmos estes valores ausentes, fazendo a remoção, que é a forma mais drástica, ou preenchendo os valores com algumas medidas estatísticas como, média, mediana ou moda.\n",
        "\n",
        "Podemos identificar as seguintes situações nos valores ausentes:\n",
        "\n",
        "* Mais de 70% dos dados das variáveis `people_fully_vaccinated`, `people_vaccinated`e `total_vaccination` estão faltando, estes não entrarão nesta análise e serão excluídos.\n",
        "* Nas variáveis `gpd_per_capita` e `median_age` 19% dos dados estão faltando.\n",
        "* 13% dos dados da variável `total_deaths` estão faltando.\n"
      ],
      "metadata": {
        "id": "05ui5kVv5pJv"
      }
    },
    {
      "cell_type": "code",
      "source": [
        "# copiando os dados em um dataframe de limpeza\n",
        "df_clean = df_covid.copy()"
      ],
      "metadata": {
        "id": "_AuNMrjKpFLw"
      },
      "execution_count": 9,
      "outputs": []
    },
    {
      "cell_type": "code",
      "source": [
        "# eliminando as colunas com mais de 70% de valores ausentes\n",
        "df_clean.drop('people_fully_vaccinated', axis=1, inplace=True)\n",
        "df_clean.drop('people_vaccinated', axis=1, inplace=True)\n",
        "df_clean.drop('total_vaccinations', axis=1, inplace=True)"
      ],
      "metadata": {
        "id": "4TNexH8po74G"
      },
      "execution_count": 10,
      "outputs": []
    },
    {
      "cell_type": "markdown",
      "source": [
        "## 1.4.Tratando os valores ausentes\n",
        "\n",
        "Com as variáveis removidas, agora vou tratar os valores ausentes fazendo uma análise de cada variável para o preenchimento da maneira correta, sempre buscando não afetar bruscamente os valores estatísticos dos dados."
      ],
      "metadata": {
        "id": "W_jiqNCOto-w"
      }
    },
    {
      "cell_type": "code",
      "source": [
        "# visualizando os dados ausentes restantes\n",
        "df_clean.isnull().sum().sort_values(ascending=False)"
      ],
      "metadata": {
        "colab": {
          "base_uri": "https://localhost:8080/"
        },
        "id": "8kMTVBabqyc6",
        "outputId": "59ba41d6-64ae-43f8-9725-10e3d88a1e69"
      },
      "execution_count": 11,
      "outputs": [
        {
          "output_type": "execute_result",
          "data": {
            "text/plain": [
              "gdp_per_capita     50956\n",
              "median_age         50751\n",
              "total_deaths       34269\n",
              "life_expectancy    21452\n",
              "continent          14675\n",
              "total_cases        14548\n",
              "population          1121\n",
              "date                   0\n",
              "location               0\n",
              "dtype: int64"
            ]
          },
          "metadata": {},
          "execution_count": 11
        }
      ]
    },
    {
      "cell_type": "markdown",
      "source": [
        "Agora vou verificar os valores estatísticos de cada variável para tratar os campos que não foram preenchidos da melhor maneira, afim de não afetar os dados para minha análise."
      ],
      "metadata": {
        "id": "Y9lCyKDtBryy"
      }
    },
    {
      "cell_type": "code",
      "source": [
        "# visualizando os dados estatísticos da variável gdr_per_capita\n",
        "df_clean['gdp_per_capita'].describe()"
      ],
      "metadata": {
        "colab": {
          "base_uri": "https://localhost:8080/"
        },
        "id": "OZhGOFfdBm-4",
        "outputId": "d5d6bb74-d993-4469-f816-e29f780faa5d"
      },
      "execution_count": 12,
      "outputs": [
        {
          "output_type": "execute_result",
          "data": {
            "text/plain": [
              "count    210543.000000\n",
              "mean      19492.620225\n",
              "std       20515.161357\n",
              "min         661.240000\n",
              "25%        4449.898000\n",
              "50%       12951.839000\n",
              "75%       27717.847000\n",
              "max      116935.600000\n",
              "Name: gdp_per_capita, dtype: float64"
            ]
          },
          "metadata": {},
          "execution_count": 12
        }
      ]
    },
    {
      "cell_type": "markdown",
      "source": [
        "Podemos ver nos dados da variável acima, sua média e mediana não estão com valores tão distantes, porém existe um valor máximo de 116935 que faz com que o desvio padrão aumente, isso signifia que este valor máximo pode ser um outlier.\n",
        "\n",
        "Nesta variável adotarei o valor da mediana para preencher os valores faltantes, para depois tratarmos possível outlier."
      ],
      "metadata": {
        "id": "iUgp3zJHDKtS"
      }
    },
    {
      "cell_type": "code",
      "source": [
        "# preenchendo os valores ausentes da variável gdp_per_capita com a mediana\n",
        "gdp_median = df_clean['gdp_per_capita'].median()\n",
        "df_clean = df_clean.fillna({'gdp_per_capita': 'gdp_median'})"
      ],
      "metadata": {
        "id": "SO7pTUn8BnRF"
      },
      "execution_count": 13,
      "outputs": []
    },
    {
      "cell_type": "code",
      "source": [
        "# visualizando os dados estatísticos da variável median_age\n",
        "df_clean['median_age'].describe()"
      ],
      "metadata": {
        "colab": {
          "base_uri": "https://localhost:8080/"
        },
        "id": "u0PWyqoOBo5v",
        "outputId": "47f229b4-e32e-4ce5-ad17-f476c7193244"
      },
      "execution_count": 15,
      "outputs": [
        {
          "output_type": "execute_result",
          "data": {
            "text/plain": [
              "count    210748.000000\n",
              "mean         30.579723\n",
              "std           9.062453\n",
              "min          15.100000\n",
              "25%          22.300000\n",
              "50%          29.900000\n",
              "75%          39.100000\n",
              "max          48.200000\n",
              "Name: median_age, dtype: float64"
            ]
          },
          "metadata": {},
          "execution_count": 15
        }
      ]
    },
    {
      "cell_type": "markdown",
      "source": [
        "Na variável `median_age` consigo observar que os valores estão distribuídos sem qualquer problema inicialmente. Portanto adotarei o preenchimento dos valores ausentes utilizando a `média` de idades, pois está bem próxima da mediana."
      ],
      "metadata": {
        "id": "0K8KbMW1F5wQ"
      }
    },
    {
      "cell_type": "code",
      "source": [
        "# preenchendo os valores ausentes da variável median_age com a média\n",
        "median_age_mean = df_clean['median_age'].mean()\n",
        "df_clean = df_clean.fillna({'median_age': 'median_age_mean'})"
      ],
      "metadata": {
        "id": "TJ4DH8CzBpFc"
      },
      "execution_count": 17,
      "outputs": []
    },
    {
      "cell_type": "code",
      "source": [
        "# visualizando os dados estatísticos da variável total_deaths\n",
        "df_clean['total_deaths'].describe()"
      ],
      "metadata": {
        "colab": {
          "base_uri": "https://localhost:8080/"
        },
        "id": "DkCvbVl1BpUO",
        "outputId": "dfb968a8-55f2-4cfa-d937-775f759b248d"
      },
      "execution_count": 21,
      "outputs": [
        {
          "output_type": "execute_result",
          "data": {
            "text/plain": [
              "count    2.272300e+05\n",
              "mean     8.047437e+04\n",
              "std      4.096264e+05\n",
              "min      1.000000e+00\n",
              "25%      1.250000e+02\n",
              "50%      1.363000e+03\n",
              "75%      1.110700e+04\n",
              "max      6.876591e+06\n",
              "Name: total_deaths, dtype: float64"
            ]
          },
          "metadata": {},
          "execution_count": 21
        }
      ]
    },
    {
      "cell_type": "markdown",
      "source": [
        "Nesta variável acima, pode-se notar que o valor da média está um pouco distante do valor da mediana, talves por existir um valor máximo de 6.8 porém 75% dos demais são abaixo 1.1, fazendo com que a média suba, afastando-se dos valores que seriam normais. Portanto, neste caso vou preencher os valores ausentes com a `mediana`."
      ],
      "metadata": {
        "id": "8LddvY7PIzmi"
      }
    },
    {
      "cell_type": "code",
      "source": [
        "# preenchendo os valores ausentes da variável total_deaths com a mediana\n",
        "td_median = df_clean['total_deaths'].median()\n",
        "df_clean = df_clean.fillna({'total_deaths': 'td_median'})"
      ],
      "metadata": {
        "id": "8VdigB1vJ5Ik"
      },
      "execution_count": 22,
      "outputs": []
    },
    {
      "cell_type": "code",
      "source": [
        "# verificando os dados estatísticos das variáveis com valores ausentes restantes\n",
        "df_clean.describe()"
      ],
      "metadata": {
        "colab": {
          "base_uri": "https://localhost:8080/",
          "height": 300
        },
        "id": "T_0VZMkxKx42",
        "outputId": "fb4af8e8-ab41-4564-c6c2-176c7769ae6f"
      },
      "execution_count": 24,
      "outputs": [
        {
          "output_type": "execute_result",
          "data": {
            "text/plain": [
              "        total_cases    population  life_expectancy\n",
              "count  2.469510e+05  2.603780e+05    240047.000000\n",
              "mean   5.378331e+06  1.405101e+08        73.595580\n",
              "std    3.300527e+07  6.915920e+08         7.446573\n",
              "min    1.000000e+00  4.700000e+01        53.280000\n",
              "25%    5.873000e+03  8.367830e+05        69.500000\n",
              "50%    6.265400e+04  6.948395e+06        75.050000\n",
              "75%    6.537300e+05  3.369661e+07        79.070000\n",
              "max    6.758069e+08  7.975105e+09        86.750000"
            ],
            "text/html": [
              "\n",
              "  <div id=\"df-05110160-6a8f-46c6-b07b-fb73b589e220\">\n",
              "    <div class=\"colab-df-container\">\n",
              "      <div>\n",
              "<style scoped>\n",
              "    .dataframe tbody tr th:only-of-type {\n",
              "        vertical-align: middle;\n",
              "    }\n",
              "\n",
              "    .dataframe tbody tr th {\n",
              "        vertical-align: top;\n",
              "    }\n",
              "\n",
              "    .dataframe thead th {\n",
              "        text-align: right;\n",
              "    }\n",
              "</style>\n",
              "<table border=\"1\" class=\"dataframe\">\n",
              "  <thead>\n",
              "    <tr style=\"text-align: right;\">\n",
              "      <th></th>\n",
              "      <th>total_cases</th>\n",
              "      <th>population</th>\n",
              "      <th>life_expectancy</th>\n",
              "    </tr>\n",
              "  </thead>\n",
              "  <tbody>\n",
              "    <tr>\n",
              "      <th>count</th>\n",
              "      <td>2.469510e+05</td>\n",
              "      <td>2.603780e+05</td>\n",
              "      <td>240047.000000</td>\n",
              "    </tr>\n",
              "    <tr>\n",
              "      <th>mean</th>\n",
              "      <td>5.378331e+06</td>\n",
              "      <td>1.405101e+08</td>\n",
              "      <td>73.595580</td>\n",
              "    </tr>\n",
              "    <tr>\n",
              "      <th>std</th>\n",
              "      <td>3.300527e+07</td>\n",
              "      <td>6.915920e+08</td>\n",
              "      <td>7.446573</td>\n",
              "    </tr>\n",
              "    <tr>\n",
              "      <th>min</th>\n",
              "      <td>1.000000e+00</td>\n",
              "      <td>4.700000e+01</td>\n",
              "      <td>53.280000</td>\n",
              "    </tr>\n",
              "    <tr>\n",
              "      <th>25%</th>\n",
              "      <td>5.873000e+03</td>\n",
              "      <td>8.367830e+05</td>\n",
              "      <td>69.500000</td>\n",
              "    </tr>\n",
              "    <tr>\n",
              "      <th>50%</th>\n",
              "      <td>6.265400e+04</td>\n",
              "      <td>6.948395e+06</td>\n",
              "      <td>75.050000</td>\n",
              "    </tr>\n",
              "    <tr>\n",
              "      <th>75%</th>\n",
              "      <td>6.537300e+05</td>\n",
              "      <td>3.369661e+07</td>\n",
              "      <td>79.070000</td>\n",
              "    </tr>\n",
              "    <tr>\n",
              "      <th>max</th>\n",
              "      <td>6.758069e+08</td>\n",
              "      <td>7.975105e+09</td>\n",
              "      <td>86.750000</td>\n",
              "    </tr>\n",
              "  </tbody>\n",
              "</table>\n",
              "</div>\n",
              "      <button class=\"colab-df-convert\" onclick=\"convertToInteractive('df-05110160-6a8f-46c6-b07b-fb73b589e220')\"\n",
              "              title=\"Convert this dataframe to an interactive table.\"\n",
              "              style=\"display:none;\">\n",
              "        \n",
              "  <svg xmlns=\"http://www.w3.org/2000/svg\" height=\"24px\"viewBox=\"0 0 24 24\"\n",
              "       width=\"24px\">\n",
              "    <path d=\"M0 0h24v24H0V0z\" fill=\"none\"/>\n",
              "    <path d=\"M18.56 5.44l.94 2.06.94-2.06 2.06-.94-2.06-.94-.94-2.06-.94 2.06-2.06.94zm-11 1L8.5 8.5l.94-2.06 2.06-.94-2.06-.94L8.5 2.5l-.94 2.06-2.06.94zm10 10l.94 2.06.94-2.06 2.06-.94-2.06-.94-.94-2.06-.94 2.06-2.06.94z\"/><path d=\"M17.41 7.96l-1.37-1.37c-.4-.4-.92-.59-1.43-.59-.52 0-1.04.2-1.43.59L10.3 9.45l-7.72 7.72c-.78.78-.78 2.05 0 2.83L4 21.41c.39.39.9.59 1.41.59.51 0 1.02-.2 1.41-.59l7.78-7.78 2.81-2.81c.8-.78.8-2.07 0-2.86zM5.41 20L4 18.59l7.72-7.72 1.47 1.35L5.41 20z\"/>\n",
              "  </svg>\n",
              "      </button>\n",
              "      \n",
              "  <style>\n",
              "    .colab-df-container {\n",
              "      display:flex;\n",
              "      flex-wrap:wrap;\n",
              "      gap: 12px;\n",
              "    }\n",
              "\n",
              "    .colab-df-convert {\n",
              "      background-color: #E8F0FE;\n",
              "      border: none;\n",
              "      border-radius: 50%;\n",
              "      cursor: pointer;\n",
              "      display: none;\n",
              "      fill: #1967D2;\n",
              "      height: 32px;\n",
              "      padding: 0 0 0 0;\n",
              "      width: 32px;\n",
              "    }\n",
              "\n",
              "    .colab-df-convert:hover {\n",
              "      background-color: #E2EBFA;\n",
              "      box-shadow: 0px 1px 2px rgba(60, 64, 67, 0.3), 0px 1px 3px 1px rgba(60, 64, 67, 0.15);\n",
              "      fill: #174EA6;\n",
              "    }\n",
              "\n",
              "    [theme=dark] .colab-df-convert {\n",
              "      background-color: #3B4455;\n",
              "      fill: #D2E3FC;\n",
              "    }\n",
              "\n",
              "    [theme=dark] .colab-df-convert:hover {\n",
              "      background-color: #434B5C;\n",
              "      box-shadow: 0px 1px 3px 1px rgba(0, 0, 0, 0.15);\n",
              "      filter: drop-shadow(0px 1px 2px rgba(0, 0, 0, 0.3));\n",
              "      fill: #FFFFFF;\n",
              "    }\n",
              "  </style>\n",
              "\n",
              "      <script>\n",
              "        const buttonEl =\n",
              "          document.querySelector('#df-05110160-6a8f-46c6-b07b-fb73b589e220 button.colab-df-convert');\n",
              "        buttonEl.style.display =\n",
              "          google.colab.kernel.accessAllowed ? 'block' : 'none';\n",
              "\n",
              "        async function convertToInteractive(key) {\n",
              "          const element = document.querySelector('#df-05110160-6a8f-46c6-b07b-fb73b589e220');\n",
              "          const dataTable =\n",
              "            await google.colab.kernel.invokeFunction('convertToInteractive',\n",
              "                                                     [key], {});\n",
              "          if (!dataTable) return;\n",
              "\n",
              "          const docLinkHtml = 'Like what you see? Visit the ' +\n",
              "            '<a target=\"_blank\" href=https://colab.research.google.com/notebooks/data_table.ipynb>data table notebook</a>'\n",
              "            + ' to learn more about interactive tables.';\n",
              "          element.innerHTML = '';\n",
              "          dataTable['output_type'] = 'display_data';\n",
              "          await google.colab.output.renderOutput(dataTable, element);\n",
              "          const docLink = document.createElement('div');\n",
              "          docLink.innerHTML = docLinkHtml;\n",
              "          element.appendChild(docLink);\n",
              "        }\n",
              "      </script>\n",
              "    </div>\n",
              "  </div>\n",
              "  "
            ]
          },
          "metadata": {},
          "execution_count": 24
        }
      ]
    },
    {
      "cell_type": "markdown",
      "source": [
        "Os dados estatísticos das variáveis acima estão com os valores bem próximos, e aparentemente não há nenhuma discrepância. Com isso vou utilizar a `média` para preencher os valores ausentes destas variáveis."
      ],
      "metadata": {
        "id": "9hJOuKDgLrCe"
      }
    },
    {
      "cell_type": "code",
      "source": [
        "tc_mean = df_clean['total_cases'].mean()\n",
        "pop_mean = df_clean['population'].mean()\n",
        "le_mean = df_clean['life_expectancy'].mean()\n",
        "\n",
        "df_clean = df_clean.fillna({'total_cases': 'tc_mean'})\n",
        "df_clean = df_clean.fillna({'population': 'pop_mean'})\n",
        "df_clean = df_clean.fillna({'life_expectancy': 'le_mean'})"
      ],
      "metadata": {
        "id": "A7I6RUBIMew6"
      },
      "execution_count": 26,
      "outputs": []
    },
    {
      "cell_type": "markdown",
      "source": [
        "Concluída a etapa de tratamento de valores ausentes, restando apenas a variável `continent` que não entrará nesta análise e será deletada.\n",
        "\n",
        "A próxima etapa será alterar o tipo das variáveis de `float`(número flutuante) para `int`(número inteiro), pois como foi mensionado um pouco acima, não existe 1.5 casos de mortes e nem 0.5 caso confirmados da doença. Vou transformar também a variável `date` que está como `object`(string) para o formato `datetime`(data)."
      ],
      "metadata": {
        "id": "EWrDILe3N7o4"
      }
    },
    {
      "cell_type": "code",
      "source": [
        "# eliminando a variável continent do dataset\n",
        "df_clean.drop('continent', axis=1, inplace=True)"
      ],
      "metadata": {
        "id": "1Z6CNSgbPGAs"
      },
      "execution_count": 28,
      "outputs": []
    },
    {
      "cell_type": "code",
      "source": [
        "# verificando os valores ausentes restantes\n",
        "df_clean.isnull().sum().sort_values(ascending=False)"
      ],
      "metadata": {
        "colab": {
          "base_uri": "https://localhost:8080/"
        },
        "id": "rs5Rt_OiPmrE",
        "outputId": "b0339691-2940-4778-a394-14e72e67a6e4"
      },
      "execution_count": 29,
      "outputs": [
        {
          "output_type": "execute_result",
          "data": {
            "text/plain": [
              "date               0\n",
              "location           0\n",
              "total_cases        0\n",
              "total_deaths       0\n",
              "population         0\n",
              "median_age         0\n",
              "life_expectancy    0\n",
              "gdp_per_capita     0\n",
              "dtype: int64"
            ]
          },
          "metadata": {},
          "execution_count": 29
        }
      ]
    },
    {
      "cell_type": "code",
      "source": [
        "# verificando os tipos das variáveis\n",
        "df_clean.dtypes"
      ],
      "metadata": {
        "colab": {
          "base_uri": "https://localhost:8080/"
        },
        "id": "zv7gPg7yQWC9",
        "outputId": "82f34c28-3510-41cc-fe81-4aac9538ec15"
      },
      "execution_count": 32,
      "outputs": [
        {
          "output_type": "execute_result",
          "data": {
            "text/plain": [
              "date               object\n",
              "location           object\n",
              "total_cases        object\n",
              "total_deaths       object\n",
              "population         object\n",
              "median_age         object\n",
              "life_expectancy    object\n",
              "gdp_per_capita     object\n",
              "dtype: object"
            ]
          },
          "metadata": {},
          "execution_count": 32
        }
      ]
    },
    {
      "cell_type": "code",
      "source": [
        "df_clean.head()"
      ],
      "metadata": {
        "colab": {
          "base_uri": "https://localhost:8080/",
          "height": 206
        },
        "id": "ZVvkXTUwSJNa",
        "outputId": "f9c537e5-2623-4d7c-d8cc-20b27aab1309"
      },
      "execution_count": 33,
      "outputs": [
        {
          "output_type": "execute_result",
          "data": {
            "text/plain": [
              "         date     location total_cases total_deaths  population median_age  \\\n",
              "0  2020-02-24  Afghanistan         5.0    td_median  41128772.0       18.6   \n",
              "1  2020-02-25  Afghanistan         5.0    td_median  41128772.0       18.6   \n",
              "2  2020-02-26  Afghanistan         5.0    td_median  41128772.0       18.6   \n",
              "3  2020-02-27  Afghanistan         5.0    td_median  41128772.0       18.6   \n",
              "4  2020-02-28  Afghanistan         5.0    td_median  41128772.0       18.6   \n",
              "\n",
              "  life_expectancy gdp_per_capita  \n",
              "0           64.83       1803.987  \n",
              "1           64.83       1803.987  \n",
              "2           64.83       1803.987  \n",
              "3           64.83       1803.987  \n",
              "4           64.83       1803.987  "
            ],
            "text/html": [
              "\n",
              "  <div id=\"df-8bfbd2c5-39e2-47f9-af72-d3259f665b12\">\n",
              "    <div class=\"colab-df-container\">\n",
              "      <div>\n",
              "<style scoped>\n",
              "    .dataframe tbody tr th:only-of-type {\n",
              "        vertical-align: middle;\n",
              "    }\n",
              "\n",
              "    .dataframe tbody tr th {\n",
              "        vertical-align: top;\n",
              "    }\n",
              "\n",
              "    .dataframe thead th {\n",
              "        text-align: right;\n",
              "    }\n",
              "</style>\n",
              "<table border=\"1\" class=\"dataframe\">\n",
              "  <thead>\n",
              "    <tr style=\"text-align: right;\">\n",
              "      <th></th>\n",
              "      <th>date</th>\n",
              "      <th>location</th>\n",
              "      <th>total_cases</th>\n",
              "      <th>total_deaths</th>\n",
              "      <th>population</th>\n",
              "      <th>median_age</th>\n",
              "      <th>life_expectancy</th>\n",
              "      <th>gdp_per_capita</th>\n",
              "    </tr>\n",
              "  </thead>\n",
              "  <tbody>\n",
              "    <tr>\n",
              "      <th>0</th>\n",
              "      <td>2020-02-24</td>\n",
              "      <td>Afghanistan</td>\n",
              "      <td>5.0</td>\n",
              "      <td>td_median</td>\n",
              "      <td>41128772.0</td>\n",
              "      <td>18.6</td>\n",
              "      <td>64.83</td>\n",
              "      <td>1803.987</td>\n",
              "    </tr>\n",
              "    <tr>\n",
              "      <th>1</th>\n",
              "      <td>2020-02-25</td>\n",
              "      <td>Afghanistan</td>\n",
              "      <td>5.0</td>\n",
              "      <td>td_median</td>\n",
              "      <td>41128772.0</td>\n",
              "      <td>18.6</td>\n",
              "      <td>64.83</td>\n",
              "      <td>1803.987</td>\n",
              "    </tr>\n",
              "    <tr>\n",
              "      <th>2</th>\n",
              "      <td>2020-02-26</td>\n",
              "      <td>Afghanistan</td>\n",
              "      <td>5.0</td>\n",
              "      <td>td_median</td>\n",
              "      <td>41128772.0</td>\n",
              "      <td>18.6</td>\n",
              "      <td>64.83</td>\n",
              "      <td>1803.987</td>\n",
              "    </tr>\n",
              "    <tr>\n",
              "      <th>3</th>\n",
              "      <td>2020-02-27</td>\n",
              "      <td>Afghanistan</td>\n",
              "      <td>5.0</td>\n",
              "      <td>td_median</td>\n",
              "      <td>41128772.0</td>\n",
              "      <td>18.6</td>\n",
              "      <td>64.83</td>\n",
              "      <td>1803.987</td>\n",
              "    </tr>\n",
              "    <tr>\n",
              "      <th>4</th>\n",
              "      <td>2020-02-28</td>\n",
              "      <td>Afghanistan</td>\n",
              "      <td>5.0</td>\n",
              "      <td>td_median</td>\n",
              "      <td>41128772.0</td>\n",
              "      <td>18.6</td>\n",
              "      <td>64.83</td>\n",
              "      <td>1803.987</td>\n",
              "    </tr>\n",
              "  </tbody>\n",
              "</table>\n",
              "</div>\n",
              "      <button class=\"colab-df-convert\" onclick=\"convertToInteractive('df-8bfbd2c5-39e2-47f9-af72-d3259f665b12')\"\n",
              "              title=\"Convert this dataframe to an interactive table.\"\n",
              "              style=\"display:none;\">\n",
              "        \n",
              "  <svg xmlns=\"http://www.w3.org/2000/svg\" height=\"24px\"viewBox=\"0 0 24 24\"\n",
              "       width=\"24px\">\n",
              "    <path d=\"M0 0h24v24H0V0z\" fill=\"none\"/>\n",
              "    <path d=\"M18.56 5.44l.94 2.06.94-2.06 2.06-.94-2.06-.94-.94-2.06-.94 2.06-2.06.94zm-11 1L8.5 8.5l.94-2.06 2.06-.94-2.06-.94L8.5 2.5l-.94 2.06-2.06.94zm10 10l.94 2.06.94-2.06 2.06-.94-2.06-.94-.94-2.06-.94 2.06-2.06.94z\"/><path d=\"M17.41 7.96l-1.37-1.37c-.4-.4-.92-.59-1.43-.59-.52 0-1.04.2-1.43.59L10.3 9.45l-7.72 7.72c-.78.78-.78 2.05 0 2.83L4 21.41c.39.39.9.59 1.41.59.51 0 1.02-.2 1.41-.59l7.78-7.78 2.81-2.81c.8-.78.8-2.07 0-2.86zM5.41 20L4 18.59l7.72-7.72 1.47 1.35L5.41 20z\"/>\n",
              "  </svg>\n",
              "      </button>\n",
              "      \n",
              "  <style>\n",
              "    .colab-df-container {\n",
              "      display:flex;\n",
              "      flex-wrap:wrap;\n",
              "      gap: 12px;\n",
              "    }\n",
              "\n",
              "    .colab-df-convert {\n",
              "      background-color: #E8F0FE;\n",
              "      border: none;\n",
              "      border-radius: 50%;\n",
              "      cursor: pointer;\n",
              "      display: none;\n",
              "      fill: #1967D2;\n",
              "      height: 32px;\n",
              "      padding: 0 0 0 0;\n",
              "      width: 32px;\n",
              "    }\n",
              "\n",
              "    .colab-df-convert:hover {\n",
              "      background-color: #E2EBFA;\n",
              "      box-shadow: 0px 1px 2px rgba(60, 64, 67, 0.3), 0px 1px 3px 1px rgba(60, 64, 67, 0.15);\n",
              "      fill: #174EA6;\n",
              "    }\n",
              "\n",
              "    [theme=dark] .colab-df-convert {\n",
              "      background-color: #3B4455;\n",
              "      fill: #D2E3FC;\n",
              "    }\n",
              "\n",
              "    [theme=dark] .colab-df-convert:hover {\n",
              "      background-color: #434B5C;\n",
              "      box-shadow: 0px 1px 3px 1px rgba(0, 0, 0, 0.15);\n",
              "      filter: drop-shadow(0px 1px 2px rgba(0, 0, 0, 0.3));\n",
              "      fill: #FFFFFF;\n",
              "    }\n",
              "  </style>\n",
              "\n",
              "      <script>\n",
              "        const buttonEl =\n",
              "          document.querySelector('#df-8bfbd2c5-39e2-47f9-af72-d3259f665b12 button.colab-df-convert');\n",
              "        buttonEl.style.display =\n",
              "          google.colab.kernel.accessAllowed ? 'block' : 'none';\n",
              "\n",
              "        async function convertToInteractive(key) {\n",
              "          const element = document.querySelector('#df-8bfbd2c5-39e2-47f9-af72-d3259f665b12');\n",
              "          const dataTable =\n",
              "            await google.colab.kernel.invokeFunction('convertToInteractive',\n",
              "                                                     [key], {});\n",
              "          if (!dataTable) return;\n",
              "\n",
              "          const docLinkHtml = 'Like what you see? Visit the ' +\n",
              "            '<a target=\"_blank\" href=https://colab.research.google.com/notebooks/data_table.ipynb>data table notebook</a>'\n",
              "            + ' to learn more about interactive tables.';\n",
              "          element.innerHTML = '';\n",
              "          dataTable['output_type'] = 'display_data';\n",
              "          await google.colab.output.renderOutput(dataTable, element);\n",
              "          const docLink = document.createElement('div');\n",
              "          docLink.innerHTML = docLinkHtml;\n",
              "          element.appendChild(docLink);\n",
              "        }\n",
              "      </script>\n",
              "    </div>\n",
              "  </div>\n",
              "  "
            ]
          },
          "metadata": {},
          "execution_count": 33
        }
      ]
    },
    {
      "cell_type": "markdown",
      "source": [
        "* *Transforme a coluna `date` no formato `datetime`*\n",
        "    * `df.date = pd.to_datetime(df.date)`\n",
        "* *Ver para a data mais atual, quais os países que têm mais casos e mortes. Veja o exemplo:*\n",
        "    * `df.loc[df.date == '2020-06-14'].sort_values(by=\"total_cases\", ascending=False)`\n",
        "    * `df.loc[df.date == '2020-06-14'].sort_values(by=\"total_deaths\", ascending=False)`\n",
        "* Plotar um gráfico de barras para os 5 países com mais mortes\n",
        "    * `df.loc[df.date == '2020-06-14', ['location', 'total_deaths']].sort_values(by=\"total_deaths\", ascending=False)[1:6]`\n",
        "    * `ax.bar('location', 'total_deaths', data=top5_total_deaths)`\n",
        "* Plotar um gráfico de linhas para ver a evolução do total de casos de COVID-19 no mundo.\n",
        "    * `df.loc[df.location == \"World\", \"total_deaths\"].reset_index(drop=True).plot()`\n",
        "* [OPCIONAL] Plotar um gráfico de dispersão considerando `gdp_per_capita` (ou seja, o PIB dos países) pelo número total de mortos. Pegue a data mais recente apenas.\n",
        "    * Lembre-se que não é nada conclusivo, pois envolve fatores como proporcão de testes, etc."
      ],
      "metadata": {
        "id": "VZF-4KEOH8cD"
      }
    },
    {
      "cell_type": "markdown",
      "metadata": {
        "id": "SViA5VZ7DYLA"
      },
      "source": [
        "* Criar uma cópia do DataFrame apenas com o Brasil\n",
        "    * `df_brasil = df.loc[df.location == \"Brazil\"].copy()`\n",
        "* Identificar quando foi registrada a primeira morte no Brasil\n",
        "* Identificar quantos dias demorou para registrarmos a primeira morte, considerando o primeiro caso de COVID-19 registrado.\n",
        "* Plotar gráficos de linha em escalas linear e logarítmica para os casos totais e mortes totais."
      ]
    },
    {
      "cell_type": "code",
      "metadata": {
        "id": "UDQA502_hAwI"
      },
      "source": [],
      "execution_count": null,
      "outputs": []
    },
    {
      "cell_type": "markdown",
      "metadata": {
        "id": "LCsiXvM3BcsO"
      },
      "source": [
        "## Conclusão"
      ]
    }
  ]
}